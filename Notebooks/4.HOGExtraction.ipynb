{
 "cells": [
  {
   "cell_type": "code",
   "execution_count": 1,
   "metadata": {},
   "outputs": [],
   "source": [
    "import os\n",
    "import numpy as np\n",
    "import pandas as pd\n",
    "import matplotlib.pyplot as plt\n",
    "import seaborn as sns\n",
    "import cv2\n",
    "from pathlib import Path\n",
    "from tqdm import tqdm\n",
    "import joblib\n",
    "from skimage.feature import hog\n"
   ]
  },
  {
   "cell_type": "code",
   "execution_count": 2,
   "metadata": {},
   "outputs": [
    {
     "name": "stdout",
     "output_type": "stream",
     "text": [
      "Paths set up successfully.\n"
     ]
    }
   ],
   "source": [
    "plt.style.use('ggplot')\n",
    "\n",
    "projectRoot = Path().resolve().parent\n",
    "datasetPath = projectRoot / \"CV2024_CW_Dataset\"\n",
    "outputRoot = projectRoot / \"ModifiedDataset\"\n",
    "\n",
    "trainOutputPath = outputRoot / \"train\" / \"images\"\n",
    "trainOutputLabelPath = outputRoot / \"train\" / \"labels\"\n",
    "testOutputPath = outputRoot / \"test\" / \"images\"\n",
    "testOutputLabelPath = outputRoot / \"test\" / \"labels\"\n",
    "valOutputPath = outputRoot / \"validation\" / \"images\"\n",
    "valOutputLabelPath = outputRoot / \"validation\" / \"labels\"\n",
    "\n",
    "# features directory\n",
    "featuresDir = outputRoot / \"features\"\n",
    "featuresDir.mkdir(parents=True, exist_ok=True)\n",
    "\n",
    "for path in [trainOutputPath, trainOutputLabelPath, testOutputPath, testOutputLabelPath, valOutputPath, valOutputLabelPath]:\n",
    "    if not path.exists():\n",
    "        print(f\"Warning: Path {path} does not exist\")\n",
    "\n",
    "print(\"Paths set up successfully.\")"
   ]
  },
  {
   "cell_type": "code",
   "execution_count": 3,
   "metadata": {},
   "outputs": [],
   "source": [
    "def extract_dataset_features(image_paths, label_paths, hog_params=None):\n",
    "    if hog_params is None:\n",
    "        hog_params = {\n",
    "            'orientations': 9,\n",
    "            'pixels_per_cell': (8, 8),\n",
    "            'cells_per_block': (2, 2)\n",
    "        }\n",
    "    \n",
    "    features = []\n",
    "    labels = []\n",
    "    \n",
    "    #extract features/labels\n",
    "    for img_path, label_path in tqdm(zip(image_paths, label_paths), total=len(image_paths), desc=\"Extracting HOG features\"):\n",
    "        \n",
    "        image = cv2.imread(img_path, cv2.IMREAD_GRAYSCALE)\n",
    "        with open(label_path, 'r') as f:\n",
    "            label = int(f.read().strip())\n",
    "        \n",
    "        # extract HOG features\n",
    "        hog_features = compute_hog_features(\n",
    "            image,\n",
    "            orientations=hog_params['orientations'],\n",
    "            pixels_per_cell=hog_params['pixels_per_cell'],\n",
    "            cells_per_block=hog_params['cells_per_block']\n",
    "        )\n",
    "        \n",
    "        features.append(hog_features)\n",
    "        labels.append(label)\n",
    "    \n",
    "    return np.array(features), np.array(labels)"
   ]
  },
  {
   "cell_type": "code",
   "execution_count": 4,
   "metadata": {},
   "outputs": [],
   "source": [
    "def prepare_dataset_features(dataset_path, output_path, dataset_type, hog_params=None):\n",
    "    #define paths\n",
    "    images_path = os.path.join(dataset_path, dataset_type, \"images\")\n",
    "    labels_path = os.path.join(dataset_path, dataset_type, \"labels\")\n",
    "    \n",
    "    # get all image files\n",
    "    image_files = sorted([f for f in os.listdir(images_path) if f.endswith('.jpeg')])\n",
    "    \n",
    "    image_paths = [os.path.join(images_path, f) for f in image_files]\n",
    "    label_paths = [os.path.join(labels_path, f.replace('.jpeg', '.txt')) for f in image_files]\n",
    "    \n",
    "    X, y = extract_dataset_features(image_paths, label_paths, hog_params)\n",
    "    \n",
    "    os.makedirs(output_path, exist_ok=True)\n",
    "    \n",
    "    # Save features/labels\n",
    "    joblib.dump((X, y), os.path.join(output_path, f\"{dataset_type}_hog_features.joblib\"))\n",
    "    \n",
    "    print(f\"Saved {dataset_type} HOG features with shape {X.shape}\")\n",
    "    return X, y"
   ]
  },
  {
   "cell_type": "code",
   "execution_count": 5,
   "metadata": {},
   "outputs": [],
   "source": [
    "def visualize_hog_features(image_path, hog_params=None):\n",
    "    if hog_params is None:\n",
    "        hog_params = {\n",
    "            'orientations': 9,\n",
    "            'pixels_per_cell': (8, 8),\n",
    "            'cells_per_block': (2, 2)\n",
    "        }\n",
    "    \n",
    "    # Read image\n",
    "    image = cv2.imread(image_path, cv2.IMREAD_GRAYSCALE)\n",
    "    \n",
    "    # Normalize pixel values\n",
    "    if image.max() > 1:\n",
    "        image_normalized = image / 255.0\n",
    "    else:\n",
    "        image_normalized = image.copy()\n",
    "    \n",
    "    # Extract HOG features with visualization\n",
    "    hog_features, hog_image = compute_hog_features(\n",
    "        image_normalized,\n",
    "        orientations=hog_params['orientations'],\n",
    "        pixels_per_cell=hog_params['pixels_per_cell'],\n",
    "        cells_per_block=hog_params['cells_per_block'],\n",
    "        visualize=True\n",
    "    )\n",
    "    \n",
    "    return image, hog_image"
   ]
  },
  {
   "cell_type": "code",
   "execution_count": 6,
   "metadata": {},
   "outputs": [],
   "source": [
    "def optimize_hog_parameters(sample_images, sample_labels, param_grid):\n",
    "    from sklearn.model_selection import GridSearchCV\n",
    "    from sklearn.svm import SVC\n",
    "    \n",
    "    # define parameter grid\n",
    "    orientations = param_grid.get('orientations', [9])\n",
    "    pixels_per_cells = param_grid.get('pixels_per_cell', [(8, 8)])\n",
    "    cells_per_blocks = param_grid.get('cells_per_block', [(2, 2)])\n",
    "    \n",
    "    # store results\n",
    "    results = []\n",
    "    \n",
    "    total_combinations = len(orientations) * len(pixels_per_cells) * len(cells_per_blocks)\n",
    "    pbar = tqdm(total=total_combinations, desc=\"Optimizing HOG parameters\")\n",
    "    \n",
    "    for orientation in orientations:\n",
    "        for pixels_per_cell in pixels_per_cells:\n",
    "            for cells_per_block in cells_per_blocks:\n",
    "                hog_params = {\n",
    "                    'orientations': orientation,\n",
    "                    'pixels_per_cell': pixels_per_cell,\n",
    "                    'cells_per_block': cells_per_block\n",
    "                }\n",
    "                \n",
    "                # extract features for samples\n",
    "                sample_features = []\n",
    "                for img_path in sample_images:\n",
    "                    img = cv2.imread(img_path, cv2.IMREAD_GRAYSCALE)\n",
    "                    features = compute_hog_features(img, **hog_params)\n",
    "                    sample_features.append(features)\n",
    "                \n",
    "                # Train a simple SVM\n",
    "                svm = SVC(kernel='linear')\n",
    "                svm.fit(sample_features, sample_labels)\n",
    "                score = svm.score(sample_features, sample_labels)\n",
    "                \n",
    "                # Store results\n",
    "                results.append({\n",
    "                    'params': hog_params,\n",
    "                    'score': score,\n",
    "                    'feature_dim': len(sample_features[0])\n",
    "                })\n",
    "                \n",
    "                pbar.update(1)\n",
    "    \n",
    "    pbar.close()\n",
    "    \n",
    "    # find best parameters\n",
    "    results.sort(key=lambda x: x['score'], reverse=True)\n",
    "    best_params = results[0]['params']\n",
    "    \n",
    "    print(f\"Best HOG parameters: {best_params} with score {results[0]['score']:.4f}\")\n",
    "    print(f\"Feature dimension: {results[0]['feature_dim']}\")\n",
    "    \n",
    "    return best_params"
   ]
  },
  {
   "cell_type": "code",
   "execution_count": 7,
   "metadata": {},
   "outputs": [],
   "source": [
    "def display_sample_hog_features(image_paths, hog_params=None, num_samples=3):\n",
    "    import random\n",
    "    \n",
    "    # get random samples\n",
    "    if len(image_paths) > num_samples:\n",
    "        sample_paths = random.sample(image_paths, num_samples)\n",
    "    else:\n",
    "        sample_paths = image_paths\n",
    "    \n",
    "    fig, axes = plt.subplots(num_samples, 2, figsize=(10, 4 * num_samples))\n",
    "    \n",
    "    for i, img_path in enumerate(sample_paths):\n",
    "        # get original image and HOG visualization\n",
    "        original, hog_img = visualize_hog_features(img_path, hog_params)\n",
    "        \n",
    "        #display original image\n",
    "        axes[i, 0].imshow(original, cmap='gray')\n",
    "        axes[i, 0].set_title(f\"Original Image\")\n",
    "        axes[i, 0].axis('off')\n",
    "        \n",
    "        # display HOG features\n",
    "        axes[i, 1].imshow(hog_img, cmap='gray')\n",
    "        axes[i, 1].set_title(f\"HOG Features\")\n",
    "        axes[i, 1].axis('off')\n",
    "    \n",
    "    plt.tight_layout()\n",
    "    plt.show()"
   ]
  },
  {
   "cell_type": "code",
   "execution_count": 8,
   "metadata": {},
   "outputs": [
    {
     "name": "stdout",
     "output_type": "stream",
     "text": [
      "Extracting HOG features from datasets...\n"
     ]
    },
    {
     "name": "stderr",
     "output_type": "stream",
     "text": [
      "Extracting HOG features:   0%|                                                                                                                                | 0/1916 [00:00<?, ?it/s]\n"
     ]
    },
    {
     "ename": "NameError",
     "evalue": "name 'compute_hog_features' is not defined",
     "output_type": "error",
     "traceback": [
      "\u001b[1;31m---------------------------------------------------------------------------\u001b[0m",
      "\u001b[1;31mNameError\u001b[0m                                 Traceback (most recent call last)",
      "Cell \u001b[1;32mIn[8], line 14\u001b[0m\n\u001b[0;32m     11\u001b[0m \u001b[38;5;28mprint\u001b[39m(\u001b[38;5;124m\"\u001b[39m\u001b[38;5;124mExtracting HOG features from datasets...\u001b[39m\u001b[38;5;124m\"\u001b[39m)\n\u001b[0;32m     13\u001b[0m \u001b[38;5;66;03m# Training set\u001b[39;00m\n\u001b[1;32m---> 14\u001b[0m X_train, y_train \u001b[38;5;241m=\u001b[39m \u001b[43mprepare_dataset_features\u001b[49m\u001b[43m(\u001b[49m\n\u001b[0;32m     15\u001b[0m \u001b[43m    \u001b[49m\u001b[38;5;28;43mstr\u001b[39;49m\u001b[43m(\u001b[49m\u001b[43moutputRoot\u001b[49m\u001b[43m)\u001b[49m\u001b[43m,\u001b[49m\n\u001b[0;32m     16\u001b[0m \u001b[43m    \u001b[49m\u001b[38;5;28;43mstr\u001b[39;49m\u001b[43m(\u001b[49m\u001b[43mfeatures_dir\u001b[49m\u001b[43m)\u001b[49m\u001b[43m,\u001b[49m\n\u001b[0;32m     17\u001b[0m \u001b[43m    \u001b[49m\u001b[38;5;124;43m\"\u001b[39;49m\u001b[38;5;124;43mtrain\u001b[39;49m\u001b[38;5;124;43m\"\u001b[39;49m\u001b[43m,\u001b[49m\n\u001b[0;32m     18\u001b[0m \u001b[43m    \u001b[49m\u001b[43mhog_params\u001b[49m\u001b[38;5;241;43m=\u001b[39;49m\u001b[43mhog_params\u001b[49m\n\u001b[0;32m     19\u001b[0m \u001b[43m)\u001b[49m\n\u001b[0;32m     21\u001b[0m \u001b[38;5;66;03m# Validation set\u001b[39;00m\n\u001b[0;32m     22\u001b[0m X_val, y_val \u001b[38;5;241m=\u001b[39m prepare_dataset_features(\n\u001b[0;32m     23\u001b[0m     \u001b[38;5;28mstr\u001b[39m(outputRoot),\n\u001b[0;32m     24\u001b[0m     \u001b[38;5;28mstr\u001b[39m(features_dir),\n\u001b[0;32m     25\u001b[0m     \u001b[38;5;124m\"\u001b[39m\u001b[38;5;124mvalidation\u001b[39m\u001b[38;5;124m\"\u001b[39m,\n\u001b[0;32m     26\u001b[0m     hog_params\u001b[38;5;241m=\u001b[39mhog_params\n\u001b[0;32m     27\u001b[0m )\n",
      "Cell \u001b[1;32mIn[4], line 12\u001b[0m, in \u001b[0;36mprepare_dataset_features\u001b[1;34m(dataset_path, output_path, dataset_type, hog_params)\u001b[0m\n\u001b[0;32m      9\u001b[0m image_paths \u001b[38;5;241m=\u001b[39m [os\u001b[38;5;241m.\u001b[39mpath\u001b[38;5;241m.\u001b[39mjoin(images_path, f) \u001b[38;5;28;01mfor\u001b[39;00m f \u001b[38;5;129;01min\u001b[39;00m image_files]\n\u001b[0;32m     10\u001b[0m label_paths \u001b[38;5;241m=\u001b[39m [os\u001b[38;5;241m.\u001b[39mpath\u001b[38;5;241m.\u001b[39mjoin(labels_path, f\u001b[38;5;241m.\u001b[39mreplace(\u001b[38;5;124m'\u001b[39m\u001b[38;5;124m.jpeg\u001b[39m\u001b[38;5;124m'\u001b[39m, \u001b[38;5;124m'\u001b[39m\u001b[38;5;124m.txt\u001b[39m\u001b[38;5;124m'\u001b[39m)) \u001b[38;5;28;01mfor\u001b[39;00m f \u001b[38;5;129;01min\u001b[39;00m image_files]\n\u001b[1;32m---> 12\u001b[0m X, y \u001b[38;5;241m=\u001b[39m \u001b[43mextract_dataset_features\u001b[49m\u001b[43m(\u001b[49m\u001b[43mimage_paths\u001b[49m\u001b[43m,\u001b[49m\u001b[43m \u001b[49m\u001b[43mlabel_paths\u001b[49m\u001b[43m,\u001b[49m\u001b[43m \u001b[49m\u001b[43mhog_params\u001b[49m\u001b[43m)\u001b[49m\n\u001b[0;32m     14\u001b[0m os\u001b[38;5;241m.\u001b[39mmakedirs(output_path, exist_ok\u001b[38;5;241m=\u001b[39m\u001b[38;5;28;01mTrue\u001b[39;00m)\n\u001b[0;32m     16\u001b[0m \u001b[38;5;66;03m# Save features/labels\u001b[39;00m\n",
      "Cell \u001b[1;32mIn[3], line 20\u001b[0m, in \u001b[0;36mextract_dataset_features\u001b[1;34m(image_paths, label_paths, hog_params)\u001b[0m\n\u001b[0;32m     17\u001b[0m     label \u001b[38;5;241m=\u001b[39m \u001b[38;5;28mint\u001b[39m(f\u001b[38;5;241m.\u001b[39mread()\u001b[38;5;241m.\u001b[39mstrip())\n\u001b[0;32m     19\u001b[0m \u001b[38;5;66;03m# extract HOG features\u001b[39;00m\n\u001b[1;32m---> 20\u001b[0m hog_features \u001b[38;5;241m=\u001b[39m \u001b[43mcompute_hog_features\u001b[49m(\n\u001b[0;32m     21\u001b[0m     image,\n\u001b[0;32m     22\u001b[0m     orientations\u001b[38;5;241m=\u001b[39mhog_params[\u001b[38;5;124m'\u001b[39m\u001b[38;5;124morientations\u001b[39m\u001b[38;5;124m'\u001b[39m],\n\u001b[0;32m     23\u001b[0m     pixels_per_cell\u001b[38;5;241m=\u001b[39mhog_params[\u001b[38;5;124m'\u001b[39m\u001b[38;5;124mpixels_per_cell\u001b[39m\u001b[38;5;124m'\u001b[39m],\n\u001b[0;32m     24\u001b[0m     cells_per_block\u001b[38;5;241m=\u001b[39mhog_params[\u001b[38;5;124m'\u001b[39m\u001b[38;5;124mcells_per_block\u001b[39m\u001b[38;5;124m'\u001b[39m]\n\u001b[0;32m     25\u001b[0m )\n\u001b[0;32m     27\u001b[0m features\u001b[38;5;241m.\u001b[39mappend(hog_features)\n\u001b[0;32m     28\u001b[0m labels\u001b[38;5;241m.\u001b[39mappend(label)\n",
      "\u001b[1;31mNameError\u001b[0m: name 'compute_hog_features' is not defined"
     ]
    }
   ],
   "source": [
    "#feature extraction parameters\n",
    "hog_params = {\n",
    "    'orientations': 9,        \n",
    "    'pixels_per_cell': (8, 8), \n",
    "    'cells_per_block': (2, 2)  \n",
    "}\n",
    "\n",
    "features_dir = outputRoot / \"features\"\n",
    "features_dir.mkdir(parents=True, exist_ok=True)\n",
    "\n",
    "print(\"Extracting HOG features from datasets...\")\n",
    "\n",
    "# Training set\n",
    "X_train, y_train = prepare_dataset_features(\n",
    "    str(outputRoot),\n",
    "    str(features_dir),\n",
    "    \"train\",\n",
    "    hog_params=hog_params\n",
    ")\n",
    "\n",
    "# Validation set\n",
    "X_val, y_val = prepare_dataset_features(\n",
    "    str(outputRoot),\n",
    "    str(features_dir),\n",
    "    \"validation\",\n",
    "    hog_params=hog_params\n",
    ")\n",
    "\n",
    "# Test set\n",
    "X_test, y_test = prepare_dataset_features(\n",
    "    str(outputRoot),\n",
    "    str(features_dir),\n",
    "    \"test\",\n",
    "    hog_params=hog_params\n",
    ")\n",
    "\n",
    "print(\"HOG feature extraction complete!\")\n",
    "print(f\"Training features shape: {X_train.shape}\")\n",
    "print(f\"Validation features shape: {X_val.shape}\")\n",
    "print(f\"Test features shape: {X_test.shape}\")"
   ]
  },
  {
   "cell_type": "code",
   "execution_count": 9,
   "metadata": {},
   "outputs": [
    {
     "name": "stdout",
     "output_type": "stream",
     "text": [
      "Displaying HOG features for sample images...\n"
     ]
    },
    {
     "ename": "NameError",
     "evalue": "name 'compute_hog_features' is not defined",
     "output_type": "error",
     "traceback": [
      "\u001b[1;31m---------------------------------------------------------------------------\u001b[0m",
      "\u001b[1;31mNameError\u001b[0m                                 Traceback (most recent call last)",
      "Cell \u001b[1;32mIn[9], line 10\u001b[0m\n\u001b[0;32m      7\u001b[0m train_image_paths \u001b[38;5;241m=\u001b[39m [os\u001b[38;5;241m.\u001b[39mpath\u001b[38;5;241m.\u001b[39mjoin(train_image_dir, f) \u001b[38;5;28;01mfor\u001b[39;00m f \u001b[38;5;129;01min\u001b[39;00m train_image_files]\n\u001b[0;32m      9\u001b[0m \u001b[38;5;66;03m# display HOG features for sample imgs\u001b[39;00m\n\u001b[1;32m---> 10\u001b[0m \u001b[43mdisplay_sample_hog_features\u001b[49m\u001b[43m(\u001b[49m\u001b[43mtrain_image_paths\u001b[49m\u001b[43m,\u001b[49m\u001b[43m \u001b[49m\u001b[43mhog_params\u001b[49m\u001b[43m,\u001b[49m\u001b[43m \u001b[49m\u001b[43mnum_samples\u001b[49m\u001b[38;5;241;43m=\u001b[39;49m\u001b[38;5;241;43m4\u001b[39;49m\u001b[43m)\u001b[49m\n",
      "Cell \u001b[1;32mIn[7], line 14\u001b[0m, in \u001b[0;36mdisplay_sample_hog_features\u001b[1;34m(image_paths, hog_params, num_samples)\u001b[0m\n\u001b[0;32m     10\u001b[0m fig, axes \u001b[38;5;241m=\u001b[39m plt\u001b[38;5;241m.\u001b[39msubplots(num_samples, \u001b[38;5;241m2\u001b[39m, figsize\u001b[38;5;241m=\u001b[39m(\u001b[38;5;241m10\u001b[39m, \u001b[38;5;241m4\u001b[39m \u001b[38;5;241m*\u001b[39m num_samples))\n\u001b[0;32m     12\u001b[0m \u001b[38;5;28;01mfor\u001b[39;00m i, img_path \u001b[38;5;129;01min\u001b[39;00m \u001b[38;5;28menumerate\u001b[39m(sample_paths):\n\u001b[0;32m     13\u001b[0m     \u001b[38;5;66;03m# get original image and HOG visualization\u001b[39;00m\n\u001b[1;32m---> 14\u001b[0m     original, hog_img \u001b[38;5;241m=\u001b[39m \u001b[43mvisualize_hog_features\u001b[49m\u001b[43m(\u001b[49m\u001b[43mimg_path\u001b[49m\u001b[43m,\u001b[49m\u001b[43m \u001b[49m\u001b[43mhog_params\u001b[49m\u001b[43m)\u001b[49m\n\u001b[0;32m     16\u001b[0m     \u001b[38;5;66;03m#display original image\u001b[39;00m\n\u001b[0;32m     17\u001b[0m     axes[i, \u001b[38;5;241m0\u001b[39m]\u001b[38;5;241m.\u001b[39mimshow(original, cmap\u001b[38;5;241m=\u001b[39m\u001b[38;5;124m'\u001b[39m\u001b[38;5;124mgray\u001b[39m\u001b[38;5;124m'\u001b[39m)\n",
      "Cell \u001b[1;32mIn[5], line 19\u001b[0m, in \u001b[0;36mvisualize_hog_features\u001b[1;34m(image_path, hog_params)\u001b[0m\n\u001b[0;32m     16\u001b[0m     image_normalized \u001b[38;5;241m=\u001b[39m image\u001b[38;5;241m.\u001b[39mcopy()\n\u001b[0;32m     18\u001b[0m \u001b[38;5;66;03m# Extract HOG features with visualization\u001b[39;00m\n\u001b[1;32m---> 19\u001b[0m hog_features, hog_image \u001b[38;5;241m=\u001b[39m \u001b[43mcompute_hog_features\u001b[49m(\n\u001b[0;32m     20\u001b[0m     image_normalized,\n\u001b[0;32m     21\u001b[0m     orientations\u001b[38;5;241m=\u001b[39mhog_params[\u001b[38;5;124m'\u001b[39m\u001b[38;5;124morientations\u001b[39m\u001b[38;5;124m'\u001b[39m],\n\u001b[0;32m     22\u001b[0m     pixels_per_cell\u001b[38;5;241m=\u001b[39mhog_params[\u001b[38;5;124m'\u001b[39m\u001b[38;5;124mpixels_per_cell\u001b[39m\u001b[38;5;124m'\u001b[39m],\n\u001b[0;32m     23\u001b[0m     cells_per_block\u001b[38;5;241m=\u001b[39mhog_params[\u001b[38;5;124m'\u001b[39m\u001b[38;5;124mcells_per_block\u001b[39m\u001b[38;5;124m'\u001b[39m],\n\u001b[0;32m     24\u001b[0m     visualize\u001b[38;5;241m=\u001b[39m\u001b[38;5;28;01mTrue\u001b[39;00m\n\u001b[0;32m     25\u001b[0m )\n\u001b[0;32m     27\u001b[0m \u001b[38;5;28;01mreturn\u001b[39;00m image, hog_image\n",
      "\u001b[1;31mNameError\u001b[0m: name 'compute_hog_features' is not defined"
     ]
    },
    {
     "data": {
      "image/png": "[encoded data removed]",
      "text/plain": [
       "<Figure size 1000x1600 with 8 Axes>"
      ]
     },
     "metadata": {},
     "output_type": "display_data"
    }
   ],
   "source": [
    "# Visualize HOG features \n",
    "print(\"Displaying HOG features for sample images...\")\n",
    "\n",
    "# path to some training imgs\n",
    "train_image_dir = str(trainOutputPath)\n",
    "train_image_files = sorted([f for f in os.listdir(train_image_dir) if f.endswith('.jpeg')])\n",
    "train_image_paths = [os.path.join(train_image_dir, f) for f in train_image_files]\n",
    "\n",
    "# display HOG features for sample imgs\n",
    "display_sample_hog_features(train_image_paths, hog_params, num_samples=4)"
   ]
  },
  {
   "cell_type": "code",
   "execution_count": null,
   "metadata": {},
   "outputs": [],
   "source": []
  },
  {
   "cell_type": "code",
   "execution_count": null,
   "metadata": {},
   "outputs": [],
   "source": []
  }
 ],
 "metadata": {
  "kernelspec": {
   "display_name": "Python (cv_env)",
   "language": "python",
   "name": "cv_env"
  },
  "language_info": {
   "codemirror_mode": {
    "name": "ipython",
    "version": 3
   },
   "file_extension": ".py",
   "mimetype": "text/x-python",
   "name": "python",
   "nbconvert_exporter": "python",
   "pygments_lexer": "ipython3",
   "version": "3.10.0"
  }
 },
 "nbformat": 4,
 "nbformat_minor": 4
}
