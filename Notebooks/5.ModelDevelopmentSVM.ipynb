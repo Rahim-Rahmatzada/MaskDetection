{
 "cells": [
  {
   "cell_type": "markdown",
   "metadata": {
    "collapsed": true,
    "jupyter": {
     "outputs_hidden": true
    }
   },
   "source": [
    "# SVM+HOG\n",
    "\n",
    "- Extract HOG features with tunable params\n",
    "- Flatten features and scale with StandardScaler\n",
    "- Use shallow MLP (1 hidden layer) with ReLU, Dropout, and Linear output (3 classes)\n",
    "- Optimise MLP hyperparameters (hidden size, LR, dropout) and HOG params jointly with Optuna"
   ]
  },
  {
   "cell_type": "code",
   "execution_count": 21,
   "metadata": {},
   "outputs": [],
   "source": [
    "#imports\n",
    "import os\n",
    "import numpy as np\n",
    "import pandas as pd\n",
    "import matplotlib.pyplot as plt\n",
    "import seaborn as sns\n",
    "import cv2\n",
    "import json\n",
    "import joblib\n",
    "import optuna\n",
    "from pathlib import Path\n",
    "from tqdm import tqdm\n",
    "from skimage.feature import hog\n",
    "from sklearn.model_selection import StratifiedKFold\n",
    "from sklearn.svm import SVC as CPU_SVC\n",
    "from sklearn.preprocessing import StandardScaler as CPU_StandardScaler\n",
    "from sklearn.metrics import accuracy_score, classification_report, confusion_matrix\n",
    "import warnings\n",
    "warnings.filterwarnings('ignore')\n",
    "plt.style.use('ggplot')\n"
   ]
  },
  {
   "cell_type": "code",
   "execution_count": 22,
   "metadata": {},
   "outputs": [
    {
     "name": "stdout",
     "output_type": "stream",
     "text": [
      "GPU acceleration available\n"
     ]
    }
   ],
   "source": [
    "# GPU/CPU Setup\n",
    "try:\n",
    "    import cupy as cp\n",
    "    from cuml.svm import SVC as GPU_SVC\n",
    "    from cuml.preprocessing import StandardScaler as GPU_StandardScaler\n",
    "    has_gpu = True\n",
    "    print(\"GPU acceleration available\")\n",
    "except ImportError:\n",
    "    has_gpu = False\n",
    "    print(\"GPU acceleration not available, using CPU only\")\n",
    "    cp = np\n",
    "    GPU_SVC = CPU_SVC\n",
    "    GPU_StandardScaler = CPU_StandardScaler\n"
   ]
  },
  {
   "cell_type": "code",
   "execution_count": 23,
   "metadata": {},
   "outputs": [
    {
     "name": "stdout",
     "output_type": "stream",
     "text": [
      "Paths set up successfully. Found k-fold splits.\n"
     ]
    }
   ],
   "source": [
    "# %%\n",
    "#path Setup and K-fold Split Loading\n",
    "projectRoot = Path().resolve().parent\n",
    "datasetPath = projectRoot / \"CV2024_CW_Dataset\"\n",
    "outputRoot = projectRoot / \"ModifiedDataset\"\n",
    "\n",
    "trainImagePath = outputRoot / \"train\" / \"images\"\n",
    "trainLabelPath = outputRoot / \"train\" / \"labels\"\n",
    "testImagePath = outputRoot / \"test\" / \"images\"\n",
    "testLabelPath = outputRoot / \"test\" / \"labels\"\n",
    "augDataPath = outputRoot / \"AugmentedData\" / \"images\"\n",
    "augLabelPath = outputRoot / \"AugmentedData\" / \"labels\"\n",
    "\n",
    "modelsDir = projectRoot / \"models\"\n",
    "modelsDir.mkdir(parents=True, exist_ok=True)\n",
    "\n",
    "for path in [trainImagePath, trainLabelPath, testImagePath, testLabelPath, augDataPath, augLabelPath]:\n",
    "    if not path.exists():\n",
    "        print(f\"Warning: Path {path} does not exist\")\n",
    "\n",
    "with open(outputRoot / \"kfold_splits.json\", \"r\") as f:\n",
    "    kfold_splits = json.load(f)\n",
    "\n",
    "print(\"Paths set up successfully. Found k-fold splits.\")\n"
   ]
  },
  {
   "cell_type": "code",
   "execution_count": 24,
   "metadata": {},
   "outputs": [],
   "source": [
    "#helper Functions - HOG, loading, conversion\n",
    "def compute_hog_features(image, orientations=9, pixels_per_cell=(8, 8), cells_per_block=(2, 2), visualize=False):\n",
    "    return hog(\n",
    "        image,\n",
    "        orientations=orientations,\n",
    "        pixels_per_cell=pixels_per_cell,\n",
    "        cells_per_block=cells_per_block,\n",
    "        block_norm='L2-Hys',\n",
    "        visualize=visualize,\n",
    "        feature_vector=True\n",
    "    )\n",
    "\n",
    "def extract_hog_features(image_paths, orientations=9, pixels_per_cell=(8, 8), cells_per_block=(2, 2), cache_path=None):\n",
    "    if cache_path and os.path.exists(cache_path):\n",
    "        return joblib.load(cache_path)\n",
    "\n",
    "    features = []\n",
    "    for img_path in tqdm(image_paths, desc=\"Extracting HOG features\"):\n",
    "        image = cv2.imread(img_path, cv2.IMREAD_GRAYSCALE)\n",
    "        if image is None:\n",
    "            print(f\"Warning: Could not read image {img_path}\")\n",
    "            continue\n",
    "        hog_features = compute_hog_features(image, orientations, pixels_per_cell, cells_per_block)\n",
    "        features.append(hog_features)\n",
    "\n",
    "    features = cp.array(features) if has_gpu else np.array(features)\n",
    "\n",
    "    if cache_path:\n",
    "        joblib.dump(features, cache_path)\n",
    "\n",
    "    return features\n",
    "\n",
    "\n",
    "def load_dataset(image_dir, label_dir):\n",
    "    image_files = sorted([f for f in os.listdir(image_dir) if f.endswith('.jpeg')])\n",
    "    image_paths, labels = [], []\n",
    "    for fname in image_files:\n",
    "        image_paths.append(os.path.join(image_dir, fname))\n",
    "        with open(os.path.join(label_dir, fname.replace('.jpeg', '.txt')), 'r') as f:\n",
    "            labels.append(int(f.read().strip()))\n",
    "    return image_paths, cp.array(labels) if has_gpu else np.array(labels)\n",
    "\n",
    "def to_numpy(arr):\n",
    "    return cp.asnumpy(arr) if has_gpu and isinstance(arr, cp.ndarray) else arr\n"
   ]
  },
  {
   "cell_type": "code",
   "execution_count": 25,
   "metadata": {},
   "outputs": [
    {
     "name": "stdout",
     "output_type": "stream",
     "text": [
      "Loading datasets...\n",
      "Loaded 2394 training, 1454 augmented, 458 test images\n",
      "Class distribution: [1128 1940  780]\n"
     ]
    }
   ],
   "source": [
    "#load Datasets and Combine Labels\n",
    "print(\"Loading datasets...\")\n",
    "train_image_paths, train_labels = load_dataset(trainImagePath, trainLabelPath)\n",
    "test_image_paths, test_labels = load_dataset(testImagePath, testLabelPath)\n",
    "aug_image_paths, aug_labels = load_dataset(augDataPath, augLabelPath)\n",
    "\n",
    "train_labels_np = to_numpy(train_labels)\n",
    "aug_labels_np = to_numpy(aug_labels)\n",
    "all_train_image_paths = train_image_paths + aug_image_paths\n",
    "all_train_labels = cp.concatenate([train_labels, aug_labels]) if has_gpu else np.concatenate([train_labels_np, aug_labels_np])\n",
    "all_train_labels_np = np.concatenate([train_labels_np, aug_labels_np])\n",
    "\n",
    "print(f\"Loaded {len(train_image_paths)} training, {len(aug_image_paths)} augmented, {len(test_image_paths)} test images\")\n",
    "print(f\"Class distribution: {np.bincount(all_train_labels_np)}\")\n"
   ]
  },
  {
   "cell_type": "code",
   "execution_count": 26,
   "metadata": {},
   "outputs": [
    {
     "name": "stdout",
     "output_type": "stream",
     "text": [
      "Calculated class weights: {0: 1.1371158392434988, 1: 0.6611683848797251, 2: 1.6444444444444444}\n"
     ]
    }
   ],
   "source": [
    "#Class Weights\n",
    "class_counts = np.bincount(all_train_labels_np)\n",
    "n_samples = len(all_train_labels_np)\n",
    "weight_dict = {i: n_samples / (len(class_counts) * count) for i, count in enumerate(class_counts)}\n",
    "print(f\"Calculated class weights: {weight_dict}\")\n"
   ]
  },
  {
   "cell_type": "code",
   "execution_count": 27,
   "metadata": {},
   "outputs": [
    {
     "name": "stdout",
     "output_type": "stream",
     "text": [
      "Optimization subset: 300 samples. Class dist: [100 100 100]\n"
     ]
    }
   ],
   "source": [
    "#Subset for Optimization\n",
    "def create_subset_for_optimization(image_paths, labels, sample_per_class=100):\n",
    "    labels_np = to_numpy(labels)\n",
    "    class_indices = {0: [], 1: [], 2: []}\n",
    "    for i, label in enumerate(labels_np):\n",
    "        class_indices[label].append(i)\n",
    "    samples_per_class = min(sample_per_class, *(len(v) for v in class_indices.values()))\n",
    "    subset_indices = [i for label, idxs in class_indices.items() for i in np.random.choice(idxs, samples_per_class, replace=False)]\n",
    "    return [image_paths[i] for i in subset_indices], labels[subset_indices]\n",
    "\n",
    "np.random.seed(42)\n",
    "opt_image_paths, opt_labels = create_subset_for_optimization(all_train_image_paths, all_train_labels)\n",
    "print(f\"Optimization subset: {len(opt_image_paths)} samples. Class dist: {np.bincount(to_numpy(opt_labels))}\")\n"
   ]
  },
  {
   "cell_type": "code",
   "execution_count": 28,
   "metadata": {},
   "outputs": [
    {
     "name": "stderr",
     "output_type": "stream",
     "text": [
      "[I 2025-04-20 19:04:46,974] A new study created in memory with name: no-name-b55ce134-3a36-44a5-aabc-8529acf913cc\n"
     ]
    },
    {
     "data": {
      "application/vnd.jupyter.widget-view+json": {
       "model_id": "6219b265ce1b434ab1039c3f03e0d9cb",
       "version_major": 2,
       "version_minor": 0
      },
      "text/plain": [
       "  0%|          | 0/150 [00:00<?, ?it/s]"
      ]
     },
     "metadata": {},
     "output_type": "display_data"
    },
    {
     "name": "stdout",
     "output_type": "stream",
     "text": [
      "[I 2025-04-20 19:04:48,657] Trial 0 finished with value: 0.6766666666666667 and parameters: {'orientations': 10, 'pixels_per_cell_size': 12, 'cells_per_block_size': 4, 'kernel': 'linear', 'C': 75.50498620956354}. Best is trial 0 with value: 0.6766666666666667.\n",
      "[I 2025-04-20 19:04:53,786] Trial 1 finished with value: 0.73 and parameters: {'orientations': 12, 'pixels_per_cell_size': 10, 'cells_per_block_size': 2, 'kernel': 'linear', 'C': 0.06624059568209133}. Best is trial 1 with value: 0.73.\n",
      "[I 2025-04-20 19:04:55,318] Trial 2 finished with value: 0.6066666666666666 and parameters: {'orientations': 10, 'pixels_per_cell_size': 9, 'cells_per_block_size': 3, 'kernel': 'rbf', 'C': 0.43676355831098146, 'gamma': 'auto'}. Best is trial 1 with value: 0.73.\n",
      "[I 2025-04-20 19:04:56,955] Trial 3 finished with value: 0.6933333333333334 and parameters: {'orientations': 9, 'pixels_per_cell_size': 9, 'cells_per_block_size': 3, 'kernel': 'rbf', 'C': 177.1232641685744, 'gamma': 'scale'}. Best is trial 1 with value: 0.73.\n",
      "[I 2025-04-20 19:05:04,897] Trial 4 finished with value: 0.36000000000000004 and parameters: {'orientations': 10, 'pixels_per_cell_size': 6, 'cells_per_block_size': 4, 'kernel': 'poly', 'C': 117.79794101330685, 'gamma': 'auto', 'degree': 3}. Best is trial 1 with value: 0.73.\n",
      "[I 2025-04-20 19:05:06,015] Trial 5 finished with value: 0.7066666666666667 and parameters: {'orientations': 11, 'pixels_per_cell_size': 9, 'cells_per_block_size': 2, 'kernel': 'linear', 'C': 4.751937318279557}. Best is trial 1 with value: 0.73.\n",
      "[I 2025-04-20 19:05:08,572] Trial 6 finished with value: 0.3333333333333333 and parameters: {'orientations': 14, 'pixels_per_cell_size': 6, 'cells_per_block_size': 2, 'kernel': 'poly', 'C': 51.328469741395686, 'gamma': 'scale', 'degree': 4}. Best is trial 1 with value: 0.73.\n",
      "[I 2025-04-20 19:05:09,911] Trial 7 finished with value: 0.6766666666666667 and parameters: {'orientations': 8, 'pixels_per_cell_size': 11, 'cells_per_block_size': 2, 'kernel': 'linear', 'C': 44.763052426804194}. Best is trial 1 with value: 0.73.\n",
      "[I 2025-04-20 19:05:11,397] Trial 8 finished with value: 0.71 and parameters: {'orientations': 12, 'pixels_per_cell_size': 11, 'cells_per_block_size': 4, 'kernel': 'sigmoid', 'C': 6.174208504844256, 'gamma': 'scale'}. Best is trial 1 with value: 0.73.\n",
      "[I 2025-04-20 19:05:15,513] Trial 9 finished with value: 0.6933333333333334 and parameters: {'orientations': 10, 'pixels_per_cell_size': 8, 'cells_per_block_size': 4, 'kernel': 'rbf', 'C': 15.605705131325122, 'gamma': 'scale'}. Best is trial 1 with value: 0.73.\n",
      "[I 2025-04-20 19:05:16,715] Trial 10 finished with value: 0.34 and parameters: {'orientations': 13, 'pixels_per_cell_size': 11, 'cells_per_block_size': 2, 'kernel': 'sigmoid', 'C': 0.011838499850235745, 'gamma': 'auto'}. Best is trial 1 with value: 0.73.\n",
      "[I 2025-04-20 19:05:18,859] Trial 11 finished with value: 0.6933333333333334 and parameters: {'orientations': 12, 'pixels_per_cell_size': 11, 'cells_per_block_size': 3, 'kernel': 'sigmoid', 'C': 0.4078950277118467, 'gamma': 'scale'}. Best is trial 1 with value: 0.73.\n",
      "[I 2025-04-20 19:05:21,142] Trial 12 finished with value: 0.34 and parameters: {'orientations': 12, 'pixels_per_cell_size': 10, 'cells_per_block_size': 4, 'kernel': 'sigmoid', 'C': 0.011317320342498454, 'gamma': 'scale'}. Best is trial 1 with value: 0.73.\n",
      "[I 2025-04-20 19:05:22,863] Trial 13 finished with value: 0.68 and parameters: {'orientations': 12, 'pixels_per_cell_size': 12, 'cells_per_block_size': 3, 'kernel': 'linear', 'C': 0.1122762215904529}. Best is trial 1 with value: 0.73.\n",
      "[I 2025-04-20 19:05:28,999] Trial 14 finished with value: 0.7333333333333333 and parameters: {'orientations': 14, 'pixels_per_cell_size': 10, 'cells_per_block_size': 3, 'kernel': 'sigmoid', 'C': 2.996333853249022, 'gamma': 'scale'}. Best is trial 14 with value: 0.7333333333333333.\n",
      "[I 2025-04-20 19:05:31,543] Trial 15 finished with value: 0.68 and parameters: {'orientations': 14, 'pixels_per_cell_size': 8, 'cells_per_block_size': 2, 'kernel': 'sigmoid', 'C': 0.7691566107203431, 'gamma': 'auto'}. Best is trial 14 with value: 0.7333333333333333.\n",
      "[I 2025-04-20 19:05:33,852] Trial 16 finished with value: 0.7433333333333333 and parameters: {'orientations': 13, 'pixels_per_cell_size': 10, 'cells_per_block_size': 3, 'kernel': 'linear', 'C': 0.07463130721035442}. Best is trial 16 with value: 0.7433333333333333.\n",
      "[I 2025-04-20 19:05:38,037] Trial 17 finished with value: 0.3333333333333333 and parameters: {'orientations': 14, 'pixels_per_cell_size': 8, 'cells_per_block_size': 3, 'kernel': 'poly', 'C': 2.3252073626067, 'gamma': 'scale', 'degree': 5}. Best is trial 16 with value: 0.7433333333333333.\n",
      "[I 2025-04-20 19:05:40,268] Trial 18 finished with value: 0.7433333333333333 and parameters: {'orientations': 13, 'pixels_per_cell_size': 10, 'cells_per_block_size': 3, 'kernel': 'linear', 'C': 0.10670482510135669}. Best is trial 16 with value: 0.7433333333333333.\n",
      "[I 2025-04-20 19:05:46,044] Trial 19 finished with value: 0.7233333333333333 and parameters: {'orientations': 13, 'pixels_per_cell_size': 7, 'cells_per_block_size': 3, 'kernel': 'linear', 'C': 0.06890304631067998}. Best is trial 16 with value: 0.7433333333333333.\n",
      "[I 2025-04-20 19:05:48,725] Trial 20 finished with value: 0.7433333333333333 and parameters: {'orientations': 13, 'pixels_per_cell_size': 10, 'cells_per_block_size': 3, 'kernel': 'linear', 'C': 0.0308905410713995}. Best is trial 16 with value: 0.7433333333333333.\n",
      "[I 2025-04-20 19:05:51,150] Trial 21 finished with value: 0.7433333333333333 and parameters: {'orientations': 13, 'pixels_per_cell_size': 10, 'cells_per_block_size': 3, 'kernel': 'linear', 'C': 0.030385183267553427}. Best is trial 16 with value: 0.7433333333333333.\n",
      "[I 2025-04-20 19:05:53,719] Trial 22 finished with value: 0.7433333333333333 and parameters: {'orientations': 13, 'pixels_per_cell_size': 10, 'cells_per_block_size': 3, 'kernel': 'linear', 'C': 0.14152354623902308}. Best is trial 16 with value: 0.7433333333333333.\n",
      "[I 2025-04-20 19:05:56,779] Trial 23 finished with value: 0.7033333333333335 and parameters: {'orientations': 11, 'pixels_per_cell_size': 9, 'cells_per_block_size': 3, 'kernel': 'linear', 'C': 0.033788292208403306}. Best is trial 16 with value: 0.7433333333333333.\n",
      "[I 2025-04-20 19:05:59,201] Trial 24 finished with value: 0.7233333333333333 and parameters: {'orientations': 13, 'pixels_per_cell_size': 11, 'cells_per_block_size': 3, 'kernel': 'linear', 'C': 0.25406920956392137}. Best is trial 16 with value: 0.7433333333333333.\n",
      "[I 2025-04-20 19:06:05,917] Trial 25 finished with value: 0.7233333333333333 and parameters: {'orientations': 11, 'pixels_per_cell_size': 10, 'cells_per_block_size': 3, 'kernel': 'linear', 'C': 0.02829101598292425}. Best is trial 16 with value: 0.7433333333333333.\n",
      "[I 2025-04-20 19:06:08,164] Trial 26 finished with value: 0.68 and parameters: {'orientations': 13, 'pixels_per_cell_size': 12, 'cells_per_block_size': 3, 'kernel': 'linear', 'C': 1.2574215189751452}. Best is trial 16 with value: 0.7433333333333333.\n",
      "[I 2025-04-20 19:06:18,871] Trial 27 finished with value: 0.6866666666666665 and parameters: {'orientations': 14, 'pixels_per_cell_size': 8, 'cells_per_block_size': 4, 'kernel': 'linear', 'C': 0.17517569917154077}. Best is trial 16 with value: 0.7433333333333333.\n",
      "[I 2025-04-20 19:06:22,517] Trial 28 finished with value: 0.7033333333333335 and parameters: {'orientations': 13, 'pixels_per_cell_size': 9, 'cells_per_block_size': 3, 'kernel': 'linear', 'C': 0.05796227891372763}. Best is trial 16 with value: 0.7433333333333333.\n",
      "[I 2025-04-20 19:06:25,205] Trial 29 finished with value: 0.7233333333333333 and parameters: {'orientations': 11, 'pixels_per_cell_size': 11, 'cells_per_block_size': 4, 'kernel': 'linear', 'C': 0.015279657479023752}. Best is trial 16 with value: 0.7433333333333333.\n",
      "[I 2025-04-20 19:06:28,323] Trial 30 finished with value: 0.57 and parameters: {'orientations': 12, 'pixels_per_cell_size': 10, 'cells_per_block_size': 3, 'kernel': 'rbf', 'C': 0.39413993918595636, 'gamma': 'auto'}. Best is trial 16 with value: 0.7433333333333333.\n",
      "[I 2025-04-20 19:06:31,061] Trial 31 finished with value: 0.7433333333333333 and parameters: {'orientations': 13, 'pixels_per_cell_size': 10, 'cells_per_block_size': 3, 'kernel': 'linear', 'C': 0.030749792340083557}. Best is trial 16 with value: 0.7433333333333333.\n",
      "[I 2025-04-20 19:06:34,052] Trial 32 finished with value: 0.7433333333333333 and parameters: {'orientations': 13, 'pixels_per_cell_size': 10, 'cells_per_block_size': 3, 'kernel': 'linear', 'C': 0.0620871366704065}. Best is trial 16 with value: 0.7433333333333333.\n",
      "[I 2025-04-20 19:06:43,292] Trial 33 finished with value: 0.6933333333333334 and parameters: {'orientations': 14, 'pixels_per_cell_size': 9, 'cells_per_block_size': 3, 'kernel': 'linear', 'C': 0.02182470995202961}. Best is trial 16 with value: 0.7433333333333333.\n",
      "[I 2025-04-20 19:06:45,335] Trial 34 finished with value: 0.68 and parameters: {'orientations': 12, 'pixels_per_cell_size': 12, 'cells_per_block_size': 3, 'kernel': 'linear', 'C': 0.08507801836289204}. Best is trial 16 with value: 0.7433333333333333.\n",
      "[I 2025-04-20 19:06:47,913] Trial 35 finished with value: 0.34 and parameters: {'orientations': 13, 'pixels_per_cell_size': 10, 'cells_per_block_size': 3, 'kernel': 'poly', 'C': 0.038579912319464435, 'gamma': 'auto', 'degree': 2}. Best is trial 16 with value: 0.7433333333333333.\n",
      "[I 2025-04-20 19:06:51,558] Trial 36 finished with value: 0.5233333333333333 and parameters: {'orientations': 12, 'pixels_per_cell_size': 9, 'cells_per_block_size': 3, 'kernel': 'rbf', 'C': 0.2103004878266743, 'gamma': 'auto'}. Best is trial 16 with value: 0.7433333333333333.\n",
      "[I 2025-04-20 19:06:53,905] Trial 37 finished with value: 0.7133333333333333 and parameters: {'orientations': 14, 'pixels_per_cell_size': 9, 'cells_per_block_size': 2, 'kernel': 'linear', 'C': 0.019543099860581014}. Best is trial 16 with value: 0.7433333333333333.\n",
      "[I 2025-04-20 19:06:56,193] Trial 38 finished with value: 0.6866666666666666 and parameters: {'orientations': 8, 'pixels_per_cell_size': 11, 'cells_per_block_size': 3, 'kernel': 'linear', 'C': 0.7912190119100662}. Best is trial 16 with value: 0.7433333333333333.\n",
      "[I 2025-04-20 19:06:58,934] Trial 39 finished with value: 0.4533333333333333 and parameters: {'orientations': 9, 'pixels_per_cell_size': 10, 'cells_per_block_size': 2, 'kernel': 'poly', 'C': 0.048094958717615426, 'gamma': 'auto', 'degree': 2}. Best is trial 16 with value: 0.7433333333333333.\n",
      "[I 2025-04-20 19:07:00,485] Trial 40 finished with value: 0.7266666666666667 and parameters: {'orientations': 13, 'pixels_per_cell_size': 11, 'cells_per_block_size': 4, 'kernel': 'linear', 'C': 0.1184993087814751}. Best is trial 16 with value: 0.7433333333333333.\n",
      "[I 2025-04-20 19:07:01,853] Trial 41 finished with value: 0.7433333333333333 and parameters: {'orientations': 13, 'pixels_per_cell_size': 10, 'cells_per_block_size': 3, 'kernel': 'linear', 'C': 0.13196531903494518}. Best is trial 16 with value: 0.7433333333333333.\n",
      "[I 2025-04-20 19:07:03,133] Trial 42 finished with value: 0.7433333333333333 and parameters: {'orientations': 13, 'pixels_per_cell_size': 10, 'cells_per_block_size': 3, 'kernel': 'linear', 'C': 0.09113646311216773}. Best is trial 16 with value: 0.7433333333333333.\n",
      "[I 2025-04-20 19:07:04,381] Trial 43 finished with value: 0.7233333333333333 and parameters: {'orientations': 12, 'pixels_per_cell_size': 10, 'cells_per_block_size': 3, 'kernel': 'linear', 'C': 0.24417006733083466}. Best is trial 16 with value: 0.7433333333333333.\n",
      "[I 2025-04-20 19:07:06,155] Trial 44 finished with value: 0.6933333333333334 and parameters: {'orientations': 14, 'pixels_per_cell_size': 9, 'cells_per_block_size': 3, 'kernel': 'linear', 'C': 0.019496527880071335}. Best is trial 16 with value: 0.7433333333333333.\n",
      "[I 2025-04-20 19:07:07,114] Trial 45 finished with value: 0.49 and parameters: {'orientations': 12, 'pixels_per_cell_size': 11, 'cells_per_block_size': 3, 'kernel': 'rbf', 'C': 0.04484748334859502, 'gamma': 'scale'}. Best is trial 16 with value: 0.7433333333333333.\n",
      "[I 2025-04-20 19:07:08,751] Trial 46 finished with value: 0.7033333333333335 and parameters: {'orientations': 13, 'pixels_per_cell_size': 9, 'cells_per_block_size': 3, 'kernel': 'linear', 'C': 0.011326601127684728}. Best is trial 16 with value: 0.7433333333333333.\n",
      "[I 2025-04-20 19:07:09,701] Trial 47 finished with value: 0.7066666666666667 and parameters: {'orientations': 14, 'pixels_per_cell_size': 11, 'cells_per_block_size': 2, 'kernel': 'linear', 'C': 0.5984184274425971}. Best is trial 16 with value: 0.7433333333333333.\n",
      "[I 2025-04-20 19:07:10,967] Trial 48 finished with value: 0.3333333333333333 and parameters: {'orientations': 13, 'pixels_per_cell_size': 10, 'cells_per_block_size': 3, 'kernel': 'poly', 'C': 9.596613961821364, 'gamma': 'auto', 'degree': 5}. Best is trial 16 with value: 0.7433333333333333.\n",
      "[I 2025-04-20 19:07:15,817] Trial 49 finished with value: 0.7233333333333333 and parameters: {'orientations': 12, 'pixels_per_cell_size': 10, 'cells_per_block_size': 3, 'kernel': 'linear', 'C': 0.15735609447056262}. Best is trial 16 with value: 0.7433333333333333.\n",
      "[I 2025-04-20 19:07:17,091] Trial 50 finished with value: 0.68 and parameters: {'orientations': 9, 'pixels_per_cell_size': 9, 'cells_per_block_size': 3, 'kernel': 'sigmoid', 'C': 0.2942540456489868, 'gamma': 'scale'}. Best is trial 16 with value: 0.7433333333333333.\n",
      "[I 2025-04-20 19:07:18,465] Trial 51 finished with value: 0.7433333333333333 and parameters: {'orientations': 13, 'pixels_per_cell_size': 10, 'cells_per_block_size': 3, 'kernel': 'linear', 'C': 0.02921100583993014}. Best is trial 16 with value: 0.7433333333333333.\n",
      "[I 2025-04-20 19:07:19,768] Trial 52 finished with value: 0.7433333333333333 and parameters: {'orientations': 13, 'pixels_per_cell_size': 10, 'cells_per_block_size': 3, 'kernel': 'linear', 'C': 0.026522113671800646}. Best is trial 16 with value: 0.7433333333333333.\n",
      "[I 2025-04-20 19:07:21,147] Trial 53 finished with value: 0.7133333333333334 and parameters: {'orientations': 14, 'pixels_per_cell_size': 10, 'cells_per_block_size': 3, 'kernel': 'linear', 'C': 243.7171500144007}. Best is trial 16 with value: 0.7433333333333333.\n",
      "[I 2025-04-20 19:07:22,322] Trial 54 finished with value: 0.7233333333333333 and parameters: {'orientations': 13, 'pixels_per_cell_size': 11, 'cells_per_block_size': 3, 'kernel': 'linear', 'C': 0.08599580161710968}. Best is trial 16 with value: 0.7433333333333333.\n",
      "[I 2025-04-20 19:07:23,627] Trial 55 finished with value: 0.7433333333333333 and parameters: {'orientations': 13, 'pixels_per_cell_size': 10, 'cells_per_block_size': 3, 'kernel': 'linear', 'C': 0.01499658826774323}. Best is trial 16 with value: 0.7433333333333333.\n",
      "[I 2025-04-20 19:07:24,557] Trial 56 finished with value: 0.34 and parameters: {'orientations': 12, 'pixels_per_cell_size': 11, 'cells_per_block_size': 3, 'kernel': 'rbf', 'C': 0.03993080405006883, 'gamma': 'auto'}. Best is trial 16 with value: 0.7433333333333333.\n",
      "[I 2025-04-20 19:07:26,354] Trial 57 finished with value: 0.7000000000000001 and parameters: {'orientations': 14, 'pixels_per_cell_size': 10, 'cells_per_block_size': 4, 'kernel': 'linear', 'C': 0.061215334654925554}. Best is trial 16 with value: 0.7433333333333333.\n",
      "[I 2025-04-20 19:07:27,899] Trial 58 finished with value: 0.7266666666666666 and parameters: {'orientations': 12, 'pixels_per_cell_size': 9, 'cells_per_block_size': 3, 'kernel': 'linear', 'C': 0.12026244645004161}. Best is trial 16 with value: 0.7433333333333333.\n",
      "[I 2025-04-20 19:07:29,047] Trial 59 finished with value: 0.34 and parameters: {'orientations': 11, 'pixels_per_cell_size': 9, 'cells_per_block_size': 3, 'kernel': 'sigmoid', 'C': 0.016320890517505043, 'gamma': 'auto'}. Best is trial 16 with value: 0.7433333333333333.\n",
      "[I 2025-04-20 19:07:30,216] Trial 60 finished with value: 0.7233333333333333 and parameters: {'orientations': 13, 'pixels_per_cell_size': 11, 'cells_per_block_size': 3, 'kernel': 'linear', 'C': 0.0101620840554016}. Best is trial 16 with value: 0.7433333333333333.\n",
      "[I 2025-04-20 19:07:31,506] Trial 61 finished with value: 0.7433333333333333 and parameters: {'orientations': 13, 'pixels_per_cell_size': 10, 'cells_per_block_size': 3, 'kernel': 'linear', 'C': 0.05672259729506676}. Best is trial 16 with value: 0.7433333333333333.\n",
      "[I 2025-04-20 19:07:32,817] Trial 62 finished with value: 0.7433333333333333 and parameters: {'orientations': 13, 'pixels_per_cell_size': 10, 'cells_per_block_size': 3, 'kernel': 'linear', 'C': 0.07615144018892288}. Best is trial 16 with value: 0.7433333333333333.\n",
      "[I 2025-04-20 19:07:34,126] Trial 63 finished with value: 0.7433333333333333 and parameters: {'orientations': 13, 'pixels_per_cell_size': 10, 'cells_per_block_size': 3, 'kernel': 'linear', 'C': 0.0346261345225486}. Best is trial 16 with value: 0.7433333333333333.\n",
      "[I 2025-04-20 19:07:35,494] Trial 64 finished with value: 0.7133333333333334 and parameters: {'orientations': 14, 'pixels_per_cell_size': 10, 'cells_per_block_size': 3, 'kernel': 'linear', 'C': 0.02349914443813261}. Best is trial 16 with value: 0.7433333333333333.\n",
      "[I 2025-04-20 19:07:36,732] Trial 65 finished with value: 0.7233333333333333 and parameters: {'orientations': 12, 'pixels_per_cell_size': 10, 'cells_per_block_size': 3, 'kernel': 'linear', 'C': 0.0502098970796385}. Best is trial 16 with value: 0.7433333333333333.\n",
      "[I 2025-04-20 19:07:39,010] Trial 66 finished with value: 0.33666666666666667 and parameters: {'orientations': 13, 'pixels_per_cell_size': 7, 'cells_per_block_size': 3, 'kernel': 'poly', 'C': 0.3699229714956196, 'gamma': 'scale', 'degree': 4}. Best is trial 16 with value: 0.7433333333333333.\n",
      "[I 2025-04-20 19:07:40,263] Trial 67 finished with value: 0.7266666666666667 and parameters: {'orientations': 14, 'pixels_per_cell_size': 11, 'cells_per_block_size': 3, 'kernel': 'linear', 'C': 0.17242596075169478}. Best is trial 16 with value: 0.7433333333333333.\n",
      "[I 2025-04-20 19:07:41,886] Trial 68 finished with value: 0.7033333333333335 and parameters: {'orientations': 13, 'pixels_per_cell_size': 9, 'cells_per_block_size': 3, 'kernel': 'linear', 'C': 0.10473123725491026}. Best is trial 16 with value: 0.7433333333333333.\n",
      "[I 2025-04-20 19:07:43,137] Trial 69 finished with value: 0.7233333333333333 and parameters: {'orientations': 12, 'pixels_per_cell_size': 10, 'cells_per_block_size': 3, 'kernel': 'linear', 'C': 0.06335393283382888}. Best is trial 16 with value: 0.7433333333333333.\n",
      "[I 2025-04-20 19:07:44,265] Trial 70 finished with value: 0.7033333333333333 and parameters: {'orientations': 13, 'pixels_per_cell_size': 9, 'cells_per_block_size': 2, 'kernel': 'rbf', 'C': 97.65984583122142, 'gamma': 'scale'}. Best is trial 16 with value: 0.7433333333333333.\n",
      "[I 2025-04-20 19:07:45,410] Trial 71 finished with value: 0.73 and parameters: {'orientations': 10, 'pixels_per_cell_size': 10, 'cells_per_block_size': 3, 'kernel': 'linear', 'C': 0.13592037840221668}. Best is trial 16 with value: 0.7433333333333333.\n",
      "[I 2025-04-20 19:07:46,707] Trial 72 finished with value: 0.7433333333333333 and parameters: {'orientations': 13, 'pixels_per_cell_size': 10, 'cells_per_block_size': 3, 'kernel': 'linear', 'C': 1.3690378287204574}. Best is trial 16 with value: 0.7433333333333333.\n",
      "[I 2025-04-20 19:07:51,589] Trial 73 finished with value: 0.7433333333333333 and parameters: {'orientations': 13, 'pixels_per_cell_size': 10, 'cells_per_block_size': 3, 'kernel': 'linear', 'C': 0.033283921132887084}. Best is trial 16 with value: 0.7433333333333333.\n",
      "[I 2025-04-20 19:07:52,754] Trial 74 finished with value: 0.7233333333333333 and parameters: {'orientations': 13, 'pixels_per_cell_size': 11, 'cells_per_block_size': 3, 'kernel': 'linear', 'C': 0.21656757894700437}. Best is trial 16 with value: 0.7433333333333333.\n",
      "[I 2025-04-20 19:07:54,051] Trial 75 finished with value: 0.7433333333333333 and parameters: {'orientations': 13, 'pixels_per_cell_size': 10, 'cells_per_block_size': 3, 'kernel': 'linear', 'C': 0.09882026342435218}. Best is trial 16 with value: 0.7433333333333333.\n",
      "[I 2025-04-20 19:07:55,141] Trial 76 finished with value: 0.59 and parameters: {'orientations': 14, 'pixels_per_cell_size': 10, 'cells_per_block_size': 3, 'kernel': 'sigmoid', 'C': 0.06543765449309172, 'gamma': 'auto'}. Best is trial 16 with value: 0.7433333333333333.\n",
      "[I 2025-04-20 19:07:56,767] Trial 77 finished with value: 0.7033333333333335 and parameters: {'orientations': 13, 'pixels_per_cell_size': 9, 'cells_per_block_size': 3, 'kernel': 'linear', 'C': 0.5632735582305123}. Best is trial 16 with value: 0.7433333333333333.\n",
      "[I 2025-04-20 19:07:57,881] Trial 78 finished with value: 0.7333333333333334 and parameters: {'orientations': 12, 'pixels_per_cell_size': 11, 'cells_per_block_size': 3, 'kernel': 'linear', 'C': 20.1134810133865}. Best is trial 16 with value: 0.7433333333333333.\n",
      "[I 2025-04-20 19:07:59,112] Trial 79 finished with value: 0.43999999999999995 and parameters: {'orientations': 14, 'pixels_per_cell_size': 10, 'cells_per_block_size': 3, 'kernel': 'poly', 'C': 0.29476835547998914, 'gamma': 'scale', 'degree': 3}. Best is trial 16 with value: 0.7433333333333333.\n",
      "[I 2025-04-20 19:08:00,296] Trial 80 finished with value: 0.7233333333333333 and parameters: {'orientations': 13, 'pixels_per_cell_size': 11, 'cells_per_block_size': 3, 'kernel': 'linear', 'C': 0.045767012893944706}. Best is trial 16 with value: 0.7433333333333333.\n",
      "[I 2025-04-20 19:08:01,587] Trial 81 finished with value: 0.7433333333333333 and parameters: {'orientations': 13, 'pixels_per_cell_size': 10, 'cells_per_block_size': 3, 'kernel': 'linear', 'C': 0.09252088898697292}. Best is trial 16 with value: 0.7433333333333333.\n",
      "[I 2025-04-20 19:08:02,895] Trial 82 finished with value: 0.7433333333333333 and parameters: {'orientations': 13, 'pixels_per_cell_size': 10, 'cells_per_block_size': 3, 'kernel': 'linear', 'C': 0.17510238341170067}. Best is trial 16 with value: 0.7433333333333333.\n",
      "[I 2025-04-20 19:08:04,204] Trial 83 finished with value: 0.7433333333333333 and parameters: {'orientations': 13, 'pixels_per_cell_size': 10, 'cells_per_block_size': 3, 'kernel': 'linear', 'C': 0.13768862732002213}. Best is trial 16 with value: 0.7433333333333333.\n",
      "[I 2025-04-20 19:08:05,524] Trial 84 finished with value: 0.7433333333333333 and parameters: {'orientations': 13, 'pixels_per_cell_size': 10, 'cells_per_block_size': 3, 'kernel': 'linear', 'C': 0.07633051594310862}. Best is trial 16 with value: 0.7433333333333333.\n",
      "[I 2025-04-20 19:08:06,882] Trial 85 finished with value: 0.7433333333333333 and parameters: {'orientations': 13, 'pixels_per_cell_size': 10, 'cells_per_block_size': 3, 'kernel': 'linear', 'C': 0.02454908599281453}. Best is trial 16 with value: 0.7433333333333333.\n",
      "[I 2025-04-20 19:08:08,457] Trial 86 finished with value: 0.7266666666666666 and parameters: {'orientations': 12, 'pixels_per_cell_size': 9, 'cells_per_block_size': 3, 'kernel': 'linear', 'C': 0.018597797562717174}. Best is trial 16 with value: 0.7433333333333333.\n",
      "[I 2025-04-20 19:08:10,926] Trial 87 finished with value: 0.48666666666666664 and parameters: {'orientations': 12, 'pixels_per_cell_size': 6, 'cells_per_block_size': 3, 'kernel': 'rbf', 'C': 0.014356062701815485, 'gamma': 'auto'}. Best is trial 16 with value: 0.7433333333333333.\n",
      "[I 2025-04-20 19:08:12,325] Trial 88 finished with value: 0.7133333333333334 and parameters: {'orientations': 14, 'pixels_per_cell_size': 10, 'cells_per_block_size': 3, 'kernel': 'linear', 'C': 0.038241000916896056}. Best is trial 16 with value: 0.7433333333333333.\n",
      "[I 2025-04-20 19:08:13,972] Trial 89 finished with value: 0.7033333333333335 and parameters: {'orientations': 13, 'pixels_per_cell_size': 9, 'cells_per_block_size': 3, 'kernel': 'linear', 'C': 0.029105863088962562}. Best is trial 16 with value: 0.7433333333333333.\n",
      "[I 2025-04-20 19:08:15,101] Trial 90 finished with value: 0.5966666666666667 and parameters: {'orientations': 13, 'pixels_per_cell_size': 10, 'cells_per_block_size': 3, 'kernel': 'sigmoid', 'C': 0.07581603513102342, 'gamma': 'auto'}. Best is trial 16 with value: 0.7433333333333333.\n",
      "[I 2025-04-20 19:08:16,449] Trial 91 finished with value: 0.7433333333333333 and parameters: {'orientations': 13, 'pixels_per_cell_size': 10, 'cells_per_block_size': 3, 'kernel': 'linear', 'C': 0.05031544318271512}. Best is trial 16 with value: 0.7433333333333333.\n",
      "[I 2025-04-20 19:08:17,778] Trial 92 finished with value: 0.7433333333333333 and parameters: {'orientations': 13, 'pixels_per_cell_size': 10, 'cells_per_block_size': 3, 'kernel': 'linear', 'C': 0.030490783901911993}. Best is trial 16 with value: 0.7433333333333333.\n",
      "[I 2025-04-20 19:08:19,139] Trial 93 finished with value: 0.7433333333333333 and parameters: {'orientations': 13, 'pixels_per_cell_size': 10, 'cells_per_block_size': 3, 'kernel': 'linear', 'C': 0.0225486342122471}. Best is trial 16 with value: 0.7433333333333333.\n",
      "[I 2025-04-20 19:08:20,467] Trial 94 finished with value: 0.7433333333333333 and parameters: {'orientations': 13, 'pixels_per_cell_size': 10, 'cells_per_block_size': 3, 'kernel': 'linear', 'C': 0.04006180018041736}. Best is trial 16 with value: 0.7433333333333333.\n",
      "[I 2025-04-20 19:08:21,675] Trial 95 finished with value: 0.7233333333333333 and parameters: {'orientations': 13, 'pixels_per_cell_size': 11, 'cells_per_block_size': 3, 'kernel': 'linear', 'C': 0.11743345818698724}. Best is trial 16 with value: 0.7433333333333333.\n",
      "[I 2025-04-20 19:08:23,081] Trial 96 finished with value: 0.7133333333333334 and parameters: {'orientations': 14, 'pixels_per_cell_size': 10, 'cells_per_block_size': 3, 'kernel': 'linear', 'C': 0.056519953710338675}. Best is trial 16 with value: 0.7433333333333333.\n",
      "[I 2025-04-20 19:08:27,952] Trial 97 finished with value: 0.7233333333333333 and parameters: {'orientations': 12, 'pixels_per_cell_size': 10, 'cells_per_block_size': 3, 'kernel': 'linear', 'C': 0.013387658592139336}. Best is trial 16 with value: 0.7433333333333333.\n",
      "[I 2025-04-20 19:08:28,947] Trial 98 finished with value: 0.34 and parameters: {'orientations': 13, 'pixels_per_cell_size': 11, 'cells_per_block_size': 3, 'kernel': 'poly', 'C': 0.027874797541265227, 'gamma': 'scale', 'degree': 2}. Best is trial 16 with value: 0.7433333333333333.\n",
      "[I 2025-04-20 19:08:30,213] Trial 99 finished with value: 0.6933333333333334 and parameters: {'orientations': 8, 'pixels_per_cell_size': 9, 'cells_per_block_size': 3, 'kernel': 'linear', 'C': 0.09220047559172517}. Best is trial 16 with value: 0.7433333333333333.\n",
      "[I 2025-04-20 19:08:31,602] Trial 100 finished with value: 0.7133333333333334 and parameters: {'orientations': 14, 'pixels_per_cell_size': 10, 'cells_per_block_size': 3, 'kernel': 'linear', 'C': 0.01738413902394471}. Best is trial 16 with value: 0.7433333333333333.\n",
      "[I 2025-04-20 19:08:32,953] Trial 101 finished with value: 0.7433333333333333 and parameters: {'orientations': 13, 'pixels_per_cell_size': 10, 'cells_per_block_size': 3, 'kernel': 'linear', 'C': 0.024188967855350404}. Best is trial 16 with value: 0.7433333333333333.\n",
      "[I 2025-04-20 19:08:34,288] Trial 102 finished with value: 0.7433333333333333 and parameters: {'orientations': 13, 'pixels_per_cell_size': 10, 'cells_per_block_size': 3, 'kernel': 'linear', 'C': 0.04519547024360004}. Best is trial 16 with value: 0.7433333333333333.\n",
      "[I 2025-04-20 19:08:35,628] Trial 103 finished with value: 0.7433333333333333 and parameters: {'orientations': 13, 'pixels_per_cell_size': 10, 'cells_per_block_size': 3, 'kernel': 'linear', 'C': 4.769870726911285}. Best is trial 16 with value: 0.7433333333333333.\n",
      "[I 2025-04-20 19:08:36,936] Trial 104 finished with value: 0.7433333333333333 and parameters: {'orientations': 13, 'pixels_per_cell_size': 10, 'cells_per_block_size': 3, 'kernel': 'linear', 'C': 0.14459860431129712}. Best is trial 16 with value: 0.7433333333333333.\n",
      "[I 2025-04-20 19:08:38,236] Trial 105 finished with value: 0.7433333333333333 and parameters: {'orientations': 13, 'pixels_per_cell_size': 10, 'cells_per_block_size': 3, 'kernel': 'linear', 'C': 0.06357304285954488}. Best is trial 16 with value: 0.7433333333333333.\n",
      "[I 2025-04-20 19:08:39,549] Trial 106 finished with value: 0.7433333333333333 and parameters: {'orientations': 13, 'pixels_per_cell_size': 10, 'cells_per_block_size': 3, 'kernel': 'linear', 'C': 0.03370465941850182}. Best is trial 16 with value: 0.7433333333333333.\n",
      "[I 2025-04-20 19:08:40,472] Trial 107 finished with value: 0.34 and parameters: {'orientations': 12, 'pixels_per_cell_size': 11, 'cells_per_block_size': 3, 'kernel': 'rbf', 'C': 0.026656337409883837, 'gamma': 'auto'}. Best is trial 16 with value: 0.7433333333333333.\n",
      "[I 2025-04-20 19:08:42,087] Trial 108 finished with value: 0.7033333333333335 and parameters: {'orientations': 13, 'pixels_per_cell_size': 9, 'cells_per_block_size': 3, 'kernel': 'linear', 'C': 0.20320958088102906}. Best is trial 16 with value: 0.7433333333333333.\n",
      "[I 2025-04-20 19:08:43,385] Trial 109 finished with value: 0.7433333333333333 and parameters: {'orientations': 13, 'pixels_per_cell_size': 10, 'cells_per_block_size': 3, 'kernel': 'linear', 'C': 0.019508760110826397}. Best is trial 16 with value: 0.7433333333333333.\n",
      "[I 2025-04-20 19:08:45,826] Trial 110 finished with value: 0.7233333333333333 and parameters: {'orientations': 13, 'pixels_per_cell_size': 7, 'cells_per_block_size': 3, 'kernel': 'linear', 'C': 2.4658615724697084}. Best is trial 16 with value: 0.7433333333333333.\n",
      "[I 2025-04-20 19:08:47,140] Trial 111 finished with value: 0.7433333333333333 and parameters: {'orientations': 13, 'pixels_per_cell_size': 10, 'cells_per_block_size': 3, 'kernel': 'linear', 'C': 0.01178515252408965}. Best is trial 16 with value: 0.7433333333333333.\n",
      "[I 2025-04-20 19:08:48,452] Trial 112 finished with value: 0.7433333333333333 and parameters: {'orientations': 13, 'pixels_per_cell_size': 10, 'cells_per_block_size': 3, 'kernel': 'linear', 'C': 0.014828144384224747}. Best is trial 16 with value: 0.7433333333333333.\n",
      "[I 2025-04-20 19:08:49,745] Trial 113 finished with value: 0.7433333333333333 and parameters: {'orientations': 13, 'pixels_per_cell_size': 10, 'cells_per_block_size': 3, 'kernel': 'linear', 'C': 0.05299739110581695}. Best is trial 16 with value: 0.7433333333333333.\n",
      "[I 2025-04-20 19:08:50,800] Trial 114 finished with value: 0.4633333333333334 and parameters: {'orientations': 13, 'pixels_per_cell_size': 10, 'cells_per_block_size': 3, 'kernel': 'sigmoid', 'C': 0.040722333092452316, 'gamma': 'scale'}. Best is trial 16 with value: 0.7433333333333333.\n",
      "[I 2025-04-20 19:08:52,100] Trial 115 finished with value: 0.7433333333333333 and parameters: {'orientations': 13, 'pixels_per_cell_size': 10, 'cells_per_block_size': 3, 'kernel': 'linear', 'C': 0.07747385675279699}. Best is trial 16 with value: 0.7433333333333333.\n",
      "[I 2025-04-20 19:08:53,439] Trial 116 finished with value: 0.7133333333333334 and parameters: {'orientations': 14, 'pixels_per_cell_size': 10, 'cells_per_block_size': 3, 'kernel': 'linear', 'C': 0.10579123509421531}. Best is trial 16 with value: 0.7433333333333333.\n",
      "[I 2025-04-20 19:08:54,744] Trial 117 finished with value: 0.7433333333333333 and parameters: {'orientations': 13, 'pixels_per_cell_size': 10, 'cells_per_block_size': 3, 'kernel': 'linear', 'C': 0.020826704286260076}. Best is trial 16 with value: 0.7433333333333333.\n",
      "[I 2025-04-20 19:08:55,927] Trial 118 finished with value: 0.34 and parameters: {'orientations': 12, 'pixels_per_cell_size': 9, 'cells_per_block_size': 3, 'kernel': 'poly', 'C': 0.010141347844552754, 'gamma': 'auto', 'degree': 4}. Best is trial 16 with value: 0.7433333333333333.\n",
      "[I 2025-04-20 19:08:57,242] Trial 119 finished with value: 0.7433333333333333 and parameters: {'orientations': 13, 'pixels_per_cell_size': 10, 'cells_per_block_size': 3, 'kernel': 'linear', 'C': 0.03282976987884087}. Best is trial 16 with value: 0.7433333333333333.\n",
      "[I 2025-04-20 19:08:58,589] Trial 120 finished with value: 0.7133333333333334 and parameters: {'orientations': 14, 'pixels_per_cell_size': 10, 'cells_per_block_size': 3, 'kernel': 'linear', 'C': 0.016967110714628655}. Best is trial 16 with value: 0.7433333333333333.\n",
      "[I 2025-04-20 19:09:03,473] Trial 121 finished with value: 0.7433333333333333 and parameters: {'orientations': 13, 'pixels_per_cell_size': 10, 'cells_per_block_size': 3, 'kernel': 'linear', 'C': 0.06287170572582787}. Best is trial 16 with value: 0.7433333333333333.\n",
      "[I 2025-04-20 19:09:04,772] Trial 122 finished with value: 0.7433333333333333 and parameters: {'orientations': 13, 'pixels_per_cell_size': 10, 'cells_per_block_size': 3, 'kernel': 'linear', 'C': 0.053036756450444665}. Best is trial 16 with value: 0.7433333333333333.\n",
      "[I 2025-04-20 19:09:06,066] Trial 123 finished with value: 0.7433333333333333 and parameters: {'orientations': 13, 'pixels_per_cell_size': 10, 'cells_per_block_size': 3, 'kernel': 'linear', 'C': 0.08271680632582853}. Best is trial 16 with value: 0.7433333333333333.\n",
      "[I 2025-04-20 19:09:07,411] Trial 124 finished with value: 0.7433333333333333 and parameters: {'orientations': 13, 'pixels_per_cell_size': 10, 'cells_per_block_size': 3, 'kernel': 'linear', 'C': 0.03838028931662168}. Best is trial 16 with value: 0.7433333333333333.\n",
      "[I 2025-04-20 19:09:08,870] Trial 125 finished with value: 0.7433333333333333 and parameters: {'orientations': 13, 'pixels_per_cell_size': 10, 'cells_per_block_size': 3, 'kernel': 'linear', 'C': 0.2658440993017874}. Best is trial 16 with value: 0.7433333333333333.\n",
      "[I 2025-04-20 19:09:10,177] Trial 126 finished with value: 0.7233333333333333 and parameters: {'orientations': 11, 'pixels_per_cell_size': 10, 'cells_per_block_size': 3, 'kernel': 'linear', 'C': 0.027772942967129625}. Best is trial 16 with value: 0.7433333333333333.\n",
      "[I 2025-04-20 19:09:11,456] Trial 127 finished with value: 0.7233333333333333 and parameters: {'orientations': 13, 'pixels_per_cell_size': 11, 'cells_per_block_size': 3, 'kernel': 'linear', 'C': 0.13991167421324244}. Best is trial 16 with value: 0.7433333333333333.\n",
      "[I 2025-04-20 19:09:12,584] Trial 128 finished with value: 0.36000000000000004 and parameters: {'orientations': 13, 'pixels_per_cell_size': 10, 'cells_per_block_size': 3, 'kernel': 'rbf', 'C': 0.06758707500909789, 'gamma': 'scale'}. Best is trial 16 with value: 0.7433333333333333.\n",
      "[I 2025-04-20 19:09:13,922] Trial 129 finished with value: 0.71 and parameters: {'orientations': 9, 'pixels_per_cell_size': 9, 'cells_per_block_size': 3, 'kernel': 'linear', 'C': 44.29527212363}. Best is trial 16 with value: 0.7433333333333333.\n",
      "[I 2025-04-20 19:09:15,313] Trial 130 finished with value: 0.7433333333333333 and parameters: {'orientations': 13, 'pixels_per_cell_size': 10, 'cells_per_block_size': 3, 'kernel': 'linear', 'C': 0.047761980644359346}. Best is trial 16 with value: 0.7433333333333333.\n",
      "[I 2025-04-20 19:09:16,632] Trial 131 finished with value: 0.7433333333333333 and parameters: {'orientations': 13, 'pixels_per_cell_size': 10, 'cells_per_block_size': 3, 'kernel': 'linear', 'C': 0.10269815206260482}. Best is trial 16 with value: 0.7433333333333333.\n",
      "[I 2025-04-20 19:09:17,995] Trial 132 finished with value: 0.7433333333333333 and parameters: {'orientations': 13, 'pixels_per_cell_size': 10, 'cells_per_block_size': 3, 'kernel': 'linear', 'C': 0.07702949791099958}. Best is trial 16 with value: 0.7433333333333333.\n",
      "[I 2025-04-20 19:09:19,545] Trial 133 finished with value: 0.7433333333333333 and parameters: {'orientations': 13, 'pixels_per_cell_size': 10, 'cells_per_block_size': 3, 'kernel': 'linear', 'C': 0.032679173705879916}. Best is trial 16 with value: 0.7433333333333333.\n",
      "[I 2025-04-20 19:09:20,880] Trial 134 finished with value: 0.7433333333333333 and parameters: {'orientations': 13, 'pixels_per_cell_size': 10, 'cells_per_block_size': 3, 'kernel': 'linear', 'C': 0.12020824287632417}. Best is trial 16 with value: 0.7433333333333333.\n",
      "[I 2025-04-20 19:09:22,239] Trial 135 finished with value: 0.7433333333333333 and parameters: {'orientations': 13, 'pixels_per_cell_size': 10, 'cells_per_block_size': 3, 'kernel': 'linear', 'C': 0.1845165975208221}. Best is trial 16 with value: 0.7433333333333333.\n",
      "[I 2025-04-20 19:09:23,528] Trial 136 finished with value: 0.7233333333333333 and parameters: {'orientations': 12, 'pixels_per_cell_size': 10, 'cells_per_block_size': 3, 'kernel': 'linear', 'C': 0.02277981457483131}. Best is trial 16 with value: 0.7433333333333333.\n",
      "[I 2025-04-20 19:09:24,638] Trial 137 finished with value: 0.47666666666666674 and parameters: {'orientations': 13, 'pixels_per_cell_size': 10, 'cells_per_block_size': 3, 'kernel': 'sigmoid', 'C': 0.05624167286507344, 'gamma': 'scale'}. Best is trial 16 with value: 0.7433333333333333.\n",
      "[I 2025-04-20 19:09:25,904] Trial 138 finished with value: 0.7233333333333333 and parameters: {'orientations': 13, 'pixels_per_cell_size': 11, 'cells_per_block_size': 3, 'kernel': 'linear', 'C': 0.07414362100673103}. Best is trial 16 with value: 0.7433333333333333.\n",
      "[I 2025-04-20 19:09:27,341] Trial 139 finished with value: 0.7433333333333333 and parameters: {'orientations': 13, 'pixels_per_cell_size': 10, 'cells_per_block_size': 3, 'kernel': 'linear', 'C': 0.04025818608084176}. Best is trial 16 with value: 0.7433333333333333.\n",
      "[I 2025-04-20 19:09:28,747] Trial 140 finished with value: 0.7233333333333333 and parameters: {'orientations': 12, 'pixels_per_cell_size': 10, 'cells_per_block_size': 3, 'kernel': 'linear', 'C': 0.09482224527053926}. Best is trial 16 with value: 0.7433333333333333.\n",
      "[I 2025-04-20 19:09:30,287] Trial 141 finished with value: 0.7433333333333333 and parameters: {'orientations': 13, 'pixels_per_cell_size': 10, 'cells_per_block_size': 3, 'kernel': 'linear', 'C': 0.03553513567905695}. Best is trial 16 with value: 0.7433333333333333.\n",
      "[I 2025-04-20 19:09:31,889] Trial 142 finished with value: 0.7433333333333333 and parameters: {'orientations': 13, 'pixels_per_cell_size': 10, 'cells_per_block_size': 3, 'kernel': 'linear', 'C': 0.026932025630016197}. Best is trial 16 with value: 0.7433333333333333.\n",
      "[I 2025-04-20 19:09:33,516] Trial 143 finished with value: 0.7433333333333333 and parameters: {'orientations': 13, 'pixels_per_cell_size': 10, 'cells_per_block_size': 3, 'kernel': 'linear', 'C': 0.012767986547056383}. Best is trial 16 with value: 0.7433333333333333.\n",
      "[I 2025-04-20 19:09:35,308] Trial 144 finished with value: 0.7433333333333333 and parameters: {'orientations': 13, 'pixels_per_cell_size': 10, 'cells_per_block_size': 3, 'kernel': 'linear', 'C': 0.046073728905984886}. Best is trial 16 with value: 0.7433333333333333.\n",
      "[I 2025-04-20 19:09:40,390] Trial 145 finished with value: 0.4000000000000001 and parameters: {'orientations': 13, 'pixels_per_cell_size': 10, 'cells_per_block_size': 3, 'kernel': 'poly', 'C': 0.06037875964590523, 'gamma': 'auto', 'degree': 3}. Best is trial 16 with value: 0.7433333333333333.\n",
      "[I 2025-04-20 19:09:42,230] Trial 146 finished with value: 0.7433333333333333 and parameters: {'orientations': 13, 'pixels_per_cell_size': 10, 'cells_per_block_size': 3, 'kernel': 'linear', 'C': 0.019156864145134574}. Best is trial 16 with value: 0.7433333333333333.\n",
      "[I 2025-04-20 19:09:44,116] Trial 147 finished with value: 0.7433333333333333 and parameters: {'orientations': 13, 'pixels_per_cell_size': 10, 'cells_per_block_size': 3, 'kernel': 'linear', 'C': 0.1575679283054119}. Best is trial 16 with value: 0.7433333333333333.\n",
      "[I 2025-04-20 19:09:46,022] Trial 148 finished with value: 0.7433333333333333 and parameters: {'orientations': 13, 'pixels_per_cell_size': 10, 'cells_per_block_size': 3, 'kernel': 'linear', 'C': 0.033308556996387705}. Best is trial 16 with value: 0.7433333333333333.\n",
      "[I 2025-04-20 19:09:48,115] Trial 149 finished with value: 0.7433333333333333 and parameters: {'orientations': 13, 'pixels_per_cell_size': 10, 'cells_per_block_size': 3, 'kernel': 'linear', 'C': 0.023534366010084525}. Best is trial 16 with value: 0.7433333333333333.\n"
     ]
    }
   ],
   "source": [
    "#Optuna Optimization\n",
    "def objective(trial):\n",
    "    orientations = trial.suggest_int('orientations', 8, 14)\n",
    "    ppc_size = trial.suggest_int('pixels_per_cell_size', 6, 12)\n",
    "    cpb_size = trial.suggest_int('cells_per_block_size', 2, 4)\n",
    "\n",
    "    hog_cache_path = f\"/tmp/hog_cache_{orientations}_{ppc_size}_{cpb_size}.joblib\"\n",
    "    features = extract_hog_features(\n",
    "        opt_image_paths,\n",
    "        orientations,\n",
    "        (ppc_size, ppc_size),\n",
    "        (cpb_size, cpb_size),\n",
    "        cache_path=hog_cache_path\n",
    "    )\n",
    "\n",
    "    kernel = trial.suggest_categorical('kernel', ['linear', 'rbf', 'poly', 'sigmoid'])\n",
    "    C = trial.suggest_float('C', 0.01, 300.0, log=True)\n",
    "\n",
    "    gamma = 'scale'\n",
    "    if kernel in ['rbf', 'poly', 'sigmoid']:\n",
    "        gamma = trial.suggest_categorical('gamma', ['scale', 'auto'])\n",
    "\n",
    "    if kernel == 'poly':\n",
    "        degree = trial.suggest_int('degree', 2, 5)\n",
    "    else:\n",
    "        degree = 3  # default poly degree\n",
    "\n",
    "    class_weight = 'balanced'\n",
    "\n",
    "    try:\n",
    "        clf = GPU_SVC(\n",
    "            kernel=kernel,\n",
    "            C=C,\n",
    "            gamma=gamma,\n",
    "            probability=False,  # disables probas = faster\n",
    "            class_weight=class_weight,\n",
    "            degree=degree\n",
    "        ) if has_gpu else CPU_SVC(\n",
    "            kernel=kernel,\n",
    "            C=C,\n",
    "            gamma=gamma,\n",
    "            probability=False,\n",
    "            class_weight=class_weight,\n",
    "            degree=degree\n",
    "        )\n",
    "\n",
    "        skf = StratifiedKFold(n_splits=3, shuffle=True, random_state=42)\n",
    "        accuracies = []\n",
    "\n",
    "        for train_idx, val_idx in skf.split(to_numpy(features), to_numpy(opt_labels)):\n",
    "            X_train, X_val = features[train_idx], features[val_idx]\n",
    "            y_train, y_val = opt_labels[train_idx], opt_labels[val_idx]\n",
    "\n",
    "            scaler = GPU_StandardScaler() if has_gpu else CPU_StandardScaler()\n",
    "            X_train = scaler.fit_transform(X_train)\n",
    "            X_val = scaler.transform(X_val)\n",
    "\n",
    "            clf.fit(X_train, y_train)\n",
    "            y_pred = clf.predict(X_val)\n",
    "\n",
    "            acc = accuracy_score(to_numpy(y_val), to_numpy(y_pred))\n",
    "            accuracies.append(acc)\n",
    "\n",
    "        return np.mean(accuracies)\n",
    "\n",
    "    except Exception as e:\n",
    "        print(f\"Trial failed: {e}\")\n",
    "        return 0.0\n",
    "\n",
    "\n",
    "# Run Optuna study\n",
    "study = optuna.create_study(\n",
    "    direction='maximize',\n",
    "    sampler=optuna.samplers.TPESampler(seed=42),\n",
    "    pruner=optuna.pruners.MedianPruner(n_warmup_steps=5)\n",
    ")\n",
    "study.optimize(objective, n_trials=150, timeout=3600, show_progress_bar=True)\n",
    "\n",
    "# Get the best hyperparameters from the study\n",
    "best_params = study.best_params\n"
   ]
  },
  {
   "cell_type": "code",
   "execution_count": 29,
   "metadata": {},
   "outputs": [
    {
     "name": "stderr",
     "output_type": "stream",
     "text": [
      "Extracting HOG features: 100%|█████████████████████████████████████████████████████| 3848/3848 [00:20<00:00, 192.39it/s]\n"
     ]
    }
   ],
   "source": [
    "# extract Features with best params\n",
    "best_orientations = best_params['orientations']\n",
    "best_pixels_per_cell = (best_params['pixels_per_cell_size'], best_params['pixels_per_cell_size'])\n",
    "best_cells_per_block = (best_params['cells_per_block_size'], best_params['cells_per_block_size'])\n",
    "best_kernel = best_params['kernel']\n",
    "best_C = best_params['C']\n",
    "best_gamma = best_params.get('gamma', 'scale')  # May not be in best_params if kernel is 'linear'\n",
    "best_class_weight = 'balanced'  # Fixed to always use balanced\n",
    "\n",
    "# extract HOG features for all training images\n",
    "X_train_full = extract_hog_features(\n",
    "    all_train_image_paths,\n",
    "    best_orientations,\n",
    "    best_pixels_per_cell,\n",
    "    best_cells_per_block\n",
    ")\n",
    "\n",
    "# save the best HOG config\n",
    "joblib.dump({\n",
    "    'orientations': best_orientations,\n",
    "    'pixels_per_cell': best_pixels_per_cell,\n",
    "    'cells_per_block': best_cells_per_block\n",
    "}, os.path.join(modelsDir, \"best_hog_params.joblib\"))\n",
    "\n",
    "# convert to NumPy\n",
    "X_train_full_np = to_numpy(X_train_full)\n",
    "all_train_labels_np = to_numpy(all_train_labels)\n"
   ]
  },
  {
   "cell_type": "code",
   "execution_count": 30,
   "metadata": {},
   "outputs": [
    {
     "name": "stdout",
     "output_type": "stream",
     "text": [
      "\n",
      "########## Best Parameters Found by Optuna ##########\n",
      "orientations: 13\n",
      "pixels_per_cell_size: 10\n",
      "cells_per_block_size: 3\n",
      "kernel: linear\n",
      "C: 0.07463130721035442\n",
      "\n",
      "HOG Settings:\n",
      "  orientations: 13\n",
      "  pixels_per_cell: (10, 10)\n",
      "  cells_per_block: (3, 3)\n"
     ]
    }
   ],
   "source": [
    "print(\"\\n########## Best Parameters Found by Optuna ##########\")\n",
    "for k, v in best_params.items():\n",
    "    print(f\"{k}: {v}\")\n",
    "\n",
    "print(\"\\nHOG Settings:\")\n",
    "print(f\"  orientations: {best_orientations}\")\n",
    "print(f\"  pixels_per_cell: {best_pixels_per_cell}\")\n",
    "print(f\"  cells_per_block: {best_cells_per_block}\")\n"
   ]
  },
  {
   "cell_type": "code",
   "execution_count": 31,
   "metadata": {},
   "outputs": [
    {
     "name": "stdout",
     "output_type": "stream",
     "text": [
      "Fold 0 Accuracy: 0.7870\n",
      "Fold 1 Accuracy: 0.7506\n",
      "Fold 2 Accuracy: 0.7455\n",
      "Fold 3 Accuracy: 0.7958\n",
      "Fold 4 Accuracy: 0.7802\n",
      "\n",
      "Overall Accuracy: 0.7718\n",
      "               precision    recall  f1-score   support\n",
      "\n",
      "      No Mask       0.67      0.72      0.70      1128\n",
      "         Mask       0.85      0.84      0.84      1940\n",
      "Improper Mask       0.73      0.69      0.71       780\n",
      "\n",
      "     accuracy                           0.77      3848\n",
      "    macro avg       0.75      0.75      0.75      3848\n",
      " weighted avg       0.77      0.77      0.77      3848\n",
      "\n"
     ]
    },
    {
     "data": {
      "image/png": "[encoded data removed]",
      "text/plain": [
       "<Figure size 800x600 with 2 Axes>"
      ]
     },
     "metadata": {},
     "output_type": "display_data"
    }
   ],
   "source": [
    "#K-Fold Evaluation\n",
    "fold_metrics = []\n",
    "all_predictions, all_true_labels = [], []\n",
    "\n",
    "for fold_idx in kfold_splits:\n",
    "    train_idx = kfold_splits[fold_idx]['train']\n",
    "    val_idx = kfold_splits[fold_idx]['val']\n",
    "    \n",
    "    X_fold_train = X_train_full_np[train_idx]\n",
    "    y_fold_train = all_train_labels_np[train_idx]\n",
    "    X_fold_val = X_train_full_np[val_idx]\n",
    "    y_fold_val = all_train_labels_np[val_idx]\n",
    "    \n",
    "    scaler = CPU_StandardScaler()\n",
    "    X_fold_train = scaler.fit_transform(X_fold_train)\n",
    "    X_fold_val = scaler.transform(X_fold_val)\n",
    "    \n",
    "    clf = CPU_SVC(kernel=best_kernel, C=best_C, gamma=best_gamma, probability=True, class_weight=best_class_weight)\n",
    "    clf.fit(X_fold_train, y_fold_train)\n",
    "    y_pred = clf.predict(X_fold_val)\n",
    "    \n",
    "    fold_metrics.append({'fold': fold_idx, 'accuracy': accuracy_score(y_fold_val, y_pred)})\n",
    "    all_predictions.extend(y_pred)\n",
    "    all_true_labels.extend(y_fold_val)\n",
    "    print(f\"Fold {fold_idx} Accuracy: {fold_metrics[-1]['accuracy']:.4f}\")\n",
    "\n",
    "overall_accuracy = accuracy_score(all_true_labels, all_predictions)\n",
    "print(f\"\\nOverall Accuracy: {overall_accuracy:.4f}\")\n",
    "print(classification_report(all_true_labels, all_predictions, target_names=['No Mask', 'Mask', 'Improper Mask']))\n",
    "\n",
    "cm = confusion_matrix(all_true_labels, all_predictions)\n",
    "plt.figure(figsize=(8, 6))\n",
    "sns.heatmap(cm, annot=True, fmt='d', cmap='Blues',\n",
    "            xticklabels=['No Mask', 'Mask', 'Improper Mask'],\n",
    "            yticklabels=['No Mask', 'Mask', 'Improper Mask'])\n",
    "plt.title('Confusion Matrix (Validation)')\n",
    "plt.xlabel('Predicted')\n",
    "plt.ylabel('True')\n",
    "plt.tight_layout()\n",
    "plt.show()\n"
   ]
  },
  {
   "cell_type": "code",
   "execution_count": 32,
   "metadata": {},
   "outputs": [
    {
     "name": "stdout",
     "output_type": "stream",
     "text": [
      "Training final model...\n"
     ]
    },
    {
     "name": "stderr",
     "output_type": "stream",
     "text": [
      "Extracting HOG features: 100%|███████████████████████████████████████████████████████| 458/458 [00:02<00:00, 193.52it/s]\n"
     ]
    },
    {
     "name": "stdout",
     "output_type": "stream",
     "text": [
      "Test Accuracy: 0.7533\n",
      "               precision    recall  f1-score   support\n",
      "\n",
      "      No Mask       0.32      0.53      0.40        51\n",
      "         Mask       0.91      0.80      0.85       388\n",
      "Improper Mask       0.23      0.42      0.30        19\n",
      "\n",
      "     accuracy                           0.75       458\n",
      "    macro avg       0.49      0.58      0.52       458\n",
      " weighted avg       0.82      0.75      0.78       458\n",
      "\n"
     ]
    },
    {
     "data": {
      "image/png": "[encoded data removed]",
      "text/plain": [
       "<Figure size 800x600 with 2 Axes>"
      ]
     },
     "metadata": {},
     "output_type": "display_data"
    },
    {
     "name": "stdout",
     "output_type": "stream",
     "text": [
      "\n",
      "############ SUMMARY ############\n",
      "Best kernel: linear\n",
      "C: 0.07463130721035442\n",
      "Gamma: scale\n",
      "HOG: orientations=13, pixels_per_cell=(10, 10), cells_per_block=(3, 3)\n",
      "Validation Accuracy: 0.7718\n",
      "Test Accuracy: 0.7533\n"
     ]
    }
   ],
   "source": [
    "#final model training and test evaluation\n",
    "print(\"Training final model...\")\n",
    "scaler = CPU_StandardScaler()\n",
    "X_train_full_scaled = scaler.fit_transform(X_train_full_np)\n",
    "final_svm = CPU_SVC(kernel=best_kernel, C=best_C, gamma=best_gamma, probability=True, class_weight=best_class_weight)\n",
    "final_svm.fit(X_train_full_scaled, all_train_labels_np)\n",
    "\n",
    "joblib.dump(final_svm, os.path.join(modelsDir, \"svm_hog_model.joblib\"))\n",
    "joblib.dump(scaler, os.path.join(modelsDir, \"svm_hog_scaler.joblib\"))\n",
    "\n",
    "X_test = extract_hog_features(test_image_paths, best_orientations, best_pixels_per_cell, best_cells_per_block)\n",
    "X_test_scaled = scaler.transform(to_numpy(X_test))\n",
    "test_labels_np = to_numpy(test_labels)\n",
    "\n",
    "test_preds = final_svm.predict(X_test_scaled)\n",
    "print(f\"Test Accuracy: {accuracy_score(test_labels_np, test_preds):.4f}\")\n",
    "print(classification_report(test_labels_np, test_preds, target_names=['No Mask', 'Mask', 'Improper Mask']))\n",
    "\n",
    "test_cm = confusion_matrix(test_labels_np, test_preds)\n",
    "plt.figure(figsize=(8, 6))\n",
    "sns.heatmap(test_cm, annot=True, fmt='d', cmap='Blues',\n",
    "            xticklabels=['No Mask', 'Mask', 'Improper Mask'],\n",
    "            yticklabels=['No Mask', 'Mask', 'Improper Mask'])\n",
    "plt.title('Confusion Matrix (Test Set)')\n",
    "plt.xlabel('Predicted')\n",
    "plt.ylabel('True')\n",
    "plt.tight_layout()\n",
    "plt.show()\n",
    "\n",
    "print(\"\\n############ SUMMARY ############\")\n",
    "print(f\"Best kernel: {best_kernel}\")\n",
    "print(f\"C: {best_C}\")\n",
    "print(f\"Gamma: {best_gamma}\")\n",
    "print(f\"HOG: orientations={best_orientations}, pixels_per_cell={best_pixels_per_cell}, cells_per_block={best_cells_per_block}\")\n",
    "print(f\"Validation Accuracy: {overall_accuracy:.4f}\")\n",
    "print(f\"Test Accuracy: {accuracy_score(test_labels_np, test_preds):.4f}\")\n",
    "\n"
   ]
  },
  {
   "cell_type": "code",
   "execution_count": null,
   "metadata": {},
   "outputs": [],
   "source": []
  },
  {
   "cell_type": "code",
   "execution_count": null,
   "metadata": {},
   "outputs": [],
   "source": []
  },
  {
   "cell_type": "code",
   "execution_count": null,
   "metadata": {},
   "outputs": [],
   "source": []
  },
  {
   "cell_type": "code",
   "execution_count": null,
   "metadata": {},
   "outputs": [],
   "source": []
  }
 ],
 "metadata": {
  "kernelspec": {
   "display_name": "Python (ml-env)",
   "language": "python",
   "name": "ml-env"
  },
  "language_info": {
   "codemirror_mode": {
    "name": "ipython",
    "version": 3
   },
   "file_extension": ".py",
   "mimetype": "text/x-python",
   "name": "python",
   "nbconvert_exporter": "python",
   "pygments_lexer": "ipython3",
   "version": "3.10.12"
  }
 },
 "nbformat": 4,
 "nbformat_minor": 4
}
