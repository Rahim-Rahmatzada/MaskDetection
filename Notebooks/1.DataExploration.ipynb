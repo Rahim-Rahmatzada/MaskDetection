{
 "cells": [
  {
   "cell_type": "markdown",
   "metadata": {},
   "source": [
    "# Data Exploration - Notebook 1\n",
    "## Understanding face mask dataset\n",
    "\n",
    "\n",
    "- Checking image sizes and quality\n",
    "- Identifying missing or corrupted images\n",
    "- Analyzing label distribution\n",
    "- Summarizing key findings\n"
   ]
  },
  {
   "cell_type": "code",
   "execution_count": 3,
   "metadata": {},
   "outputs": [],
   "source": [
    "import os\n",
    "import cv2\n",
    "import numpy as np\n",
    "import pandas as pd\n",
    "import matplotlib.pyplot as plt\n",
    "from collections import Counter\n",
    "from tqdm import tqdm\n",
    "from pathlib import Path\n"
   ]
  },
  {
   "cell_type": "code",
   "execution_count": 2,
   "metadata": {},
   "outputs": [
    {
     "ename": "FileNotFoundError",
     "evalue": "[WinError 3] The system cannot find the path specified: 'CV2024_CW_Dataset\\\\train/images'",
     "output_type": "error",
     "traceback": [
      "\u001b[1;31m---------------------------------------------------------------------------\u001b[0m",
      "\u001b[1;31mFileNotFoundError\u001b[0m                         Traceback (most recent call last)",
      "Cell \u001b[1;32mIn[2], line 9\u001b[0m\n\u001b[0;32m      6\u001b[0m test_label_path \u001b[38;5;241m=\u001b[39m os\u001b[38;5;241m.\u001b[39mpath\u001b[38;5;241m.\u001b[39mjoin(dataset_path, \u001b[38;5;124m\"\u001b[39m\u001b[38;5;124mtest/labels\u001b[39m\u001b[38;5;124m\"\u001b[39m)\n\u001b[0;32m      8\u001b[0m \u001b[38;5;66;03m# Count files\u001b[39;00m\n\u001b[1;32m----> 9\u001b[0m train_images \u001b[38;5;241m=\u001b[39m \u001b[38;5;28msorted\u001b[39m(\u001b[43mos\u001b[49m\u001b[38;5;241;43m.\u001b[39;49m\u001b[43mlistdir\u001b[49m\u001b[43m(\u001b[49m\u001b[43mtrain_img_path\u001b[49m\u001b[43m)\u001b[49m)\n\u001b[0;32m     10\u001b[0m train_labels \u001b[38;5;241m=\u001b[39m \u001b[38;5;28msorted\u001b[39m(os\u001b[38;5;241m.\u001b[39mlistdir(train_label_path))\n\u001b[0;32m     11\u001b[0m test_images \u001b[38;5;241m=\u001b[39m \u001b[38;5;28msorted\u001b[39m(os\u001b[38;5;241m.\u001b[39mlistdir(test_img_path))\n",
      "\u001b[1;31mFileNotFoundError\u001b[0m: [WinError 3] The system cannot find the path specified: 'CV2024_CW_Dataset\\\\train/images'"
     ]
    }
   ],
   "source": [
    "from pathlib import Path\n",
    "import os\n",
    "\n",
    "# Dynamically get the absolute path to the project root (assumes notebooks are in a \"Notebooks\" folder)\n",
    "projectRoot = Path().resolve().parent  # Adjusted for maximum compatibility\n",
    "datasetPath = projectRoot / \"CV2024_CW_Dataset\"\n",
    "\n",
    "# Define dataset paths dynamically\n",
    "trainImagePath = datasetPath / \"train\" / \"images\"\n",
    "trainLabelPath = datasetPath / \"train\" / \"labels\"\n",
    "testImagePath = datasetPath / \"test\" / \"images\"\n",
    "testLabelPath = datasetPath / \"test\" / \"labels\"\n",
    "\n",
    "# Ensure dataset paths exist before proceeding\n",
    "for path in [trainImagePath, trainLabelPath, testImagePath, testLabelPath]:\n",
    "    if not path.exists():\n",
    "        raise FileNotFoundError(f\"Path not found: {path}\")\n",
    "\n",
    "# Convert paths to strings for OpenCV compatibility\n",
    "trainImagePath = str(trainImagePath)\n",
    "trainLabelPath = str(trainLabelPath)\n",
    "testImagePath = str(testImagePath)\n",
    "testLabelPath = str(testLabelPath)\n",
    "\n",
    "# Count files\n",
    "trainImages = sorted(os.listdir(trainImagePath))\n",
    "trainLabels = sorted(os.listdir(trainLabelPath))\n",
    "testImages = sorted(os.listdir(testImagePath))\n",
    "testLabels = sorted(os.listdir(testLabelPath))\n",
    "\n",
    "print(f\"Dataset located at: {datasetPath}\")\n",
    "print(f\"Total Training Images: {len(trainImages)}\")\n",
    "print(f\"Total Training Labels: {len(trainLabels)}\")\n",
    "print(f\"Total Testing Images: {len(testImages)}\")\n",
    "print(f\"Total Testing Labels: {len(testLabels)}\")\n"
   ]
  },
  {
   "cell_type": "code",
   "execution_count": null,
   "metadata": {},
   "outputs": [],
   "source": []
  },
  {
   "cell_type": "code",
   "execution_count": null,
   "metadata": {},
   "outputs": [],
   "source": []
  },
  {
   "cell_type": "code",
   "execution_count": null,
   "metadata": {},
   "outputs": [],
   "source": []
  },
  {
   "cell_type": "code",
   "execution_count": null,
   "metadata": {},
   "outputs": [],
   "source": []
  },
  {
   "cell_type": "code",
   "execution_count": null,
   "metadata": {},
   "outputs": [],
   "source": []
  },
  {
   "cell_type": "code",
   "execution_count": null,
   "metadata": {},
   "outputs": [],
   "source": []
  }
 ],
 "metadata": {
  "kernelspec": {
   "display_name": "Python (cv_env)",
   "language": "python",
   "name": "cv_env"
  },
  "language_info": {
   "codemirror_mode": {
    "name": "ipython",
    "version": 3
   },
   "file_extension": ".py",
   "mimetype": "text/x-python",
   "name": "python",
   "nbconvert_exporter": "python",
   "pygments_lexer": "ipython3",
   "version": "3.10.0"
  }
 },
 "nbformat": 4,
 "nbformat_minor": 4
}
