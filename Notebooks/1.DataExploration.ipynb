{
 "cells": [
  {
   "cell_type": "markdown",
   "metadata": {},
   "source": [
    "# Data Exploration - Notebook 1\n",
    "## Understanding face mask dataset\n",
    "\n",
    "\n",
    "- Checking image sizes and quality\n",
    "- Identifying missing or corrupted images\n",
    "- Analyzing label distribution\n",
    "- Summarizing key findings\n"
   ]
  },
  {
   "cell_type": "code",
   "execution_count": 9,
   "metadata": {},
   "outputs": [],
   "source": [
    "import os\n",
    "import cv2\n",
    "import numpy as np\n",
    "import pandas as pd\n",
    "import matplotlib.pyplot as plt\n",
    "from collections import Counter\n",
    "from tqdm import tqdm\n",
    "from pathlib import Path\n",
    "import cv2"
   ]
  },
  {
   "cell_type": "code",
   "execution_count": 3,
   "metadata": {},
   "outputs": [
    {
     "name": "stdout",
     "output_type": "stream",
     "text": [
      "Dataset located at: C:\\3rd year uni\\IN1 Computer Vision\\MaskDetection\\CV2024_CW_Dataset\n",
      "Total Training Images: 2394\n",
      "Total Training Labels: 2394\n",
      "Total Testing Images: 458\n",
      "Total Testing Labels: 458\n"
     ]
    }
   ],
   "source": [
    "projectRoot = Path().resolve().parent\n",
    "datasetPath = projectRoot / \"CV2024_CW_Dataset\"\n",
    "\n",
    "# Defining dataset paths dynamically\n",
    "trainImagePath = datasetPath / \"train\" / \"images\"\n",
    "trainLabelPath = datasetPath / \"train\" / \"labels\"\n",
    "testImagePath = datasetPath / \"test\" / \"images\"\n",
    "testLabelPath = datasetPath / \"test\" / \"labels\"\n",
    "\n",
    "# ensuring paths exist first\n",
    "for path in [trainImagePath, trainLabelPath, testImagePath, testLabelPath]:\n",
    "    if not path.exists():\n",
    "        raise FileNotFoundError(f\"Path not found: {path}\")\n",
    "\n",
    "# Convert paths to strings for OpenCV compatibility\n",
    "trainImagePath = str(trainImagePath)\n",
    "trainLabelPath = str(trainLabelPath)\n",
    "testImagePath = str(testImagePath)\n",
    "testLabelPath = str(testLabelPath)\n",
    "\n",
    "# counting files\n",
    "trainImages = sorted(os.listdir(trainImagePath))\n",
    "trainLabels = sorted(os.listdir(trainLabelPath))\n",
    "testImages = sorted(os.listdir(testImagePath))\n",
    "testLabels = sorted(os.listdir(testLabelPath))\n",
    "\n",
    "print(f\"Dataset located at: {datasetPath}\")\n",
    "print(f\"Total Training Images: {len(trainImages)}\")\n",
    "print(f\"Total Training Labels: {len(trainLabels)}\")\n",
    "print(f\"Total Testing Images: {len(testImages)}\")\n",
    "print(f\"Total Testing Labels: {len(testLabels)}\")\n"
   ]
  },
  {
   "cell_type": "markdown",
   "metadata": {},
   "source": [
    "## Checking images "
   ]
  },
  {
   "cell_type": "code",
   "execution_count": 8,
   "metadata": {},
   "outputs": [
    {
     "name": "stderr",
     "output_type": "stream",
     "text": [
      "Checking training images: 100%|██████████████████████████████████████████████████████████████████████████████████████████████████████████████████| 2394/2394 [00:00<00:00, 9452.30it/s]\n",
      "Checking test images: 100%|████████████████████████████████████████████████████████████████████████████████████████████████████████████████████████| 458/458 [00:00<00:00, 9586.50it/s]"
     ]
    },
    {
     "name": "stdout",
     "output_type": "stream",
     "text": [
      "All images readable no corruption\n"
     ]
    },
    {
     "name": "stderr",
     "output_type": "stream",
     "text": [
      "\n"
     ]
    }
   ],
   "source": [
    "corruptImages = []\n",
    "\n",
    "#checking if images can be opened\n",
    "for imageName in tqdm(trainImages, desc=\"Checking training images\"):\n",
    "    imagePath = os.path.join(trainImagePath, imageName)\n",
    "    image = cv2.imread(imagePath)\n",
    "    \n",
    "    if image is None:\n",
    "        corruptImages.append(imageName)\n",
    "\n",
    "for imageName in tqdm(testImages, desc=\"Checking test images\"):\n",
    "    imagePath = os.path.join(testImagePath, imageName)\n",
    "    image = cv2.imread(imagePath)\n",
    "    \n",
    "    if image is None:\n",
    "        corruptImages.append(imageName)\n",
    "\n",
    "# display results\n",
    "if corruptImages:\n",
    "    print(f\"Corrupt images found: {len(corruptImages)}\")\n",
    "    print(\"List of corrupt images:\", corruptImages)\n",
    "else:\n",
    "    print(\"All images readable no corruption\")"
   ]
  },
  {
   "cell_type": "markdown",
   "metadata": {},
   "source": [
    "## Analysing label distributions\n",
    "- **0** → No Mask\n",
    "- **1** → Mask\n",
    "- **2** → Improper Mask"
   ]
  },
  {
   "cell_type": "code",
   "execution_count": 11,
   "metadata": {},
   "outputs": [
    {
     "name": "stderr",
     "output_type": "stream",
     "text": [
      "Reading labels from C:\\3rd year uni\\IN1 Computer Vision\\MaskDetection\\CV2024_CW_Dataset\\train\\labels: 100%|█████████████████████████████████████| 2394/2394 [00:00<00:00, 16658.45it/s]\n",
      "Reading labels from C:\\3rd year uni\\IN1 Computer Vision\\MaskDetection\\CV2024_CW_Dataset\\test\\labels: 100%|█████████████████████████████████████████| 458/458 [00:00<00:00, 9810.84it/s]"
     ]
    },
    {
     "name": "stdout",
     "output_type": "stream",
     "text": [
      "Label Distribution in Training Set:\n",
      "                   Count  Percentage\n",
      "No Mask (0)          376   15.705931\n",
      "Mask (1)            1940   81.035923\n",
      "Improper Mask (2)     78    3.258145\n",
      "\n",
      "Label Distribution in Test Set:\n",
      "                   Count  Percentage\n",
      "No Mask (0)          388   84.716157\n",
      "Mask (1)              51   11.135371\n",
      "Improper Mask (2)     19    4.148472\n"
     ]
    },
    {
     "name": "stderr",
     "output_type": "stream",
     "text": [
      "\n"
     ]
    }
   ],
   "source": [
    "# Read all label files and count occurences\n",
    "def countLabels(labelPath, labelFiles):\n",
    "    labelCounts = Counter()\n",
    "    \n",
    "    for labelFile in tqdm(labelFiles, desc=f\"Reading labels from {labelPath}\"):\n",
    "        filePath = os.path.join(labelPath, labelFile)\n",
    "        with open(filePath, 'r') as file:\n",
    "            label = int(file.read().strip())  # Convert label to int\n",
    "            labelCounts[label] += 1\n",
    "\n",
    "    return labelCounts\n",
    "\n",
    "# Count labels for Train and Test sets\n",
    "trainLabelCounts = countLabels(trainLabelPath, trainLabels)\n",
    "testLabelCounts = countLabels(testLabelPath, testLabels)\n",
    "\n",
    "# Convert counts to DataFrame\n",
    "def createLabelDataFrame(labelCounts, datasetSize):\n",
    "    df = pd.DataFrame.from_dict(labelCounts, orient='index', columns=['Count'])\n",
    "    df['Percentage'] = (df['Count'] / datasetSize) * 100  # Calculate percentage\n",
    "    df.index = [\"No Mask (0)\", \"Mask (1)\", \"Improper Mask (2)\"]\n",
    "    return df\n",
    "\n",
    "trainLabelDistribution = createLabelDataFrame(trainLabelCounts, len(trainImages))\n",
    "testLabelDistribution = createLabelDataFrame(testLabelCounts, len(testImages))\n",
    "\n",
    "print(\"Label Distribution in Training Set:\")\n",
    "print(trainLabelDistribution)\n",
    "\n",
    "print(\"\\nLabel Distribution in Test Set:\")\n",
    "print(testLabelDistribution)"
   ]
  },
  {
   "cell_type": "markdown",
   "metadata": {},
   "source": [
    "## Summary of Findings\n",
    "\n",
    "### Dataset Quality\n",
    "- **No missing images or labels** detected \n",
    "- **No corrupt images** found\n",
    "\n",
    "### Class Distribution Observations\n",
    "#### Training Set\n",
    "- **81% of images** : **Mask (1)**  \n",
    "- **Only 3% of images** : **Improper Mask (2)** \n",
    "- **No Mask (0) is underrepresented** : **15%**\n",
    "\n",
    "#### Testing Set\n",
    "- **No Mask (0) dominates at 84%**, unlike the training set.  \n",
    "- **Mask (1) drops to 11%**, which is inconsistent with training distribution \n",
    "- **Improper Mask (2) remains low (4%)**, making it harder to train for  \n",
    "\n",
    "### Impact on Model Performance\n",
    "- **Severe class imbalance** will lead to **bias in predictions** \n",
    "- **Test set does not match training distribution** which will lead to **poor generalization**\n",
    "- **Underrepresentation of Improper Mask (2)** means model will **struggle correctly predicting this class**  \n",
    "\n"
   ]
  },
  {
   "cell_type": "code",
   "execution_count": null,
   "metadata": {},
   "outputs": [],
   "source": []
  },
  {
   "cell_type": "code",
   "execution_count": null,
   "metadata": {},
   "outputs": [],
   "source": []
  }
 ],
 "metadata": {
  "kernelspec": {
   "display_name": "Python 3 (ipykernel)",
   "language": "python",
   "name": "python3"
  },
  "language_info": {
   "codemirror_mode": {
    "name": "ipython",
    "version": 3
   },
   "file_extension": ".py",
   "mimetype": "text/x-python",
   "name": "python",
   "nbconvert_exporter": "python",
   "pygments_lexer": "ipython3",
   "version": "3.10.12"
  }
 },
 "nbformat": 4,
 "nbformat_minor": 4
}
