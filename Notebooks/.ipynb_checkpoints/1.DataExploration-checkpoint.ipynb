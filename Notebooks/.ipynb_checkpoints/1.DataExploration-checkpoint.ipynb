{
 "cells": [
  {
   "cell_type": "markdown",
   "metadata": {},
   "source": [
    "# Data Exploration - Notebook 1\n",
    "## Understanding face mask dataset\n",
    "\n",
    "\n",
    "- Checking image sizes and quality\n",
    "- Identifying missing or corrupted images\n",
    "- Analyzing label distribution\n",
    "- Summarizing key findings\n"
   ]
  },
  {
   "cell_type": "code",
   "execution_count": 2,
   "metadata": {},
   "outputs": [],
   "source": [
    "import os\n",
    "import cv2\n",
    "import numpy as np\n",
    "import pandas as pd\n",
    "import matplotlib.pyplot as plt\n",
    "from collections import Counter\n",
    "from tqdm import tqdm\n",
    "from pathlib import Path\n",
    "import cv2\n"
   ]
  },
  {
   "cell_type": "code",
   "execution_count": 3,
   "metadata": {},
   "outputs": [
    {
     "name": "stdout",
     "output_type": "stream",
     "text": [
      "Dataset located at: C:\\3rd year uni\\IN1 Computer Vision\\MaskDetection\\CV2024_CW_Dataset\n",
      "Total Training Images: 2394\n",
      "Total Training Labels: 2394\n",
      "Total Testing Images: 458\n",
      "Total Testing Labels: 458\n"
     ]
    }
   ],
   "source": [
    "projectRoot = Path().resolve().parent\n",
    "datasetPath = projectRoot / \"CV2024_CW_Dataset\"\n",
    "\n",
    "# Defining dataset paths dynamically\n",
    "trainImagePath = datasetPath / \"train\" / \"images\"\n",
    "trainLabelPath = datasetPath / \"train\" / \"labels\"\n",
    "testImagePath = datasetPath / \"test\" / \"images\"\n",
    "testLabelPath = datasetPath / \"test\" / \"labels\"\n",
    "\n",
    "# ensuring paths exist first\n",
    "for path in [trainImagePath, trainLabelPath, testImagePath, testLabelPath]:\n",
    "    if not path.exists():\n",
    "        raise FileNotFoundError(f\"Path not found: {path}\")\n",
    "\n",
    "# Convert paths to strings for OpenCV compatibility\n",
    "trainImagePath = str(trainImagePath)\n",
    "trainLabelPath = str(trainLabelPath)\n",
    "testImagePath = str(testImagePath)\n",
    "testLabelPath = str(testLabelPath)\n",
    "\n",
    "# counting files\n",
    "trainImages = sorted(os.listdir(trainImagePath))\n",
    "trainLabels = sorted(os.listdir(trainLabelPath))\n",
    "testImages = sorted(os.listdir(testImagePath))\n",
    "testLabels = sorted(os.listdir(testLabelPath))\n",
    "\n",
    "print(f\"Dataset located at: {datasetPath}\")\n",
    "print(f\"Total Training Images: {len(trainImages)}\")\n",
    "print(f\"Total Training Labels: {len(trainLabels)}\")\n",
    "print(f\"Total Testing Images: {len(testImages)}\")\n",
    "print(f\"Total Testing Labels: {len(testLabels)}\")\n"
   ]
  },
  {
   "cell_type": "code",
   "execution_count": null,
   "metadata": {},
   "outputs": [],
   "source": []
  },
  {
   "cell_type": "code",
   "execution_count": null,
   "metadata": {},
   "outputs": [],
   "source": []
  },
  {
   "cell_type": "code",
   "execution_count": null,
   "metadata": {},
   "outputs": [],
   "source": []
  },
  {
   "cell_type": "code",
   "execution_count": null,
   "metadata": {},
   "outputs": [],
   "source": []
  },
  {
   "cell_type": "code",
   "execution_count": null,
   "metadata": {},
   "outputs": [],
   "source": []
  },
  {
   "cell_type": "code",
   "execution_count": null,
   "metadata": {},
   "outputs": [],
   "source": []
  }
 ],
 "metadata": {
  "kernelspec": {
   "display_name": "Python (cv_env)",
   "language": "python",
   "name": "cv_env"
  },
  "language_info": {
   "codemirror_mode": {
    "name": "ipython",
    "version": 3
   },
   "file_extension": ".py",
   "mimetype": "text/x-python",
   "name": "python",
   "nbconvert_exporter": "python",
   "pygments_lexer": "ipython3",
   "version": "3.10.0"
  }
 },
 "nbformat": 4,
 "nbformat_minor": 4
}
