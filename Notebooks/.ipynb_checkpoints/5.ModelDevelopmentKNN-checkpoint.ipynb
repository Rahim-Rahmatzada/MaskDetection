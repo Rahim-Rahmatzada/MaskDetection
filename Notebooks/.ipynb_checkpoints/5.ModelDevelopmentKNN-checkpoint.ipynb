{
 "cells": [
  {
   "cell_type": "code",
   "execution_count": 2,
   "id": "6772479b-d863-412c-a8fb-9efb04316bea",
   "metadata": {},
   "outputs": [
    {
     "name": "stderr",
     "output_type": "stream",
     "text": [
      "[I 2025-04-22 13:45:50,906] A new study created in memory with name: no-name-3784512f-32d4-429c-b53a-a19b32ed4a83\n",
      "[I 2025-04-22 13:46:09,155] Trial 0 finished with value: 0.5938175738435816 and parameters: {'orientations': 8, 'ppc_x': 8, 'ppc_y': 8, 'cpb_x': 2, 'cpb_y': 3, 'stride_x': 6, 'stride_y': 8, 'n_neighbors': 12, 'weights': 'distance', 'metric': 'chebyshev'}. Best is trial 0 with value: 0.5938175738435816.\n",
      "[I 2025-04-22 13:46:09,170] Trial 1 pruned. \n",
      "[I 2025-04-22 13:46:09,172] Trial 2 pruned. \n",
      "[I 2025-04-22 13:46:09,178] Trial 3 pruned. \n",
      "[I 2025-04-22 13:46:09,183] Trial 4 pruned. \n",
      "[I 2025-04-22 13:46:09,185] Trial 5 pruned. \n"
     ]
    },
    {
     "name": "stdout",
     "output_type": "stream",
     "text": [
      "Trial 0 - Acc: 0.5938 - Params: {'orientations': 8, 'ppc_x': 8, 'ppc_y': 8, 'cpb_x': 2, 'cpb_y': 3, 'stride_x': 6, 'stride_y': 8, 'n_neighbors': 12, 'weights': 'distance', 'metric': 'chebyshev'}\n"
     ]
    },
    {
     "name": "stderr",
     "output_type": "stream",
     "text": [
      "[I 2025-04-22 13:46:25,758] Trial 6 finished with value: 0.7902845658892473 and parameters: {'orientations': 6, 'ppc_x': 4, 'ppc_y': 8, 'cpb_x': 4, 'cpb_y': 4, 'stride_x': 4, 'stride_y': 4, 'n_neighbors': 12, 'weights': 'distance', 'metric': 'euclidean'}. Best is trial 6 with value: 0.7902845658892473.\n",
      "[I 2025-04-22 13:46:25,761] Trial 7 pruned. \n",
      "[I 2025-04-22 13:46:25,763] Trial 8 pruned. \n",
      "[I 2025-04-22 13:46:25,771] Trial 9 pruned. \n"
     ]
    },
    {
     "name": "stdout",
     "output_type": "stream",
     "text": [
      "Trial 6 - Acc: 0.7903 - Params: {'orientations': 6, 'ppc_x': 4, 'ppc_y': 8, 'cpb_x': 4, 'cpb_y': 4, 'stride_x': 4, 'stride_y': 4, 'n_neighbors': 12, 'weights': 'distance', 'metric': 'euclidean'}\n"
     ]
    },
    {
     "name": "stderr",
     "output_type": "stream",
     "text": [
      "[I 2025-04-22 13:46:50,352] Trial 10 finished with value: 0.8861746575920829 and parameters: {'orientations': 6, 'ppc_x': 8, 'ppc_y': 10, 'cpb_x': 4, 'cpb_y': 4, 'stride_x': 4, 'stride_y': 4, 'n_neighbors': 2, 'weights': 'distance', 'metric': 'manhattan'}. Best is trial 10 with value: 0.8861746575920829.\n"
     ]
    },
    {
     "name": "stdout",
     "output_type": "stream",
     "text": [
      "Trial 10 - Acc: 0.8862 - Params: {'orientations': 6, 'ppc_x': 8, 'ppc_y': 10, 'cpb_x': 4, 'cpb_y': 4, 'stride_x': 4, 'stride_y': 4, 'n_neighbors': 2, 'weights': 'distance', 'metric': 'manhattan'}\n"
     ]
    },
    {
     "name": "stderr",
     "output_type": "stream",
     "text": [
      "[I 2025-04-22 13:47:15,281] Trial 11 finished with value: 0.8861746575920829 and parameters: {'orientations': 6, 'ppc_x': 8, 'ppc_y': 10, 'cpb_x': 4, 'cpb_y': 4, 'stride_x': 4, 'stride_y': 4, 'n_neighbors': 1, 'weights': 'distance', 'metric': 'manhattan'}. Best is trial 10 with value: 0.8861746575920829.\n"
     ]
    },
    {
     "name": "stdout",
     "output_type": "stream",
     "text": [
      "Trial 11 - Acc: 0.8862 - Params: {'orientations': 6, 'ppc_x': 8, 'ppc_y': 10, 'cpb_x': 4, 'cpb_y': 4, 'stride_x': 4, 'stride_y': 4, 'n_neighbors': 1, 'weights': 'distance', 'metric': 'manhattan'}\n"
     ]
    },
    {
     "name": "stderr",
     "output_type": "stream",
     "text": [
      "[I 2025-04-22 13:47:39,134] Trial 12 finished with value: 0.8861746575920829 and parameters: {'orientations': 6, 'ppc_x': 8, 'ppc_y': 10, 'cpb_x': 4, 'cpb_y': 4, 'stride_x': 4, 'stride_y': 4, 'n_neighbors': 1, 'weights': 'distance', 'metric': 'manhattan'}. Best is trial 10 with value: 0.8861746575920829.\n"
     ]
    },
    {
     "name": "stdout",
     "output_type": "stream",
     "text": [
      "Trial 12 - Acc: 0.8862 - Params: {'orientations': 6, 'ppc_x': 8, 'ppc_y': 10, 'cpb_x': 4, 'cpb_y': 4, 'stride_x': 4, 'stride_y': 4, 'n_neighbors': 1, 'weights': 'distance', 'metric': 'manhattan'}\n"
     ]
    },
    {
     "name": "stderr",
     "output_type": "stream",
     "text": [
      "[I 2025-04-22 13:47:57,512] Trial 13 pruned. \n",
      "[I 2025-04-22 13:48:22,420] Trial 14 pruned. \n",
      "[I 2025-04-22 13:48:42,018] Trial 15 pruned. \n",
      "[I 2025-04-22 13:49:01,831] Trial 16 pruned. \n",
      "[I 2025-04-22 13:49:14,545] Trial 17 pruned. \n",
      "[I 2025-04-22 13:49:30,268] Trial 18 pruned. \n",
      "[I 2025-04-22 13:49:30,287] Trial 19 pruned. \n",
      "[I 2025-04-22 13:49:45,149] Trial 20 pruned. \n",
      "[I 2025-04-22 13:50:11,415] Trial 21 finished with value: 0.8861746575920829 and parameters: {'orientations': 6, 'ppc_x': 8, 'ppc_y': 10, 'cpb_x': 4, 'cpb_y': 4, 'stride_x': 4, 'stride_y': 4, 'n_neighbors': 1, 'weights': 'distance', 'metric': 'manhattan'}. Best is trial 10 with value: 0.8861746575920829.\n"
     ]
    },
    {
     "name": "stdout",
     "output_type": "stream",
     "text": [
      "Trial 21 - Acc: 0.8862 - Params: {'orientations': 6, 'ppc_x': 8, 'ppc_y': 10, 'cpb_x': 4, 'cpb_y': 4, 'stride_x': 4, 'stride_y': 4, 'n_neighbors': 1, 'weights': 'distance', 'metric': 'manhattan'}\n"
     ]
    },
    {
     "name": "stderr",
     "output_type": "stream",
     "text": [
      "[I 2025-04-22 13:50:36,273] Trial 22 finished with value: 0.8861746575920829 and parameters: {'orientations': 6, 'ppc_x': 8, 'ppc_y': 10, 'cpb_x': 4, 'cpb_y': 4, 'stride_x': 4, 'stride_y': 4, 'n_neighbors': 1, 'weights': 'distance', 'metric': 'manhattan'}. Best is trial 10 with value: 0.8861746575920829.\n"
     ]
    },
    {
     "name": "stdout",
     "output_type": "stream",
     "text": [
      "Trial 22 - Acc: 0.8862 - Params: {'orientations': 6, 'ppc_x': 8, 'ppc_y': 10, 'cpb_x': 4, 'cpb_y': 4, 'stride_x': 4, 'stride_y': 4, 'n_neighbors': 1, 'weights': 'distance', 'metric': 'manhattan'}\n"
     ]
    },
    {
     "name": "stderr",
     "output_type": "stream",
     "text": [
      "[I 2025-04-22 13:50:51,425] Trial 23 pruned. \n",
      "[I 2025-04-22 13:51:28,532] Trial 24 pruned. \n",
      "[I 2025-04-22 13:51:44,340] Trial 25 pruned. \n",
      "[I 2025-04-22 13:51:59,516] Trial 26 pruned. \n",
      "[I 2025-04-22 13:52:14,052] Trial 27 pruned. \n",
      "[I 2025-04-22 13:52:14,074] Trial 28 pruned. \n",
      "[I 2025-04-22 13:52:14,089] Trial 29 pruned. \n",
      "[I 2025-04-22 13:52:14,102] Trial 30 pruned. \n",
      "[I 2025-04-22 13:52:39,240] Trial 31 finished with value: 0.8861746575920829 and parameters: {'orientations': 6, 'ppc_x': 8, 'ppc_y': 10, 'cpb_x': 4, 'cpb_y': 4, 'stride_x': 4, 'stride_y': 4, 'n_neighbors': 1, 'weights': 'distance', 'metric': 'manhattan'}. Best is trial 10 with value: 0.8861746575920829.\n"
     ]
    },
    {
     "name": "stdout",
     "output_type": "stream",
     "text": [
      "Trial 31 - Acc: 0.8862 - Params: {'orientations': 6, 'ppc_x': 8, 'ppc_y': 10, 'cpb_x': 4, 'cpb_y': 4, 'stride_x': 4, 'stride_y': 4, 'n_neighbors': 1, 'weights': 'distance', 'metric': 'manhattan'}\n"
     ]
    },
    {
     "name": "stderr",
     "output_type": "stream",
     "text": [
      "[I 2025-04-22 13:52:55,042] Trial 32 pruned. \n",
      "[I 2025-04-22 13:52:55,061] Trial 33 pruned. \n",
      "[I 2025-04-22 13:53:12,667] Trial 34 pruned. \n",
      "[I 2025-04-22 13:53:12,690] Trial 35 pruned. \n",
      "[I 2025-04-22 13:53:12,699] Trial 36 pruned. \n",
      "[I 2025-04-22 13:53:12,714] Trial 37 pruned. \n",
      "[I 2025-04-22 13:53:12,728] Trial 38 pruned. \n",
      "[I 2025-04-22 13:53:25,747] Trial 39 pruned. \n",
      "[I 2025-04-22 13:53:25,770] Trial 40 pruned. \n",
      "[I 2025-04-22 13:53:52,274] Trial 41 finished with value: 0.8861746575920829 and parameters: {'orientations': 6, 'ppc_x': 8, 'ppc_y': 10, 'cpb_x': 4, 'cpb_y': 4, 'stride_x': 4, 'stride_y': 4, 'n_neighbors': 1, 'weights': 'distance', 'metric': 'manhattan'}. Best is trial 10 with value: 0.8861746575920829.\n"
     ]
    },
    {
     "name": "stdout",
     "output_type": "stream",
     "text": [
      "Trial 41 - Acc: 0.8862 - Params: {'orientations': 6, 'ppc_x': 8, 'ppc_y': 10, 'cpb_x': 4, 'cpb_y': 4, 'stride_x': 4, 'stride_y': 4, 'n_neighbors': 1, 'weights': 'distance', 'metric': 'manhattan'}\n"
     ]
    },
    {
     "name": "stderr",
     "output_type": "stream",
     "text": [
      "[I 2025-04-22 13:54:16,507] Trial 42 finished with value: 0.8861746575920829 and parameters: {'orientations': 6, 'ppc_x': 8, 'ppc_y': 10, 'cpb_x': 4, 'cpb_y': 4, 'stride_x': 4, 'stride_y': 4, 'n_neighbors': 1, 'weights': 'distance', 'metric': 'manhattan'}. Best is trial 10 with value: 0.8861746575920829.\n"
     ]
    },
    {
     "name": "stdout",
     "output_type": "stream",
     "text": [
      "Trial 42 - Acc: 0.8862 - Params: {'orientations': 6, 'ppc_x': 8, 'ppc_y': 10, 'cpb_x': 4, 'cpb_y': 4, 'stride_x': 4, 'stride_y': 4, 'n_neighbors': 1, 'weights': 'distance', 'metric': 'manhattan'}\n"
     ]
    },
    {
     "name": "stderr",
     "output_type": "stream",
     "text": [
      "[I 2025-04-22 13:54:40,790] Trial 43 finished with value: 0.8861746575920829 and parameters: {'orientations': 6, 'ppc_x': 8, 'ppc_y': 10, 'cpb_x': 4, 'cpb_y': 4, 'stride_x': 4, 'stride_y': 4, 'n_neighbors': 2, 'weights': 'distance', 'metric': 'manhattan'}. Best is trial 10 with value: 0.8861746575920829.\n"
     ]
    },
    {
     "name": "stdout",
     "output_type": "stream",
     "text": [
      "Trial 43 - Acc: 0.8862 - Params: {'orientations': 6, 'ppc_x': 8, 'ppc_y': 10, 'cpb_x': 4, 'cpb_y': 4, 'stride_x': 4, 'stride_y': 4, 'n_neighbors': 2, 'weights': 'distance', 'metric': 'manhattan'}\n"
     ]
    },
    {
     "name": "stderr",
     "output_type": "stream",
     "text": [
      "[I 2025-04-22 13:54:57,151] Trial 44 pruned. \n",
      "[I 2025-04-22 13:55:11,100] Trial 45 pruned. \n",
      "[I 2025-04-22 13:55:30,547] Trial 46 pruned. \n",
      "[I 2025-04-22 13:55:30,572] Trial 47 pruned. \n",
      "[I 2025-04-22 13:55:44,245] Trial 48 pruned. \n",
      "[I 2025-04-22 13:55:44,273] Trial 49 pruned. \n",
      "[I 2025-04-22 13:55:59,050] Trial 50 pruned. \n",
      "[I 2025-04-22 13:56:23,378] Trial 51 finished with value: 0.8861746575920829 and parameters: {'orientations': 6, 'ppc_x': 8, 'ppc_y': 10, 'cpb_x': 4, 'cpb_y': 4, 'stride_x': 4, 'stride_y': 4, 'n_neighbors': 1, 'weights': 'distance', 'metric': 'manhattan'}. Best is trial 10 with value: 0.8861746575920829.\n"
     ]
    },
    {
     "name": "stdout",
     "output_type": "stream",
     "text": [
      "Trial 51 - Acc: 0.8862 - Params: {'orientations': 6, 'ppc_x': 8, 'ppc_y': 10, 'cpb_x': 4, 'cpb_y': 4, 'stride_x': 4, 'stride_y': 4, 'n_neighbors': 1, 'weights': 'distance', 'metric': 'manhattan'}\n"
     ]
    },
    {
     "name": "stderr",
     "output_type": "stream",
     "text": [
      "[I 2025-04-22 13:56:48,254] Trial 52 finished with value: 0.8861746575920829 and parameters: {'orientations': 6, 'ppc_x': 8, 'ppc_y': 10, 'cpb_x': 4, 'cpb_y': 4, 'stride_x': 4, 'stride_y': 4, 'n_neighbors': 1, 'weights': 'distance', 'metric': 'manhattan'}. Best is trial 10 with value: 0.8861746575920829.\n"
     ]
    },
    {
     "name": "stdout",
     "output_type": "stream",
     "text": [
      "Trial 52 - Acc: 0.8862 - Params: {'orientations': 6, 'ppc_x': 8, 'ppc_y': 10, 'cpb_x': 4, 'cpb_y': 4, 'stride_x': 4, 'stride_y': 4, 'n_neighbors': 1, 'weights': 'distance', 'metric': 'manhattan'}\n"
     ]
    },
    {
     "name": "stderr",
     "output_type": "stream",
     "text": [
      "[I 2025-04-22 13:57:12,708] Trial 53 finished with value: 0.8861746575920829 and parameters: {'orientations': 6, 'ppc_x': 8, 'ppc_y': 10, 'cpb_x': 4, 'cpb_y': 4, 'stride_x': 4, 'stride_y': 4, 'n_neighbors': 2, 'weights': 'distance', 'metric': 'manhattan'}. Best is trial 10 with value: 0.8861746575920829.\n"
     ]
    },
    {
     "name": "stdout",
     "output_type": "stream",
     "text": [
      "Trial 53 - Acc: 0.8862 - Params: {'orientations': 6, 'ppc_x': 8, 'ppc_y': 10, 'cpb_x': 4, 'cpb_y': 4, 'stride_x': 4, 'stride_y': 4, 'n_neighbors': 2, 'weights': 'distance', 'metric': 'manhattan'}\n"
     ]
    },
    {
     "name": "stderr",
     "output_type": "stream",
     "text": [
      "[I 2025-04-22 13:57:37,478] Trial 54 finished with value: 0.8861746575920829 and parameters: {'orientations': 6, 'ppc_x': 8, 'ppc_y': 10, 'cpb_x': 4, 'cpb_y': 4, 'stride_x': 4, 'stride_y': 4, 'n_neighbors': 1, 'weights': 'distance', 'metric': 'manhattan'}. Best is trial 10 with value: 0.8861746575920829.\n"
     ]
    },
    {
     "name": "stdout",
     "output_type": "stream",
     "text": [
      "Trial 54 - Acc: 0.8862 - Params: {'orientations': 6, 'ppc_x': 8, 'ppc_y': 10, 'cpb_x': 4, 'cpb_y': 4, 'stride_x': 4, 'stride_y': 4, 'n_neighbors': 1, 'weights': 'distance', 'metric': 'manhattan'}\n"
     ]
    },
    {
     "name": "stderr",
     "output_type": "stream",
     "text": [
      "[I 2025-04-22 13:58:03,130] Trial 55 pruned. \n",
      "[I 2025-04-22 13:58:28,183] Trial 56 finished with value: 0.8861746575920829 and parameters: {'orientations': 6, 'ppc_x': 8, 'ppc_y': 10, 'cpb_x': 4, 'cpb_y': 4, 'stride_x': 4, 'stride_y': 4, 'n_neighbors': 2, 'weights': 'distance', 'metric': 'manhattan'}. Best is trial 10 with value: 0.8861746575920829.\n"
     ]
    },
    {
     "name": "stdout",
     "output_type": "stream",
     "text": [
      "Trial 56 - Acc: 0.8862 - Params: {'orientations': 6, 'ppc_x': 8, 'ppc_y': 10, 'cpb_x': 4, 'cpb_y': 4, 'stride_x': 4, 'stride_y': 4, 'n_neighbors': 2, 'weights': 'distance', 'metric': 'manhattan'}\n"
     ]
    },
    {
     "name": "stderr",
     "output_type": "stream",
     "text": [
      "[I 2025-04-22 13:58:44,075] Trial 57 pruned. \n",
      "[I 2025-04-22 13:58:44,097] Trial 58 pruned. \n",
      "[I 2025-04-22 13:58:44,107] Trial 59 pruned. \n",
      "[I 2025-04-22 13:59:01,990] Trial 60 pruned. \n",
      "[I 2025-04-22 13:59:25,689] Trial 61 finished with value: 0.8861746575920829 and parameters: {'orientations': 6, 'ppc_x': 8, 'ppc_y': 10, 'cpb_x': 4, 'cpb_y': 4, 'stride_x': 4, 'stride_y': 4, 'n_neighbors': 1, 'weights': 'distance', 'metric': 'manhattan'}. Best is trial 10 with value: 0.8861746575920829.\n"
     ]
    },
    {
     "name": "stdout",
     "output_type": "stream",
     "text": [
      "Trial 61 - Acc: 0.8862 - Params: {'orientations': 6, 'ppc_x': 8, 'ppc_y': 10, 'cpb_x': 4, 'cpb_y': 4, 'stride_x': 4, 'stride_y': 4, 'n_neighbors': 1, 'weights': 'distance', 'metric': 'manhattan'}\n"
     ]
    },
    {
     "name": "stderr",
     "output_type": "stream",
     "text": [
      "[I 2025-04-22 13:59:49,687] Trial 62 finished with value: 0.8861746575920829 and parameters: {'orientations': 6, 'ppc_x': 8, 'ppc_y': 10, 'cpb_x': 4, 'cpb_y': 4, 'stride_x': 4, 'stride_y': 4, 'n_neighbors': 1, 'weights': 'distance', 'metric': 'manhattan'}. Best is trial 10 with value: 0.8861746575920829.\n"
     ]
    },
    {
     "name": "stdout",
     "output_type": "stream",
     "text": [
      "Trial 62 - Acc: 0.8862 - Params: {'orientations': 6, 'ppc_x': 8, 'ppc_y': 10, 'cpb_x': 4, 'cpb_y': 4, 'stride_x': 4, 'stride_y': 4, 'n_neighbors': 1, 'weights': 'distance', 'metric': 'manhattan'}\n"
     ]
    },
    {
     "name": "stderr",
     "output_type": "stream",
     "text": [
      "[I 2025-04-22 14:00:13,511] Trial 63 finished with value: 0.8861746575920829 and parameters: {'orientations': 6, 'ppc_x': 8, 'ppc_y': 10, 'cpb_x': 4, 'cpb_y': 4, 'stride_x': 4, 'stride_y': 4, 'n_neighbors': 2, 'weights': 'distance', 'metric': 'manhattan'}. Best is trial 10 with value: 0.8861746575920829.\n"
     ]
    },
    {
     "name": "stdout",
     "output_type": "stream",
     "text": [
      "Trial 63 - Acc: 0.8862 - Params: {'orientations': 6, 'ppc_x': 8, 'ppc_y': 10, 'cpb_x': 4, 'cpb_y': 4, 'stride_x': 4, 'stride_y': 4, 'n_neighbors': 2, 'weights': 'distance', 'metric': 'manhattan'}\n"
     ]
    },
    {
     "name": "stderr",
     "output_type": "stream",
     "text": [
      "[I 2025-04-22 14:00:29,672] Trial 64 pruned. \n",
      "[I 2025-04-22 14:01:09,390] Trial 65 finished with value: 0.878888757536352 and parameters: {'orientations': 12, 'ppc_x': 10, 'ppc_y': 4, 'cpb_x': 4, 'cpb_y': 3, 'stride_x': 4, 'stride_y': 4, 'n_neighbors': 2, 'weights': 'distance', 'metric': 'manhattan'}. Best is trial 10 with value: 0.8861746575920829.\n"
     ]
    },
    {
     "name": "stdout",
     "output_type": "stream",
     "text": [
      "Trial 65 - Acc: 0.8789 - Params: {'orientations': 12, 'ppc_x': 10, 'ppc_y': 4, 'cpb_x': 4, 'cpb_y': 3, 'stride_x': 4, 'stride_y': 4, 'n_neighbors': 2, 'weights': 'distance', 'metric': 'manhattan'}\n"
     ]
    },
    {
     "name": "stderr",
     "output_type": "stream",
     "text": [
      "[I 2025-04-22 14:01:25,415] Trial 66 pruned. \n",
      "[I 2025-04-22 14:01:39,712] Trial 67 pruned. \n",
      "[I 2025-04-22 14:01:54,671] Trial 68 pruned. \n",
      "[I 2025-04-22 14:01:54,698] Trial 69 pruned. \n",
      "[I 2025-04-22 14:02:11,443] Trial 70 pruned. \n",
      "[I 2025-04-22 14:02:35,299] Trial 71 finished with value: 0.8861746575920829 and parameters: {'orientations': 6, 'ppc_x': 8, 'ppc_y': 10, 'cpb_x': 4, 'cpb_y': 4, 'stride_x': 4, 'stride_y': 4, 'n_neighbors': 1, 'weights': 'distance', 'metric': 'manhattan'}. Best is trial 10 with value: 0.8861746575920829.\n"
     ]
    },
    {
     "name": "stdout",
     "output_type": "stream",
     "text": [
      "Trial 71 - Acc: 0.8862 - Params: {'orientations': 6, 'ppc_x': 8, 'ppc_y': 10, 'cpb_x': 4, 'cpb_y': 4, 'stride_x': 4, 'stride_y': 4, 'n_neighbors': 1, 'weights': 'distance', 'metric': 'manhattan'}\n"
     ]
    },
    {
     "name": "stderr",
     "output_type": "stream",
     "text": [
      "[I 2025-04-22 14:03:00,077] Trial 72 finished with value: 0.8861746575920829 and parameters: {'orientations': 6, 'ppc_x': 8, 'ppc_y': 10, 'cpb_x': 4, 'cpb_y': 4, 'stride_x': 4, 'stride_y': 4, 'n_neighbors': 2, 'weights': 'distance', 'metric': 'manhattan'}. Best is trial 10 with value: 0.8861746575920829.\n"
     ]
    },
    {
     "name": "stdout",
     "output_type": "stream",
     "text": [
      "Trial 72 - Acc: 0.8862 - Params: {'orientations': 6, 'ppc_x': 8, 'ppc_y': 10, 'cpb_x': 4, 'cpb_y': 4, 'stride_x': 4, 'stride_y': 4, 'n_neighbors': 2, 'weights': 'distance', 'metric': 'manhattan'}\n"
     ]
    },
    {
     "name": "stderr",
     "output_type": "stream",
     "text": [
      "[I 2025-04-22 14:03:24,319] Trial 73 finished with value: 0.8861746575920829 and parameters: {'orientations': 6, 'ppc_x': 8, 'ppc_y': 10, 'cpb_x': 4, 'cpb_y': 4, 'stride_x': 4, 'stride_y': 4, 'n_neighbors': 2, 'weights': 'distance', 'metric': 'manhattan'}. Best is trial 10 with value: 0.8861746575920829.\n"
     ]
    },
    {
     "name": "stdout",
     "output_type": "stream",
     "text": [
      "Trial 73 - Acc: 0.8862 - Params: {'orientations': 6, 'ppc_x': 8, 'ppc_y': 10, 'cpb_x': 4, 'cpb_y': 4, 'stride_x': 4, 'stride_y': 4, 'n_neighbors': 2, 'weights': 'distance', 'metric': 'manhattan'}\n"
     ]
    },
    {
     "name": "stderr",
     "output_type": "stream",
     "text": [
      "[I 2025-04-22 14:03:48,036] Trial 74 finished with value: 0.8861746575920829 and parameters: {'orientations': 6, 'ppc_x': 8, 'ppc_y': 10, 'cpb_x': 4, 'cpb_y': 4, 'stride_x': 4, 'stride_y': 4, 'n_neighbors': 1, 'weights': 'distance', 'metric': 'manhattan'}. Best is trial 10 with value: 0.8861746575920829.\n"
     ]
    },
    {
     "name": "stdout",
     "output_type": "stream",
     "text": [
      "Trial 74 - Acc: 0.8862 - Params: {'orientations': 6, 'ppc_x': 8, 'ppc_y': 10, 'cpb_x': 4, 'cpb_y': 4, 'stride_x': 4, 'stride_y': 4, 'n_neighbors': 1, 'weights': 'distance', 'metric': 'manhattan'}\n"
     ]
    },
    {
     "name": "stderr",
     "output_type": "stream",
     "text": [
      "[I 2025-04-22 14:04:04,847] Trial 75 pruned. \n",
      "[I 2025-04-22 14:04:19,698] Trial 76 pruned. \n",
      "[I 2025-04-22 14:04:33,782] Trial 77 pruned. \n",
      "[I 2025-04-22 14:04:50,862] Trial 78 pruned. \n",
      "[I 2025-04-22 14:04:50,884] Trial 79 pruned. \n",
      "[I 2025-04-22 14:05:08,694] Trial 80 pruned. \n",
      "[I 2025-04-22 14:05:33,704] Trial 81 finished with value: 0.8861746575920829 and parameters: {'orientations': 6, 'ppc_x': 8, 'ppc_y': 10, 'cpb_x': 4, 'cpb_y': 4, 'stride_x': 4, 'stride_y': 4, 'n_neighbors': 2, 'weights': 'distance', 'metric': 'manhattan'}. Best is trial 10 with value: 0.8861746575920829.\n"
     ]
    },
    {
     "name": "stdout",
     "output_type": "stream",
     "text": [
      "Trial 81 - Acc: 0.8862 - Params: {'orientations': 6, 'ppc_x': 8, 'ppc_y': 10, 'cpb_x': 4, 'cpb_y': 4, 'stride_x': 4, 'stride_y': 4, 'n_neighbors': 2, 'weights': 'distance', 'metric': 'manhattan'}\n"
     ]
    },
    {
     "name": "stderr",
     "output_type": "stream",
     "text": [
      "[I 2025-04-22 14:05:58,001] Trial 82 finished with value: 0.8861746575920829 and parameters: {'orientations': 6, 'ppc_x': 8, 'ppc_y': 10, 'cpb_x': 4, 'cpb_y': 4, 'stride_x': 4, 'stride_y': 4, 'n_neighbors': 1, 'weights': 'distance', 'metric': 'manhattan'}. Best is trial 10 with value: 0.8861746575920829.\n"
     ]
    },
    {
     "name": "stdout",
     "output_type": "stream",
     "text": [
      "Trial 82 - Acc: 0.8862 - Params: {'orientations': 6, 'ppc_x': 8, 'ppc_y': 10, 'cpb_x': 4, 'cpb_y': 4, 'stride_x': 4, 'stride_y': 4, 'n_neighbors': 1, 'weights': 'distance', 'metric': 'manhattan'}\n"
     ]
    },
    {
     "name": "stderr",
     "output_type": "stream",
     "text": [
      "[I 2025-04-22 14:06:22,408] Trial 83 finished with value: 0.8861746575920829 and parameters: {'orientations': 6, 'ppc_x': 8, 'ppc_y': 10, 'cpb_x': 4, 'cpb_y': 4, 'stride_x': 4, 'stride_y': 4, 'n_neighbors': 1, 'weights': 'distance', 'metric': 'manhattan'}. Best is trial 10 with value: 0.8861746575920829.\n"
     ]
    },
    {
     "name": "stdout",
     "output_type": "stream",
     "text": [
      "Trial 83 - Acc: 0.8862 - Params: {'orientations': 6, 'ppc_x': 8, 'ppc_y': 10, 'cpb_x': 4, 'cpb_y': 4, 'stride_x': 4, 'stride_y': 4, 'n_neighbors': 1, 'weights': 'distance', 'metric': 'manhattan'}\n"
     ]
    },
    {
     "name": "stderr",
     "output_type": "stream",
     "text": [
      "[I 2025-04-22 14:06:47,650] Trial 84 finished with value: 0.8861746575920829 and parameters: {'orientations': 6, 'ppc_x': 8, 'ppc_y': 10, 'cpb_x': 4, 'cpb_y': 4, 'stride_x': 4, 'stride_y': 4, 'n_neighbors': 2, 'weights': 'distance', 'metric': 'manhattan'}. Best is trial 10 with value: 0.8861746575920829.\n"
     ]
    },
    {
     "name": "stdout",
     "output_type": "stream",
     "text": [
      "Trial 84 - Acc: 0.8862 - Params: {'orientations': 6, 'ppc_x': 8, 'ppc_y': 10, 'cpb_x': 4, 'cpb_y': 4, 'stride_x': 4, 'stride_y': 4, 'n_neighbors': 2, 'weights': 'distance', 'metric': 'manhattan'}\n"
     ]
    },
    {
     "name": "stderr",
     "output_type": "stream",
     "text": [
      "[I 2025-04-22 14:07:19,848] Trial 85 pruned. \n",
      "[I 2025-04-22 14:07:19,879] Trial 86 pruned. \n",
      "[I 2025-04-22 14:07:34,682] Trial 87 pruned. \n",
      "[I 2025-04-22 14:07:49,324] Trial 88 pruned. \n",
      "[I 2025-04-22 14:08:05,651] Trial 89 pruned. \n",
      "[I 2025-04-22 14:08:05,672] Trial 90 pruned. \n",
      "[I 2025-04-22 14:08:29,945] Trial 91 finished with value: 0.8861746575920829 and parameters: {'orientations': 6, 'ppc_x': 8, 'ppc_y': 10, 'cpb_x': 4, 'cpb_y': 4, 'stride_x': 4, 'stride_y': 4, 'n_neighbors': 1, 'weights': 'distance', 'metric': 'manhattan'}. Best is trial 10 with value: 0.8861746575920829.\n"
     ]
    },
    {
     "name": "stdout",
     "output_type": "stream",
     "text": [
      "Trial 91 - Acc: 0.8862 - Params: {'orientations': 6, 'ppc_x': 8, 'ppc_y': 10, 'cpb_x': 4, 'cpb_y': 4, 'stride_x': 4, 'stride_y': 4, 'n_neighbors': 1, 'weights': 'distance', 'metric': 'manhattan'}\n"
     ]
    },
    {
     "name": "stderr",
     "output_type": "stream",
     "text": [
      "[I 2025-04-22 14:08:54,679] Trial 92 finished with value: 0.8861746575920829 and parameters: {'orientations': 6, 'ppc_x': 8, 'ppc_y': 10, 'cpb_x': 4, 'cpb_y': 4, 'stride_x': 4, 'stride_y': 4, 'n_neighbors': 1, 'weights': 'distance', 'metric': 'manhattan'}. Best is trial 10 with value: 0.8861746575920829.\n"
     ]
    },
    {
     "name": "stdout",
     "output_type": "stream",
     "text": [
      "Trial 92 - Acc: 0.8862 - Params: {'orientations': 6, 'ppc_x': 8, 'ppc_y': 10, 'cpb_x': 4, 'cpb_y': 4, 'stride_x': 4, 'stride_y': 4, 'n_neighbors': 1, 'weights': 'distance', 'metric': 'manhattan'}\n"
     ]
    },
    {
     "name": "stderr",
     "output_type": "stream",
     "text": [
      "[I 2025-04-22 14:09:21,262] Trial 93 finished with value: 0.8861746575920829 and parameters: {'orientations': 6, 'ppc_x': 8, 'ppc_y': 10, 'cpb_x': 4, 'cpb_y': 4, 'stride_x': 4, 'stride_y': 4, 'n_neighbors': 1, 'weights': 'distance', 'metric': 'manhattan'}. Best is trial 10 with value: 0.8861746575920829.\n"
     ]
    },
    {
     "name": "stdout",
     "output_type": "stream",
     "text": [
      "Trial 93 - Acc: 0.8862 - Params: {'orientations': 6, 'ppc_x': 8, 'ppc_y': 10, 'cpb_x': 4, 'cpb_y': 4, 'stride_x': 4, 'stride_y': 4, 'n_neighbors': 1, 'weights': 'distance', 'metric': 'manhattan'}\n"
     ]
    },
    {
     "name": "stderr",
     "output_type": "stream",
     "text": [
      "[I 2025-04-22 14:09:45,954] Trial 94 finished with value: 0.8861746575920829 and parameters: {'orientations': 6, 'ppc_x': 8, 'ppc_y': 10, 'cpb_x': 4, 'cpb_y': 4, 'stride_x': 4, 'stride_y': 4, 'n_neighbors': 2, 'weights': 'distance', 'metric': 'manhattan'}. Best is trial 10 with value: 0.8861746575920829.\n"
     ]
    },
    {
     "name": "stdout",
     "output_type": "stream",
     "text": [
      "Trial 94 - Acc: 0.8862 - Params: {'orientations': 6, 'ppc_x': 8, 'ppc_y': 10, 'cpb_x': 4, 'cpb_y': 4, 'stride_x': 4, 'stride_y': 4, 'n_neighbors': 2, 'weights': 'distance', 'metric': 'manhattan'}\n"
     ]
    },
    {
     "name": "stderr",
     "output_type": "stream",
     "text": [
      "[I 2025-04-22 14:09:58,857] Trial 95 pruned. \n",
      "[I 2025-04-22 14:10:17,512] Trial 96 pruned. \n",
      "[I 2025-04-22 14:10:17,533] Trial 97 pruned. \n",
      "[I 2025-04-22 14:10:31,844] Trial 98 pruned. \n",
      "[I 2025-04-22 14:10:59,041] Trial 99 pruned. \n",
      "[I 2025-04-22 14:10:59,065] Trial 100 pruned. \n",
      "[I 2025-04-22 14:11:25,061] Trial 101 finished with value: 0.8861746575920829 and parameters: {'orientations': 6, 'ppc_x': 8, 'ppc_y': 10, 'cpb_x': 4, 'cpb_y': 4, 'stride_x': 4, 'stride_y': 4, 'n_neighbors': 1, 'weights': 'distance', 'metric': 'manhattan'}. Best is trial 10 with value: 0.8861746575920829.\n"
     ]
    },
    {
     "name": "stdout",
     "output_type": "stream",
     "text": [
      "Trial 101 - Acc: 0.8862 - Params: {'orientations': 6, 'ppc_x': 8, 'ppc_y': 10, 'cpb_x': 4, 'cpb_y': 4, 'stride_x': 4, 'stride_y': 4, 'n_neighbors': 1, 'weights': 'distance', 'metric': 'manhattan'}\n"
     ]
    },
    {
     "name": "stderr",
     "output_type": "stream",
     "text": [
      "[I 2025-04-22 14:11:49,240] Trial 102 finished with value: 0.8861746575920829 and parameters: {'orientations': 6, 'ppc_x': 8, 'ppc_y': 10, 'cpb_x': 4, 'cpb_y': 4, 'stride_x': 4, 'stride_y': 4, 'n_neighbors': 1, 'weights': 'distance', 'metric': 'manhattan'}. Best is trial 10 with value: 0.8861746575920829.\n"
     ]
    },
    {
     "name": "stdout",
     "output_type": "stream",
     "text": [
      "Trial 102 - Acc: 0.8862 - Params: {'orientations': 6, 'ppc_x': 8, 'ppc_y': 10, 'cpb_x': 4, 'cpb_y': 4, 'stride_x': 4, 'stride_y': 4, 'n_neighbors': 1, 'weights': 'distance', 'metric': 'manhattan'}\n"
     ]
    },
    {
     "name": "stderr",
     "output_type": "stream",
     "text": [
      "[I 2025-04-22 14:12:14,082] Trial 103 finished with value: 0.8861746575920829 and parameters: {'orientations': 6, 'ppc_x': 8, 'ppc_y': 10, 'cpb_x': 4, 'cpb_y': 4, 'stride_x': 4, 'stride_y': 4, 'n_neighbors': 1, 'weights': 'distance', 'metric': 'manhattan'}. Best is trial 10 with value: 0.8861746575920829.\n"
     ]
    },
    {
     "name": "stdout",
     "output_type": "stream",
     "text": [
      "Trial 103 - Acc: 0.8862 - Params: {'orientations': 6, 'ppc_x': 8, 'ppc_y': 10, 'cpb_x': 4, 'cpb_y': 4, 'stride_x': 4, 'stride_y': 4, 'n_neighbors': 1, 'weights': 'distance', 'metric': 'manhattan'}\n"
     ]
    },
    {
     "name": "stderr",
     "output_type": "stream",
     "text": [
      "[I 2025-04-22 14:12:32,393] Trial 104 pruned. \n",
      "[I 2025-04-22 14:12:58,656] Trial 105 finished with value: 0.8861746575920829 and parameters: {'orientations': 6, 'ppc_x': 8, 'ppc_y': 10, 'cpb_x': 4, 'cpb_y': 4, 'stride_x': 4, 'stride_y': 4, 'n_neighbors': 1, 'weights': 'distance', 'metric': 'manhattan'}. Best is trial 10 with value: 0.8861746575920829.\n"
     ]
    },
    {
     "name": "stdout",
     "output_type": "stream",
     "text": [
      "Trial 105 - Acc: 0.8862 - Params: {'orientations': 6, 'ppc_x': 8, 'ppc_y': 10, 'cpb_x': 4, 'cpb_y': 4, 'stride_x': 4, 'stride_y': 4, 'n_neighbors': 1, 'weights': 'distance', 'metric': 'manhattan'}\n"
     ]
    },
    {
     "name": "stderr",
     "output_type": "stream",
     "text": [
      "[I 2025-04-22 14:13:16,397] Trial 106 pruned. \n",
      "[I 2025-04-22 14:13:40,531] Trial 107 finished with value: 0.8861746575920829 and parameters: {'orientations': 6, 'ppc_x': 8, 'ppc_y': 10, 'cpb_x': 4, 'cpb_y': 4, 'stride_x': 4, 'stride_y': 4, 'n_neighbors': 1, 'weights': 'distance', 'metric': 'manhattan'}. Best is trial 10 with value: 0.8861746575920829.\n"
     ]
    },
    {
     "name": "stdout",
     "output_type": "stream",
     "text": [
      "Trial 107 - Acc: 0.8862 - Params: {'orientations': 6, 'ppc_x': 8, 'ppc_y': 10, 'cpb_x': 4, 'cpb_y': 4, 'stride_x': 4, 'stride_y': 4, 'n_neighbors': 1, 'weights': 'distance', 'metric': 'manhattan'}\n"
     ]
    },
    {
     "name": "stderr",
     "output_type": "stream",
     "text": [
      "[I 2025-04-22 14:13:57,619] Trial 108 pruned. \n",
      "[I 2025-04-22 14:14:13,476] Trial 109 pruned. \n",
      "[I 2025-04-22 14:14:29,567] Trial 110 pruned. \n",
      "[I 2025-04-22 14:14:53,600] Trial 111 finished with value: 0.8861746575920829 and parameters: {'orientations': 6, 'ppc_x': 8, 'ppc_y': 10, 'cpb_x': 4, 'cpb_y': 4, 'stride_x': 4, 'stride_y': 4, 'n_neighbors': 2, 'weights': 'distance', 'metric': 'manhattan'}. Best is trial 10 with value: 0.8861746575920829.\n"
     ]
    },
    {
     "name": "stdout",
     "output_type": "stream",
     "text": [
      "Trial 111 - Acc: 0.8862 - Params: {'orientations': 6, 'ppc_x': 8, 'ppc_y': 10, 'cpb_x': 4, 'cpb_y': 4, 'stride_x': 4, 'stride_y': 4, 'n_neighbors': 2, 'weights': 'distance', 'metric': 'manhattan'}\n"
     ]
    },
    {
     "name": "stderr",
     "output_type": "stream",
     "text": [
      "[I 2025-04-22 14:15:18,175] Trial 112 finished with value: 0.8861746575920829 and parameters: {'orientations': 6, 'ppc_x': 8, 'ppc_y': 10, 'cpb_x': 4, 'cpb_y': 4, 'stride_x': 4, 'stride_y': 4, 'n_neighbors': 1, 'weights': 'distance', 'metric': 'manhattan'}. Best is trial 10 with value: 0.8861746575920829.\n"
     ]
    },
    {
     "name": "stdout",
     "output_type": "stream",
     "text": [
      "Trial 112 - Acc: 0.8862 - Params: {'orientations': 6, 'ppc_x': 8, 'ppc_y': 10, 'cpb_x': 4, 'cpb_y': 4, 'stride_x': 4, 'stride_y': 4, 'n_neighbors': 1, 'weights': 'distance', 'metric': 'manhattan'}\n"
     ]
    },
    {
     "name": "stderr",
     "output_type": "stream",
     "text": [
      "[I 2025-04-22 14:15:42,521] Trial 113 finished with value: 0.8861746575920829 and parameters: {'orientations': 6, 'ppc_x': 8, 'ppc_y': 10, 'cpb_x': 4, 'cpb_y': 4, 'stride_x': 4, 'stride_y': 4, 'n_neighbors': 2, 'weights': 'distance', 'metric': 'manhattan'}. Best is trial 10 with value: 0.8861746575920829.\n",
      "[I 2025-04-22 14:15:42,540] Trial 114 pruned. \n"
     ]
    },
    {
     "name": "stdout",
     "output_type": "stream",
     "text": [
      "Trial 113 - Acc: 0.8862 - Params: {'orientations': 6, 'ppc_x': 8, 'ppc_y': 10, 'cpb_x': 4, 'cpb_y': 4, 'stride_x': 4, 'stride_y': 4, 'n_neighbors': 2, 'weights': 'distance', 'metric': 'manhattan'}\n"
     ]
    },
    {
     "name": "stderr",
     "output_type": "stream",
     "text": [
      "[I 2025-04-22 14:16:08,186] Trial 115 finished with value: 0.8861746575920829 and parameters: {'orientations': 6, 'ppc_x': 8, 'ppc_y': 10, 'cpb_x': 4, 'cpb_y': 4, 'stride_x': 4, 'stride_y': 4, 'n_neighbors': 2, 'weights': 'distance', 'metric': 'manhattan'}. Best is trial 10 with value: 0.8861746575920829.\n",
      "[I 2025-04-22 14:16:08,202] Trial 116 pruned. \n"
     ]
    },
    {
     "name": "stdout",
     "output_type": "stream",
     "text": [
      "Trial 115 - Acc: 0.8862 - Params: {'orientations': 6, 'ppc_x': 8, 'ppc_y': 10, 'cpb_x': 4, 'cpb_y': 4, 'stride_x': 4, 'stride_y': 4, 'n_neighbors': 2, 'weights': 'distance', 'metric': 'manhattan'}\n"
     ]
    },
    {
     "name": "stderr",
     "output_type": "stream",
     "text": [
      "[I 2025-04-22 14:16:23,811] Trial 117 pruned. \n",
      "[I 2025-04-22 14:16:43,275] Trial 118 pruned. \n",
      "[I 2025-04-22 14:17:09,510] Trial 119 finished with value: 0.8861746575920829 and parameters: {'orientations': 6, 'ppc_x': 8, 'ppc_y': 10, 'cpb_x': 4, 'cpb_y': 4, 'stride_x': 4, 'stride_y': 4, 'n_neighbors': 2, 'weights': 'distance', 'metric': 'manhattan'}. Best is trial 10 with value: 0.8861746575920829.\n"
     ]
    },
    {
     "name": "stdout",
     "output_type": "stream",
     "text": [
      "Trial 119 - Acc: 0.8862 - Params: {'orientations': 6, 'ppc_x': 8, 'ppc_y': 10, 'cpb_x': 4, 'cpb_y': 4, 'stride_x': 4, 'stride_y': 4, 'n_neighbors': 2, 'weights': 'distance', 'metric': 'manhattan'}\n"
     ]
    },
    {
     "name": "stderr",
     "output_type": "stream",
     "text": [
      "[I 2025-04-22 14:17:25,270] Trial 120 pruned. \n",
      "[I 2025-04-22 14:17:49,771] Trial 121 finished with value: 0.8861746575920829 and parameters: {'orientations': 6, 'ppc_x': 8, 'ppc_y': 10, 'cpb_x': 4, 'cpb_y': 4, 'stride_x': 4, 'stride_y': 4, 'n_neighbors': 1, 'weights': 'distance', 'metric': 'manhattan'}. Best is trial 10 with value: 0.8861746575920829.\n"
     ]
    },
    {
     "name": "stdout",
     "output_type": "stream",
     "text": [
      "Trial 121 - Acc: 0.8862 - Params: {'orientations': 6, 'ppc_x': 8, 'ppc_y': 10, 'cpb_x': 4, 'cpb_y': 4, 'stride_x': 4, 'stride_y': 4, 'n_neighbors': 1, 'weights': 'distance', 'metric': 'manhattan'}\n"
     ]
    },
    {
     "name": "stderr",
     "output_type": "stream",
     "text": [
      "[I 2025-04-22 14:18:14,164] Trial 122 finished with value: 0.8861746575920829 and parameters: {'orientations': 6, 'ppc_x': 8, 'ppc_y': 10, 'cpb_x': 4, 'cpb_y': 4, 'stride_x': 4, 'stride_y': 4, 'n_neighbors': 1, 'weights': 'distance', 'metric': 'manhattan'}. Best is trial 10 with value: 0.8861746575920829.\n"
     ]
    },
    {
     "name": "stdout",
     "output_type": "stream",
     "text": [
      "Trial 122 - Acc: 0.8862 - Params: {'orientations': 6, 'ppc_x': 8, 'ppc_y': 10, 'cpb_x': 4, 'cpb_y': 4, 'stride_x': 4, 'stride_y': 4, 'n_neighbors': 1, 'weights': 'distance', 'metric': 'manhattan'}\n"
     ]
    },
    {
     "name": "stderr",
     "output_type": "stream",
     "text": [
      "[I 2025-04-22 14:18:40,164] Trial 123 finished with value: 0.8861746575920829 and parameters: {'orientations': 6, 'ppc_x': 8, 'ppc_y': 10, 'cpb_x': 4, 'cpb_y': 4, 'stride_x': 4, 'stride_y': 4, 'n_neighbors': 2, 'weights': 'distance', 'metric': 'manhattan'}. Best is trial 10 with value: 0.8861746575920829.\n"
     ]
    },
    {
     "name": "stdout",
     "output_type": "stream",
     "text": [
      "Trial 123 - Acc: 0.8862 - Params: {'orientations': 6, 'ppc_x': 8, 'ppc_y': 10, 'cpb_x': 4, 'cpb_y': 4, 'stride_x': 4, 'stride_y': 4, 'n_neighbors': 2, 'weights': 'distance', 'metric': 'manhattan'}\n"
     ]
    },
    {
     "name": "stderr",
     "output_type": "stream",
     "text": [
      "[I 2025-04-22 14:18:55,097] Trial 124 pruned. \n",
      "[I 2025-04-22 14:19:13,364] Trial 125 pruned. \n",
      "[I 2025-04-22 14:19:28,600] Trial 126 pruned. \n",
      "[I 2025-04-22 14:19:49,574] Trial 127 pruned. \n",
      "[I 2025-04-22 14:20:14,628] Trial 128 pruned. \n",
      "[I 2025-04-22 14:20:29,429] Trial 129 pruned. \n",
      "[I 2025-04-22 14:20:29,450] Trial 130 pruned. \n",
      "[I 2025-04-22 14:20:54,899] Trial 131 finished with value: 0.8861746575920829 and parameters: {'orientations': 6, 'ppc_x': 8, 'ppc_y': 10, 'cpb_x': 4, 'cpb_y': 4, 'stride_x': 4, 'stride_y': 4, 'n_neighbors': 2, 'weights': 'distance', 'metric': 'manhattan'}. Best is trial 10 with value: 0.8861746575920829.\n"
     ]
    },
    {
     "name": "stdout",
     "output_type": "stream",
     "text": [
      "Trial 131 - Acc: 0.8862 - Params: {'orientations': 6, 'ppc_x': 8, 'ppc_y': 10, 'cpb_x': 4, 'cpb_y': 4, 'stride_x': 4, 'stride_y': 4, 'n_neighbors': 2, 'weights': 'distance', 'metric': 'manhattan'}\n"
     ]
    },
    {
     "name": "stderr",
     "output_type": "stream",
     "text": [
      "[I 2025-04-22 14:21:22,302] Trial 132 finished with value: 0.8861746575920829 and parameters: {'orientations': 6, 'ppc_x': 8, 'ppc_y': 10, 'cpb_x': 4, 'cpb_y': 4, 'stride_x': 4, 'stride_y': 4, 'n_neighbors': 2, 'weights': 'distance', 'metric': 'manhattan'}. Best is trial 10 with value: 0.8861746575920829.\n"
     ]
    },
    {
     "name": "stdout",
     "output_type": "stream",
     "text": [
      "Trial 132 - Acc: 0.8862 - Params: {'orientations': 6, 'ppc_x': 8, 'ppc_y': 10, 'cpb_x': 4, 'cpb_y': 4, 'stride_x': 4, 'stride_y': 4, 'n_neighbors': 2, 'weights': 'distance', 'metric': 'manhattan'}\n"
     ]
    },
    {
     "name": "stderr",
     "output_type": "stream",
     "text": [
      "[I 2025-04-22 14:21:48,294] Trial 133 finished with value: 0.8861746575920829 and parameters: {'orientations': 6, 'ppc_x': 8, 'ppc_y': 10, 'cpb_x': 4, 'cpb_y': 4, 'stride_x': 4, 'stride_y': 4, 'n_neighbors': 1, 'weights': 'distance', 'metric': 'manhattan'}. Best is trial 10 with value: 0.8861746575920829.\n"
     ]
    },
    {
     "name": "stdout",
     "output_type": "stream",
     "text": [
      "Trial 133 - Acc: 0.8862 - Params: {'orientations': 6, 'ppc_x': 8, 'ppc_y': 10, 'cpb_x': 4, 'cpb_y': 4, 'stride_x': 4, 'stride_y': 4, 'n_neighbors': 1, 'weights': 'distance', 'metric': 'manhattan'}\n"
     ]
    },
    {
     "name": "stderr",
     "output_type": "stream",
     "text": [
      "[I 2025-04-22 14:22:12,584] Trial 134 finished with value: 0.8861746575920829 and parameters: {'orientations': 6, 'ppc_x': 8, 'ppc_y': 10, 'cpb_x': 4, 'cpb_y': 4, 'stride_x': 4, 'stride_y': 4, 'n_neighbors': 2, 'weights': 'distance', 'metric': 'manhattan'}. Best is trial 10 with value: 0.8861746575920829.\n"
     ]
    },
    {
     "name": "stdout",
     "output_type": "stream",
     "text": [
      "Trial 134 - Acc: 0.8862 - Params: {'orientations': 6, 'ppc_x': 8, 'ppc_y': 10, 'cpb_x': 4, 'cpb_y': 4, 'stride_x': 4, 'stride_y': 4, 'n_neighbors': 2, 'weights': 'distance', 'metric': 'manhattan'}\n"
     ]
    },
    {
     "name": "stderr",
     "output_type": "stream",
     "text": [
      "[I 2025-04-22 14:22:28,455] Trial 135 pruned. \n",
      "[I 2025-04-22 14:22:53,139] Trial 136 finished with value: 0.8861746575920829 and parameters: {'orientations': 6, 'ppc_x': 8, 'ppc_y': 10, 'cpb_x': 4, 'cpb_y': 4, 'stride_x': 4, 'stride_y': 4, 'n_neighbors': 1, 'weights': 'distance', 'metric': 'manhattan'}. Best is trial 10 with value: 0.8861746575920829.\n"
     ]
    },
    {
     "name": "stdout",
     "output_type": "stream",
     "text": [
      "Trial 136 - Acc: 0.8862 - Params: {'orientations': 6, 'ppc_x': 8, 'ppc_y': 10, 'cpb_x': 4, 'cpb_y': 4, 'stride_x': 4, 'stride_y': 4, 'n_neighbors': 1, 'weights': 'distance', 'metric': 'manhattan'}\n"
     ]
    },
    {
     "name": "stderr",
     "output_type": "stream",
     "text": [
      "[I 2025-04-22 14:23:07,831] Trial 137 pruned. \n",
      "[I 2025-04-22 14:23:21,335] Trial 138 pruned. \n",
      "[I 2025-04-22 14:23:42,405] Trial 139 pruned. \n",
      "[I 2025-04-22 14:24:03,965] Trial 140 pruned. \n",
      "[I 2025-04-22 14:24:29,232] Trial 141 finished with value: 0.8861746575920829 and parameters: {'orientations': 6, 'ppc_x': 8, 'ppc_y': 10, 'cpb_x': 4, 'cpb_y': 4, 'stride_x': 4, 'stride_y': 4, 'n_neighbors': 1, 'weights': 'distance', 'metric': 'manhattan'}. Best is trial 10 with value: 0.8861746575920829.\n"
     ]
    },
    {
     "name": "stdout",
     "output_type": "stream",
     "text": [
      "Trial 141 - Acc: 0.8862 - Params: {'orientations': 6, 'ppc_x': 8, 'ppc_y': 10, 'cpb_x': 4, 'cpb_y': 4, 'stride_x': 4, 'stride_y': 4, 'n_neighbors': 1, 'weights': 'distance', 'metric': 'manhattan'}\n"
     ]
    },
    {
     "name": "stderr",
     "output_type": "stream",
     "text": [
      "[I 2025-04-22 14:24:55,034] Trial 142 finished with value: 0.8861746575920829 and parameters: {'orientations': 6, 'ppc_x': 8, 'ppc_y': 10, 'cpb_x': 4, 'cpb_y': 4, 'stride_x': 4, 'stride_y': 4, 'n_neighbors': 1, 'weights': 'distance', 'metric': 'manhattan'}. Best is trial 10 with value: 0.8861746575920829.\n"
     ]
    },
    {
     "name": "stdout",
     "output_type": "stream",
     "text": [
      "Trial 142 - Acc: 0.8862 - Params: {'orientations': 6, 'ppc_x': 8, 'ppc_y': 10, 'cpb_x': 4, 'cpb_y': 4, 'stride_x': 4, 'stride_y': 4, 'n_neighbors': 1, 'weights': 'distance', 'metric': 'manhattan'}\n"
     ]
    },
    {
     "name": "stderr",
     "output_type": "stream",
     "text": [
      "[I 2025-04-22 14:25:21,333] Trial 143 finished with value: 0.8861746575920829 and parameters: {'orientations': 6, 'ppc_x': 8, 'ppc_y': 10, 'cpb_x': 4, 'cpb_y': 4, 'stride_x': 4, 'stride_y': 4, 'n_neighbors': 1, 'weights': 'distance', 'metric': 'manhattan'}. Best is trial 10 with value: 0.8861746575920829.\n"
     ]
    },
    {
     "name": "stdout",
     "output_type": "stream",
     "text": [
      "Trial 143 - Acc: 0.8862 - Params: {'orientations': 6, 'ppc_x': 8, 'ppc_y': 10, 'cpb_x': 4, 'cpb_y': 4, 'stride_x': 4, 'stride_y': 4, 'n_neighbors': 1, 'weights': 'distance', 'metric': 'manhattan'}\n"
     ]
    },
    {
     "name": "stderr",
     "output_type": "stream",
     "text": [
      "[I 2025-04-22 14:25:46,499] Trial 144 finished with value: 0.8861746575920829 and parameters: {'orientations': 6, 'ppc_x': 8, 'ppc_y': 10, 'cpb_x': 4, 'cpb_y': 4, 'stride_x': 4, 'stride_y': 4, 'n_neighbors': 2, 'weights': 'distance', 'metric': 'manhattan'}. Best is trial 10 with value: 0.8861746575920829.\n"
     ]
    },
    {
     "name": "stdout",
     "output_type": "stream",
     "text": [
      "Trial 144 - Acc: 0.8862 - Params: {'orientations': 6, 'ppc_x': 8, 'ppc_y': 10, 'cpb_x': 4, 'cpb_y': 4, 'stride_x': 4, 'stride_y': 4, 'n_neighbors': 2, 'weights': 'distance', 'metric': 'manhattan'}\n"
     ]
    },
    {
     "name": "stderr",
     "output_type": "stream",
     "text": [
      "[I 2025-04-22 14:26:02,724] Trial 145 pruned. \n",
      "[I 2025-04-22 14:26:02,750] Trial 146 pruned. \n",
      "[I 2025-04-22 14:26:19,344] Trial 147 pruned. \n",
      "[I 2025-04-22 14:26:43,313] Trial 148 finished with value: 0.8861746575920829 and parameters: {'orientations': 6, 'ppc_x': 8, 'ppc_y': 10, 'cpb_x': 4, 'cpb_y': 4, 'stride_x': 4, 'stride_y': 4, 'n_neighbors': 1, 'weights': 'distance', 'metric': 'manhattan'}. Best is trial 10 with value: 0.8861746575920829.\n",
      "[I 2025-04-22 14:26:43,328] Trial 149 pruned. \n"
     ]
    },
    {
     "name": "stdout",
     "output_type": "stream",
     "text": [
      "Trial 148 - Acc: 0.8862 - Params: {'orientations': 6, 'ppc_x': 8, 'ppc_y': 10, 'cpb_x': 4, 'cpb_y': 4, 'stride_x': 4, 'stride_y': 4, 'n_neighbors': 1, 'weights': 'distance', 'metric': 'manhattan'}\n"
     ]
    },
    {
     "name": "stderr",
     "output_type": "stream",
     "text": [
      "[I 2025-04-22 14:26:58,592] Trial 150 pruned. \n",
      "[I 2025-04-22 14:27:23,843] Trial 151 finished with value: 0.8861746575920829 and parameters: {'orientations': 6, 'ppc_x': 8, 'ppc_y': 10, 'cpb_x': 4, 'cpb_y': 4, 'stride_x': 4, 'stride_y': 4, 'n_neighbors': 1, 'weights': 'distance', 'metric': 'manhattan'}. Best is trial 10 with value: 0.8861746575920829.\n"
     ]
    },
    {
     "name": "stdout",
     "output_type": "stream",
     "text": [
      "Trial 151 - Acc: 0.8862 - Params: {'orientations': 6, 'ppc_x': 8, 'ppc_y': 10, 'cpb_x': 4, 'cpb_y': 4, 'stride_x': 4, 'stride_y': 4, 'n_neighbors': 1, 'weights': 'distance', 'metric': 'manhattan'}\n"
     ]
    },
    {
     "name": "stderr",
     "output_type": "stream",
     "text": [
      "[I 2025-04-22 14:27:47,307] Trial 152 pruned. \n",
      "[I 2025-04-22 14:28:12,323] Trial 153 finished with value: 0.8861746575920829 and parameters: {'orientations': 6, 'ppc_x': 8, 'ppc_y': 10, 'cpb_x': 4, 'cpb_y': 4, 'stride_x': 4, 'stride_y': 4, 'n_neighbors': 2, 'weights': 'distance', 'metric': 'manhattan'}. Best is trial 10 with value: 0.8861746575920829.\n"
     ]
    },
    {
     "name": "stdout",
     "output_type": "stream",
     "text": [
      "Trial 153 - Acc: 0.8862 - Params: {'orientations': 6, 'ppc_x': 8, 'ppc_y': 10, 'cpb_x': 4, 'cpb_y': 4, 'stride_x': 4, 'stride_y': 4, 'n_neighbors': 2, 'weights': 'distance', 'metric': 'manhattan'}\n"
     ]
    },
    {
     "name": "stderr",
     "output_type": "stream",
     "text": [
      "[I 2025-04-22 14:28:36,953] Trial 154 finished with value: 0.8861746575920829 and parameters: {'orientations': 6, 'ppc_x': 8, 'ppc_y': 10, 'cpb_x': 4, 'cpb_y': 4, 'stride_x': 4, 'stride_y': 4, 'n_neighbors': 1, 'weights': 'distance', 'metric': 'manhattan'}. Best is trial 10 with value: 0.8861746575920829.\n"
     ]
    },
    {
     "name": "stdout",
     "output_type": "stream",
     "text": [
      "Trial 154 - Acc: 0.8862 - Params: {'orientations': 6, 'ppc_x': 8, 'ppc_y': 10, 'cpb_x': 4, 'cpb_y': 4, 'stride_x': 4, 'stride_y': 4, 'n_neighbors': 1, 'weights': 'distance', 'metric': 'manhattan'}\n"
     ]
    },
    {
     "name": "stderr",
     "output_type": "stream",
     "text": [
      "[I 2025-04-22 14:29:01,918] Trial 155 finished with value: 0.8861746575920829 and parameters: {'orientations': 6, 'ppc_x': 8, 'ppc_y': 10, 'cpb_x': 4, 'cpb_y': 4, 'stride_x': 4, 'stride_y': 4, 'n_neighbors': 1, 'weights': 'distance', 'metric': 'manhattan'}. Best is trial 10 with value: 0.8861746575920829.\n"
     ]
    },
    {
     "name": "stdout",
     "output_type": "stream",
     "text": [
      "Trial 155 - Acc: 0.8862 - Params: {'orientations': 6, 'ppc_x': 8, 'ppc_y': 10, 'cpb_x': 4, 'cpb_y': 4, 'stride_x': 4, 'stride_y': 4, 'n_neighbors': 1, 'weights': 'distance', 'metric': 'manhattan'}\n"
     ]
    },
    {
     "name": "stderr",
     "output_type": "stream",
     "text": [
      "[I 2025-04-22 14:29:25,877] Trial 156 pruned. \n",
      "[I 2025-04-22 14:29:25,900] Trial 157 pruned. \n",
      "[I 2025-04-22 14:29:50,414] Trial 158 finished with value: 0.8861746575920829 and parameters: {'orientations': 6, 'ppc_x': 8, 'ppc_y': 10, 'cpb_x': 4, 'cpb_y': 4, 'stride_x': 4, 'stride_y': 4, 'n_neighbors': 2, 'weights': 'distance', 'metric': 'manhattan'}. Best is trial 10 with value: 0.8861746575920829.\n"
     ]
    },
    {
     "name": "stdout",
     "output_type": "stream",
     "text": [
      "Trial 158 - Acc: 0.8862 - Params: {'orientations': 6, 'ppc_x': 8, 'ppc_y': 10, 'cpb_x': 4, 'cpb_y': 4, 'stride_x': 4, 'stride_y': 4, 'n_neighbors': 2, 'weights': 'distance', 'metric': 'manhattan'}\n"
     ]
    },
    {
     "name": "stderr",
     "output_type": "stream",
     "text": [
      "[I 2025-04-22 14:30:05,503] Trial 159 pruned. \n",
      "[I 2025-04-22 14:30:22,042] Trial 160 pruned. \n",
      "[I 2025-04-22 14:30:45,873] Trial 161 finished with value: 0.8861746575920829 and parameters: {'orientations': 6, 'ppc_x': 8, 'ppc_y': 10, 'cpb_x': 4, 'cpb_y': 4, 'stride_x': 4, 'stride_y': 4, 'n_neighbors': 2, 'weights': 'distance', 'metric': 'manhattan'}. Best is trial 10 with value: 0.8861746575920829.\n"
     ]
    },
    {
     "name": "stdout",
     "output_type": "stream",
     "text": [
      "Trial 161 - Acc: 0.8862 - Params: {'orientations': 6, 'ppc_x': 8, 'ppc_y': 10, 'cpb_x': 4, 'cpb_y': 4, 'stride_x': 4, 'stride_y': 4, 'n_neighbors': 2, 'weights': 'distance', 'metric': 'manhattan'}\n"
     ]
    },
    {
     "name": "stderr",
     "output_type": "stream",
     "text": [
      "[I 2025-04-22 14:31:10,504] Trial 162 finished with value: 0.8861746575920829 and parameters: {'orientations': 6, 'ppc_x': 8, 'ppc_y': 10, 'cpb_x': 4, 'cpb_y': 4, 'stride_x': 4, 'stride_y': 4, 'n_neighbors': 1, 'weights': 'distance', 'metric': 'manhattan'}. Best is trial 10 with value: 0.8861746575920829.\n"
     ]
    },
    {
     "name": "stdout",
     "output_type": "stream",
     "text": [
      "Trial 162 - Acc: 0.8862 - Params: {'orientations': 6, 'ppc_x': 8, 'ppc_y': 10, 'cpb_x': 4, 'cpb_y': 4, 'stride_x': 4, 'stride_y': 4, 'n_neighbors': 1, 'weights': 'distance', 'metric': 'manhattan'}\n"
     ]
    },
    {
     "name": "stderr",
     "output_type": "stream",
     "text": [
      "[I 2025-04-22 14:31:35,611] Trial 163 finished with value: 0.8861746575920829 and parameters: {'orientations': 6, 'ppc_x': 8, 'ppc_y': 10, 'cpb_x': 4, 'cpb_y': 4, 'stride_x': 4, 'stride_y': 4, 'n_neighbors': 1, 'weights': 'distance', 'metric': 'manhattan'}. Best is trial 10 with value: 0.8861746575920829.\n"
     ]
    },
    {
     "name": "stdout",
     "output_type": "stream",
     "text": [
      "Trial 163 - Acc: 0.8862 - Params: {'orientations': 6, 'ppc_x': 8, 'ppc_y': 10, 'cpb_x': 4, 'cpb_y': 4, 'stride_x': 4, 'stride_y': 4, 'n_neighbors': 1, 'weights': 'distance', 'metric': 'manhattan'}\n"
     ]
    },
    {
     "name": "stderr",
     "output_type": "stream",
     "text": [
      "[I 2025-04-22 14:31:50,220] Trial 164 pruned. \n",
      "[I 2025-04-22 14:31:50,240] Trial 165 pruned. \n",
      "[I 2025-04-22 14:32:10,784] Trial 166 pruned. \n",
      "[I 2025-04-22 14:32:25,255] Trial 167 pruned. \n",
      "[I 2025-04-22 14:32:50,651] Trial 168 finished with value: 0.8861746575920829 and parameters: {'orientations': 6, 'ppc_x': 8, 'ppc_y': 10, 'cpb_x': 4, 'cpb_y': 4, 'stride_x': 4, 'stride_y': 4, 'n_neighbors': 2, 'weights': 'distance', 'metric': 'manhattan'}. Best is trial 10 with value: 0.8861746575920829.\n",
      "[I 2025-04-22 14:32:50,669] Trial 169 pruned. \n"
     ]
    },
    {
     "name": "stdout",
     "output_type": "stream",
     "text": [
      "Trial 168 - Acc: 0.8862 - Params: {'orientations': 6, 'ppc_x': 8, 'ppc_y': 10, 'cpb_x': 4, 'cpb_y': 4, 'stride_x': 4, 'stride_y': 4, 'n_neighbors': 2, 'weights': 'distance', 'metric': 'manhattan'}\n"
     ]
    },
    {
     "name": "stderr",
     "output_type": "stream",
     "text": [
      "[I 2025-04-22 14:33:10,368] Trial 170 pruned. \n",
      "[I 2025-04-22 14:33:36,451] Trial 171 finished with value: 0.8861746575920829 and parameters: {'orientations': 6, 'ppc_x': 8, 'ppc_y': 10, 'cpb_x': 4, 'cpb_y': 4, 'stride_x': 4, 'stride_y': 4, 'n_neighbors': 1, 'weights': 'distance', 'metric': 'manhattan'}. Best is trial 10 with value: 0.8861746575920829.\n"
     ]
    },
    {
     "name": "stdout",
     "output_type": "stream",
     "text": [
      "Trial 171 - Acc: 0.8862 - Params: {'orientations': 6, 'ppc_x': 8, 'ppc_y': 10, 'cpb_x': 4, 'cpb_y': 4, 'stride_x': 4, 'stride_y': 4, 'n_neighbors': 1, 'weights': 'distance', 'metric': 'manhattan'}\n"
     ]
    },
    {
     "name": "stderr",
     "output_type": "stream",
     "text": [
      "[I 2025-04-22 14:34:00,580] Trial 172 finished with value: 0.8861746575920829 and parameters: {'orientations': 6, 'ppc_x': 8, 'ppc_y': 10, 'cpb_x': 4, 'cpb_y': 4, 'stride_x': 4, 'stride_y': 4, 'n_neighbors': 1, 'weights': 'distance', 'metric': 'manhattan'}. Best is trial 10 with value: 0.8861746575920829.\n"
     ]
    },
    {
     "name": "stdout",
     "output_type": "stream",
     "text": [
      "Trial 172 - Acc: 0.8862 - Params: {'orientations': 6, 'ppc_x': 8, 'ppc_y': 10, 'cpb_x': 4, 'cpb_y': 4, 'stride_x': 4, 'stride_y': 4, 'n_neighbors': 1, 'weights': 'distance', 'metric': 'manhattan'}\n"
     ]
    },
    {
     "name": "stderr",
     "output_type": "stream",
     "text": [
      "[I 2025-04-22 14:34:25,073] Trial 173 finished with value: 0.8861746575920829 and parameters: {'orientations': 6, 'ppc_x': 8, 'ppc_y': 10, 'cpb_x': 4, 'cpb_y': 4, 'stride_x': 4, 'stride_y': 4, 'n_neighbors': 1, 'weights': 'distance', 'metric': 'manhattan'}. Best is trial 10 with value: 0.8861746575920829.\n"
     ]
    },
    {
     "name": "stdout",
     "output_type": "stream",
     "text": [
      "Trial 173 - Acc: 0.8862 - Params: {'orientations': 6, 'ppc_x': 8, 'ppc_y': 10, 'cpb_x': 4, 'cpb_y': 4, 'stride_x': 4, 'stride_y': 4, 'n_neighbors': 1, 'weights': 'distance', 'metric': 'manhattan'}\n"
     ]
    },
    {
     "name": "stderr",
     "output_type": "stream",
     "text": [
      "[I 2025-04-22 14:34:48,821] Trial 174 finished with value: 0.8861746575920829 and parameters: {'orientations': 6, 'ppc_x': 8, 'ppc_y': 10, 'cpb_x': 4, 'cpb_y': 4, 'stride_x': 4, 'stride_y': 4, 'n_neighbors': 1, 'weights': 'distance', 'metric': 'manhattan'}. Best is trial 10 with value: 0.8861746575920829.\n"
     ]
    },
    {
     "name": "stdout",
     "output_type": "stream",
     "text": [
      "Trial 174 - Acc: 0.8862 - Params: {'orientations': 6, 'ppc_x': 8, 'ppc_y': 10, 'cpb_x': 4, 'cpb_y': 4, 'stride_x': 4, 'stride_y': 4, 'n_neighbors': 1, 'weights': 'distance', 'metric': 'manhattan'}\n"
     ]
    },
    {
     "name": "stderr",
     "output_type": "stream",
     "text": [
      "[I 2025-04-22 14:35:13,063] Trial 175 finished with value: 0.8861746575920829 and parameters: {'orientations': 6, 'ppc_x': 8, 'ppc_y': 10, 'cpb_x': 4, 'cpb_y': 4, 'stride_x': 4, 'stride_y': 4, 'n_neighbors': 2, 'weights': 'distance', 'metric': 'manhattan'}. Best is trial 10 with value: 0.8861746575920829.\n"
     ]
    },
    {
     "name": "stdout",
     "output_type": "stream",
     "text": [
      "Trial 175 - Acc: 0.8862 - Params: {'orientations': 6, 'ppc_x': 8, 'ppc_y': 10, 'cpb_x': 4, 'cpb_y': 4, 'stride_x': 4, 'stride_y': 4, 'n_neighbors': 2, 'weights': 'distance', 'metric': 'manhattan'}\n"
     ]
    },
    {
     "name": "stderr",
     "output_type": "stream",
     "text": [
      "[I 2025-04-22 14:35:37,898] Trial 176 finished with value: 0.8861746575920829 and parameters: {'orientations': 6, 'ppc_x': 8, 'ppc_y': 10, 'cpb_x': 4, 'cpb_y': 4, 'stride_x': 4, 'stride_y': 4, 'n_neighbors': 1, 'weights': 'distance', 'metric': 'manhattan'}. Best is trial 10 with value: 0.8861746575920829.\n"
     ]
    },
    {
     "name": "stdout",
     "output_type": "stream",
     "text": [
      "Trial 176 - Acc: 0.8862 - Params: {'orientations': 6, 'ppc_x': 8, 'ppc_y': 10, 'cpb_x': 4, 'cpb_y': 4, 'stride_x': 4, 'stride_y': 4, 'n_neighbors': 1, 'weights': 'distance', 'metric': 'manhattan'}\n"
     ]
    },
    {
     "name": "stderr",
     "output_type": "stream",
     "text": [
      "[I 2025-04-22 14:36:01,637] Trial 177 finished with value: 0.8861746575920829 and parameters: {'orientations': 6, 'ppc_x': 8, 'ppc_y': 10, 'cpb_x': 4, 'cpb_y': 4, 'stride_x': 4, 'stride_y': 4, 'n_neighbors': 2, 'weights': 'distance', 'metric': 'manhattan'}. Best is trial 10 with value: 0.8861746575920829.\n"
     ]
    },
    {
     "name": "stdout",
     "output_type": "stream",
     "text": [
      "Trial 177 - Acc: 0.8862 - Params: {'orientations': 6, 'ppc_x': 8, 'ppc_y': 10, 'cpb_x': 4, 'cpb_y': 4, 'stride_x': 4, 'stride_y': 4, 'n_neighbors': 2, 'weights': 'distance', 'metric': 'manhattan'}\n"
     ]
    },
    {
     "name": "stderr",
     "output_type": "stream",
     "text": [
      "[I 2025-04-22 14:36:20,095] Trial 178 pruned. \n",
      "[I 2025-04-22 14:36:34,984] Trial 179 pruned. \n",
      "[I 2025-04-22 14:37:00,635] Trial 180 finished with value: 0.8861746575920829 and parameters: {'orientations': 6, 'ppc_x': 8, 'ppc_y': 10, 'cpb_x': 4, 'cpb_y': 4, 'stride_x': 4, 'stride_y': 4, 'n_neighbors': 2, 'weights': 'distance', 'metric': 'manhattan'}. Best is trial 10 with value: 0.8861746575920829.\n"
     ]
    },
    {
     "name": "stdout",
     "output_type": "stream",
     "text": [
      "Trial 180 - Acc: 0.8862 - Params: {'orientations': 6, 'ppc_x': 8, 'ppc_y': 10, 'cpb_x': 4, 'cpb_y': 4, 'stride_x': 4, 'stride_y': 4, 'n_neighbors': 2, 'weights': 'distance', 'metric': 'manhattan'}\n"
     ]
    },
    {
     "name": "stderr",
     "output_type": "stream",
     "text": [
      "[I 2025-04-22 14:37:26,340] Trial 181 finished with value: 0.8861746575920829 and parameters: {'orientations': 6, 'ppc_x': 8, 'ppc_y': 10, 'cpb_x': 4, 'cpb_y': 4, 'stride_x': 4, 'stride_y': 4, 'n_neighbors': 2, 'weights': 'distance', 'metric': 'manhattan'}. Best is trial 10 with value: 0.8861746575920829.\n"
     ]
    },
    {
     "name": "stdout",
     "output_type": "stream",
     "text": [
      "Trial 181 - Acc: 0.8862 - Params: {'orientations': 6, 'ppc_x': 8, 'ppc_y': 10, 'cpb_x': 4, 'cpb_y': 4, 'stride_x': 4, 'stride_y': 4, 'n_neighbors': 2, 'weights': 'distance', 'metric': 'manhattan'}\n"
     ]
    },
    {
     "name": "stderr",
     "output_type": "stream",
     "text": [
      "[I 2025-04-22 14:37:50,574] Trial 182 finished with value: 0.8861746575920829 and parameters: {'orientations': 6, 'ppc_x': 8, 'ppc_y': 10, 'cpb_x': 4, 'cpb_y': 4, 'stride_x': 4, 'stride_y': 4, 'n_neighbors': 1, 'weights': 'distance', 'metric': 'manhattan'}. Best is trial 10 with value: 0.8861746575920829.\n"
     ]
    },
    {
     "name": "stdout",
     "output_type": "stream",
     "text": [
      "Trial 182 - Acc: 0.8862 - Params: {'orientations': 6, 'ppc_x': 8, 'ppc_y': 10, 'cpb_x': 4, 'cpb_y': 4, 'stride_x': 4, 'stride_y': 4, 'n_neighbors': 1, 'weights': 'distance', 'metric': 'manhattan'}\n"
     ]
    },
    {
     "name": "stderr",
     "output_type": "stream",
     "text": [
      "[I 2025-04-22 14:38:06,858] Trial 183 pruned. \n",
      "[I 2025-04-22 14:38:28,823] Trial 184 pruned. \n",
      "[I 2025-04-22 14:38:53,111] Trial 185 finished with value: 0.8861746575920829 and parameters: {'orientations': 6, 'ppc_x': 8, 'ppc_y': 10, 'cpb_x': 4, 'cpb_y': 4, 'stride_x': 4, 'stride_y': 4, 'n_neighbors': 2, 'weights': 'distance', 'metric': 'manhattan'}. Best is trial 10 with value: 0.8861746575920829.\n",
      "[I 2025-04-22 14:38:53,141] Trial 186 pruned. \n"
     ]
    },
    {
     "name": "stdout",
     "output_type": "stream",
     "text": [
      "Trial 185 - Acc: 0.8862 - Params: {'orientations': 6, 'ppc_x': 8, 'ppc_y': 10, 'cpb_x': 4, 'cpb_y': 4, 'stride_x': 4, 'stride_y': 4, 'n_neighbors': 2, 'weights': 'distance', 'metric': 'manhattan'}\n"
     ]
    },
    {
     "name": "stderr",
     "output_type": "stream",
     "text": [
      "[I 2025-04-22 14:39:21,358] Trial 187 pruned. \n",
      "[I 2025-04-22 14:39:41,385] Trial 188 finished with value: 0.8908516710857413 and parameters: {'orientations': 6, 'ppc_x': 8, 'ppc_y': 10, 'cpb_x': 4, 'cpb_y': 4, 'stride_x': 4, 'stride_y': 8, 'n_neighbors': 2, 'weights': 'distance', 'metric': 'manhattan'}. Best is trial 188 with value: 0.8908516710857413.\n"
     ]
    },
    {
     "name": "stdout",
     "output_type": "stream",
     "text": [
      "Trial 188 - Acc: 0.8909 - Params: {'orientations': 6, 'ppc_x': 8, 'ppc_y': 10, 'cpb_x': 4, 'cpb_y': 4, 'stride_x': 4, 'stride_y': 8, 'n_neighbors': 2, 'weights': 'distance', 'metric': 'manhattan'}\n"
     ]
    },
    {
     "name": "stderr",
     "output_type": "stream",
     "text": [
      "[I 2025-04-22 14:40:01,659] Trial 189 finished with value: 0.8874703190177831 and parameters: {'orientations': 8, 'ppc_x': 8, 'ppc_y': 10, 'cpb_x': 4, 'cpb_y': 4, 'stride_x': 4, 'stride_y': 8, 'n_neighbors': 1, 'weights': 'distance', 'metric': 'manhattan'}. Best is trial 188 with value: 0.8908516710857413.\n"
     ]
    },
    {
     "name": "stdout",
     "output_type": "stream",
     "text": [
      "Trial 189 - Acc: 0.8875 - Params: {'orientations': 8, 'ppc_x': 8, 'ppc_y': 10, 'cpb_x': 4, 'cpb_y': 4, 'stride_x': 4, 'stride_y': 8, 'n_neighbors': 1, 'weights': 'distance', 'metric': 'manhattan'}\n"
     ]
    },
    {
     "name": "stderr",
     "output_type": "stream",
     "text": [
      "[I 2025-04-22 14:40:17,463] Trial 190 pruned. \n",
      "[I 2025-04-22 14:40:38,423] Trial 191 finished with value: 0.8874703190177831 and parameters: {'orientations': 8, 'ppc_x': 8, 'ppc_y': 10, 'cpb_x': 4, 'cpb_y': 4, 'stride_x': 4, 'stride_y': 8, 'n_neighbors': 1, 'weights': 'distance', 'metric': 'manhattan'}. Best is trial 188 with value: 0.8908516710857413.\n"
     ]
    },
    {
     "name": "stdout",
     "output_type": "stream",
     "text": [
      "Trial 191 - Acc: 0.8875 - Params: {'orientations': 8, 'ppc_x': 8, 'ppc_y': 10, 'cpb_x': 4, 'cpb_y': 4, 'stride_x': 4, 'stride_y': 8, 'n_neighbors': 1, 'weights': 'distance', 'metric': 'manhattan'}\n"
     ]
    },
    {
     "name": "stderr",
     "output_type": "stream",
     "text": [
      "[I 2025-04-22 14:40:59,244] Trial 192 finished with value: 0.8874703190177831 and parameters: {'orientations': 8, 'ppc_x': 8, 'ppc_y': 10, 'cpb_x': 4, 'cpb_y': 4, 'stride_x': 4, 'stride_y': 8, 'n_neighbors': 1, 'weights': 'distance', 'metric': 'manhattan'}. Best is trial 188 with value: 0.8908516710857413.\n"
     ]
    },
    {
     "name": "stdout",
     "output_type": "stream",
     "text": [
      "Trial 192 - Acc: 0.8875 - Params: {'orientations': 8, 'ppc_x': 8, 'ppc_y': 10, 'cpb_x': 4, 'cpb_y': 4, 'stride_x': 4, 'stride_y': 8, 'n_neighbors': 1, 'weights': 'distance', 'metric': 'manhattan'}\n"
     ]
    },
    {
     "name": "stderr",
     "output_type": "stream",
     "text": [
      "[I 2025-04-22 14:41:21,827] Trial 193 finished with value: 0.8874703190177831 and parameters: {'orientations': 8, 'ppc_x': 8, 'ppc_y': 10, 'cpb_x': 4, 'cpb_y': 4, 'stride_x': 4, 'stride_y': 8, 'n_neighbors': 1, 'weights': 'distance', 'metric': 'manhattan'}. Best is trial 188 with value: 0.8908516710857413.\n"
     ]
    },
    {
     "name": "stdout",
     "output_type": "stream",
     "text": [
      "Trial 193 - Acc: 0.8875 - Params: {'orientations': 8, 'ppc_x': 8, 'ppc_y': 10, 'cpb_x': 4, 'cpb_y': 4, 'stride_x': 4, 'stride_y': 8, 'n_neighbors': 1, 'weights': 'distance', 'metric': 'manhattan'}\n"
     ]
    },
    {
     "name": "stderr",
     "output_type": "stream",
     "text": [
      "[I 2025-04-22 14:41:42,580] Trial 194 finished with value: 0.8874703190177831 and parameters: {'orientations': 8, 'ppc_x': 8, 'ppc_y': 10, 'cpb_x': 4, 'cpb_y': 4, 'stride_x': 4, 'stride_y': 8, 'n_neighbors': 1, 'weights': 'distance', 'metric': 'manhattan'}. Best is trial 188 with value: 0.8908516710857413.\n"
     ]
    },
    {
     "name": "stdout",
     "output_type": "stream",
     "text": [
      "Trial 194 - Acc: 0.8875 - Params: {'orientations': 8, 'ppc_x': 8, 'ppc_y': 10, 'cpb_x': 4, 'cpb_y': 4, 'stride_x': 4, 'stride_y': 8, 'n_neighbors': 1, 'weights': 'distance', 'metric': 'manhattan'}\n"
     ]
    },
    {
     "name": "stderr",
     "output_type": "stream",
     "text": [
      "[I 2025-04-22 14:42:03,290] Trial 195 finished with value: 0.8874703190177831 and parameters: {'orientations': 8, 'ppc_x': 8, 'ppc_y': 10, 'cpb_x': 4, 'cpb_y': 4, 'stride_x': 4, 'stride_y': 8, 'n_neighbors': 1, 'weights': 'distance', 'metric': 'manhattan'}. Best is trial 188 with value: 0.8908516710857413.\n"
     ]
    },
    {
     "name": "stdout",
     "output_type": "stream",
     "text": [
      "Trial 195 - Acc: 0.8875 - Params: {'orientations': 8, 'ppc_x': 8, 'ppc_y': 10, 'cpb_x': 4, 'cpb_y': 4, 'stride_x': 4, 'stride_y': 8, 'n_neighbors': 1, 'weights': 'distance', 'metric': 'manhattan'}\n"
     ]
    },
    {
     "name": "stderr",
     "output_type": "stream",
     "text": [
      "[I 2025-04-22 14:42:25,691] Trial 196 finished with value: 0.8874703190177831 and parameters: {'orientations': 8, 'ppc_x': 8, 'ppc_y': 10, 'cpb_x': 4, 'cpb_y': 4, 'stride_x': 4, 'stride_y': 8, 'n_neighbors': 1, 'weights': 'distance', 'metric': 'manhattan'}. Best is trial 188 with value: 0.8908516710857413.\n"
     ]
    },
    {
     "name": "stdout",
     "output_type": "stream",
     "text": [
      "Trial 196 - Acc: 0.8875 - Params: {'orientations': 8, 'ppc_x': 8, 'ppc_y': 10, 'cpb_x': 4, 'cpb_y': 4, 'stride_x': 4, 'stride_y': 8, 'n_neighbors': 1, 'weights': 'distance', 'metric': 'manhattan'}\n"
     ]
    },
    {
     "name": "stderr",
     "output_type": "stream",
     "text": [
      "[I 2025-04-22 14:42:47,024] Trial 197 finished with value: 0.8874703190177831 and parameters: {'orientations': 8, 'ppc_x': 8, 'ppc_y': 10, 'cpb_x': 4, 'cpb_y': 4, 'stride_x': 4, 'stride_y': 8, 'n_neighbors': 1, 'weights': 'distance', 'metric': 'manhattan'}. Best is trial 188 with value: 0.8908516710857413.\n"
     ]
    },
    {
     "name": "stdout",
     "output_type": "stream",
     "text": [
      "Trial 197 - Acc: 0.8875 - Params: {'orientations': 8, 'ppc_x': 8, 'ppc_y': 10, 'cpb_x': 4, 'cpb_y': 4, 'stride_x': 4, 'stride_y': 8, 'n_neighbors': 1, 'weights': 'distance', 'metric': 'manhattan'}\n"
     ]
    },
    {
     "name": "stderr",
     "output_type": "stream",
     "text": [
      "[I 2025-04-22 14:43:07,698] Trial 198 finished with value: 0.8874703190177831 and parameters: {'orientations': 8, 'ppc_x': 8, 'ppc_y': 10, 'cpb_x': 4, 'cpb_y': 4, 'stride_x': 4, 'stride_y': 8, 'n_neighbors': 1, 'weights': 'distance', 'metric': 'manhattan'}. Best is trial 188 with value: 0.8908516710857413.\n"
     ]
    },
    {
     "name": "stdout",
     "output_type": "stream",
     "text": [
      "Trial 198 - Acc: 0.8875 - Params: {'orientations': 8, 'ppc_x': 8, 'ppc_y': 10, 'cpb_x': 4, 'cpb_y': 4, 'stride_x': 4, 'stride_y': 8, 'n_neighbors': 1, 'weights': 'distance', 'metric': 'manhattan'}\n"
     ]
    },
    {
     "name": "stderr",
     "output_type": "stream",
     "text": [
      "[I 2025-04-22 14:43:28,574] Trial 199 finished with value: 0.8874703190177831 and parameters: {'orientations': 8, 'ppc_x': 8, 'ppc_y': 10, 'cpb_x': 4, 'cpb_y': 4, 'stride_x': 4, 'stride_y': 8, 'n_neighbors': 1, 'weights': 'distance', 'metric': 'manhattan'}. Best is trial 188 with value: 0.8908516710857413.\n"
     ]
    },
    {
     "name": "stdout",
     "output_type": "stream",
     "text": [
      "Trial 199 - Acc: 0.8875 - Params: {'orientations': 8, 'ppc_x': 8, 'ppc_y': 10, 'cpb_x': 4, 'cpb_y': 4, 'stride_x': 4, 'stride_y': 8, 'n_neighbors': 1, 'weights': 'distance', 'metric': 'manhattan'}\n"
     ]
    },
    {
     "name": "stderr",
     "output_type": "stream",
     "text": [
      "[I 2025-04-22 14:43:50,000] Trial 200 finished with value: 0.8874703190177831 and parameters: {'orientations': 8, 'ppc_x': 8, 'ppc_y': 10, 'cpb_x': 4, 'cpb_y': 4, 'stride_x': 4, 'stride_y': 8, 'n_neighbors': 1, 'weights': 'distance', 'metric': 'manhattan'}. Best is trial 188 with value: 0.8908516710857413.\n"
     ]
    },
    {
     "name": "stdout",
     "output_type": "stream",
     "text": [
      "Trial 200 - Acc: 0.8875 - Params: {'orientations': 8, 'ppc_x': 8, 'ppc_y': 10, 'cpb_x': 4, 'cpb_y': 4, 'stride_x': 4, 'stride_y': 8, 'n_neighbors': 1, 'weights': 'distance', 'metric': 'manhattan'}\n"
     ]
    },
    {
     "name": "stderr",
     "output_type": "stream",
     "text": [
      "[I 2025-04-22 14:44:10,297] Trial 201 finished with value: 0.8874703190177831 and parameters: {'orientations': 8, 'ppc_x': 8, 'ppc_y': 10, 'cpb_x': 4, 'cpb_y': 4, 'stride_x': 4, 'stride_y': 8, 'n_neighbors': 1, 'weights': 'distance', 'metric': 'manhattan'}. Best is trial 188 with value: 0.8908516710857413.\n"
     ]
    },
    {
     "name": "stdout",
     "output_type": "stream",
     "text": [
      "Trial 201 - Acc: 0.8875 - Params: {'orientations': 8, 'ppc_x': 8, 'ppc_y': 10, 'cpb_x': 4, 'cpb_y': 4, 'stride_x': 4, 'stride_y': 8, 'n_neighbors': 1, 'weights': 'distance', 'metric': 'manhattan'}\n"
     ]
    },
    {
     "name": "stderr",
     "output_type": "stream",
     "text": [
      "[I 2025-04-22 14:44:31,181] Trial 202 finished with value: 0.8874703190177831 and parameters: {'orientations': 8, 'ppc_x': 8, 'ppc_y': 10, 'cpb_x': 4, 'cpb_y': 4, 'stride_x': 4, 'stride_y': 8, 'n_neighbors': 1, 'weights': 'distance', 'metric': 'manhattan'}. Best is trial 188 with value: 0.8908516710857413.\n"
     ]
    },
    {
     "name": "stdout",
     "output_type": "stream",
     "text": [
      "Trial 202 - Acc: 0.8875 - Params: {'orientations': 8, 'ppc_x': 8, 'ppc_y': 10, 'cpb_x': 4, 'cpb_y': 4, 'stride_x': 4, 'stride_y': 8, 'n_neighbors': 1, 'weights': 'distance', 'metric': 'manhattan'}\n"
     ]
    },
    {
     "name": "stderr",
     "output_type": "stream",
     "text": [
      "[I 2025-04-22 14:44:53,210] Trial 203 finished with value: 0.8874703190177831 and parameters: {'orientations': 8, 'ppc_x': 8, 'ppc_y': 10, 'cpb_x': 4, 'cpb_y': 4, 'stride_x': 4, 'stride_y': 8, 'n_neighbors': 1, 'weights': 'distance', 'metric': 'manhattan'}. Best is trial 188 with value: 0.8908516710857413.\n"
     ]
    },
    {
     "name": "stdout",
     "output_type": "stream",
     "text": [
      "Trial 203 - Acc: 0.8875 - Params: {'orientations': 8, 'ppc_x': 8, 'ppc_y': 10, 'cpb_x': 4, 'cpb_y': 4, 'stride_x': 4, 'stride_y': 8, 'n_neighbors': 1, 'weights': 'distance', 'metric': 'manhattan'}\n"
     ]
    },
    {
     "name": "stderr",
     "output_type": "stream",
     "text": [
      "[I 2025-04-22 14:45:13,972] Trial 204 finished with value: 0.8874703190177831 and parameters: {'orientations': 8, 'ppc_x': 8, 'ppc_y': 10, 'cpb_x': 4, 'cpb_y': 4, 'stride_x': 4, 'stride_y': 8, 'n_neighbors': 1, 'weights': 'distance', 'metric': 'manhattan'}. Best is trial 188 with value: 0.8908516710857413.\n"
     ]
    },
    {
     "name": "stdout",
     "output_type": "stream",
     "text": [
      "Trial 204 - Acc: 0.8875 - Params: {'orientations': 8, 'ppc_x': 8, 'ppc_y': 10, 'cpb_x': 4, 'cpb_y': 4, 'stride_x': 4, 'stride_y': 8, 'n_neighbors': 1, 'weights': 'distance', 'metric': 'manhattan'}\n"
     ]
    },
    {
     "name": "stderr",
     "output_type": "stream",
     "text": [
      "[I 2025-04-22 14:45:34,954] Trial 205 finished with value: 0.8874703190177831 and parameters: {'orientations': 8, 'ppc_x': 8, 'ppc_y': 10, 'cpb_x': 4, 'cpb_y': 4, 'stride_x': 4, 'stride_y': 8, 'n_neighbors': 1, 'weights': 'distance', 'metric': 'manhattan'}. Best is trial 188 with value: 0.8908516710857413.\n"
     ]
    },
    {
     "name": "stdout",
     "output_type": "stream",
     "text": [
      "Trial 205 - Acc: 0.8875 - Params: {'orientations': 8, 'ppc_x': 8, 'ppc_y': 10, 'cpb_x': 4, 'cpb_y': 4, 'stride_x': 4, 'stride_y': 8, 'n_neighbors': 1, 'weights': 'distance', 'metric': 'manhattan'}\n"
     ]
    },
    {
     "name": "stderr",
     "output_type": "stream",
     "text": [
      "[I 2025-04-22 14:45:57,000] Trial 206 finished with value: 0.8874703190177831 and parameters: {'orientations': 8, 'ppc_x': 8, 'ppc_y': 10, 'cpb_x': 4, 'cpb_y': 4, 'stride_x': 4, 'stride_y': 8, 'n_neighbors': 1, 'weights': 'distance', 'metric': 'manhattan'}. Best is trial 188 with value: 0.8908516710857413.\n"
     ]
    },
    {
     "name": "stdout",
     "output_type": "stream",
     "text": [
      "Trial 206 - Acc: 0.8875 - Params: {'orientations': 8, 'ppc_x': 8, 'ppc_y': 10, 'cpb_x': 4, 'cpb_y': 4, 'stride_x': 4, 'stride_y': 8, 'n_neighbors': 1, 'weights': 'distance', 'metric': 'manhattan'}\n"
     ]
    },
    {
     "name": "stderr",
     "output_type": "stream",
     "text": [
      "[I 2025-04-22 14:46:17,971] Trial 207 finished with value: 0.8874703190177831 and parameters: {'orientations': 8, 'ppc_x': 8, 'ppc_y': 10, 'cpb_x': 4, 'cpb_y': 4, 'stride_x': 4, 'stride_y': 8, 'n_neighbors': 1, 'weights': 'distance', 'metric': 'manhattan'}. Best is trial 188 with value: 0.8908516710857413.\n"
     ]
    },
    {
     "name": "stdout",
     "output_type": "stream",
     "text": [
      "Trial 207 - Acc: 0.8875 - Params: {'orientations': 8, 'ppc_x': 8, 'ppc_y': 10, 'cpb_x': 4, 'cpb_y': 4, 'stride_x': 4, 'stride_y': 8, 'n_neighbors': 1, 'weights': 'distance', 'metric': 'manhattan'}\n"
     ]
    },
    {
     "name": "stderr",
     "output_type": "stream",
     "text": [
      "[I 2025-04-22 14:46:39,898] Trial 208 finished with value: 0.8874703190177831 and parameters: {'orientations': 8, 'ppc_x': 8, 'ppc_y': 10, 'cpb_x': 4, 'cpb_y': 4, 'stride_x': 4, 'stride_y': 8, 'n_neighbors': 1, 'weights': 'distance', 'metric': 'manhattan'}. Best is trial 188 with value: 0.8908516710857413.\n"
     ]
    },
    {
     "name": "stdout",
     "output_type": "stream",
     "text": [
      "Trial 208 - Acc: 0.8875 - Params: {'orientations': 8, 'ppc_x': 8, 'ppc_y': 10, 'cpb_x': 4, 'cpb_y': 4, 'stride_x': 4, 'stride_y': 8, 'n_neighbors': 1, 'weights': 'distance', 'metric': 'manhattan'}\n"
     ]
    },
    {
     "name": "stderr",
     "output_type": "stream",
     "text": [
      "[I 2025-04-22 14:47:03,879] Trial 209 finished with value: 0.8874703190177831 and parameters: {'orientations': 8, 'ppc_x': 8, 'ppc_y': 10, 'cpb_x': 4, 'cpb_y': 4, 'stride_x': 4, 'stride_y': 8, 'n_neighbors': 1, 'weights': 'distance', 'metric': 'manhattan'}. Best is trial 188 with value: 0.8908516710857413.\n"
     ]
    },
    {
     "name": "stdout",
     "output_type": "stream",
     "text": [
      "Trial 209 - Acc: 0.8875 - Params: {'orientations': 8, 'ppc_x': 8, 'ppc_y': 10, 'cpb_x': 4, 'cpb_y': 4, 'stride_x': 4, 'stride_y': 8, 'n_neighbors': 1, 'weights': 'distance', 'metric': 'manhattan'}\n"
     ]
    },
    {
     "name": "stderr",
     "output_type": "stream",
     "text": [
      "[I 2025-04-22 14:47:29,170] Trial 210 finished with value: 0.8874703190177831 and parameters: {'orientations': 8, 'ppc_x': 8, 'ppc_y': 10, 'cpb_x': 4, 'cpb_y': 4, 'stride_x': 4, 'stride_y': 8, 'n_neighbors': 1, 'weights': 'distance', 'metric': 'manhattan'}. Best is trial 188 with value: 0.8908516710857413.\n"
     ]
    },
    {
     "name": "stdout",
     "output_type": "stream",
     "text": [
      "Trial 210 - Acc: 0.8875 - Params: {'orientations': 8, 'ppc_x': 8, 'ppc_y': 10, 'cpb_x': 4, 'cpb_y': 4, 'stride_x': 4, 'stride_y': 8, 'n_neighbors': 1, 'weights': 'distance', 'metric': 'manhattan'}\n"
     ]
    },
    {
     "name": "stderr",
     "output_type": "stream",
     "text": [
      "[I 2025-04-22 14:48:09,764] Trial 211 finished with value: 0.8874703190177831 and parameters: {'orientations': 8, 'ppc_x': 8, 'ppc_y': 10, 'cpb_x': 4, 'cpb_y': 4, 'stride_x': 4, 'stride_y': 8, 'n_neighbors': 1, 'weights': 'distance', 'metric': 'manhattan'}. Best is trial 188 with value: 0.8908516710857413.\n"
     ]
    },
    {
     "name": "stdout",
     "output_type": "stream",
     "text": [
      "Trial 211 - Acc: 0.8875 - Params: {'orientations': 8, 'ppc_x': 8, 'ppc_y': 10, 'cpb_x': 4, 'cpb_y': 4, 'stride_x': 4, 'stride_y': 8, 'n_neighbors': 1, 'weights': 'distance', 'metric': 'manhattan'}\n"
     ]
    },
    {
     "name": "stderr",
     "output_type": "stream",
     "text": [
      "[I 2025-04-22 14:48:46,054] Trial 212 finished with value: 0.8874703190177831 and parameters: {'orientations': 8, 'ppc_x': 8, 'ppc_y': 10, 'cpb_x': 4, 'cpb_y': 4, 'stride_x': 4, 'stride_y': 8, 'n_neighbors': 1, 'weights': 'distance', 'metric': 'manhattan'}. Best is trial 188 with value: 0.8908516710857413.\n"
     ]
    },
    {
     "name": "stdout",
     "output_type": "stream",
     "text": [
      "Trial 212 - Acc: 0.8875 - Params: {'orientations': 8, 'ppc_x': 8, 'ppc_y': 10, 'cpb_x': 4, 'cpb_y': 4, 'stride_x': 4, 'stride_y': 8, 'n_neighbors': 1, 'weights': 'distance', 'metric': 'manhattan'}\n"
     ]
    },
    {
     "name": "stderr",
     "output_type": "stream",
     "text": [
      "[I 2025-04-22 14:49:23,474] Trial 213 finished with value: 0.8874703190177831 and parameters: {'orientations': 8, 'ppc_x': 8, 'ppc_y': 10, 'cpb_x': 4, 'cpb_y': 4, 'stride_x': 4, 'stride_y': 8, 'n_neighbors': 1, 'weights': 'distance', 'metric': 'manhattan'}. Best is trial 188 with value: 0.8908516710857413.\n"
     ]
    },
    {
     "name": "stdout",
     "output_type": "stream",
     "text": [
      "Trial 213 - Acc: 0.8875 - Params: {'orientations': 8, 'ppc_x': 8, 'ppc_y': 10, 'cpb_x': 4, 'cpb_y': 4, 'stride_x': 4, 'stride_y': 8, 'n_neighbors': 1, 'weights': 'distance', 'metric': 'manhattan'}\n"
     ]
    },
    {
     "name": "stderr",
     "output_type": "stream",
     "text": [
      "[I 2025-04-22 14:49:58,776] Trial 214 finished with value: 0.8874703190177831 and parameters: {'orientations': 8, 'ppc_x': 8, 'ppc_y': 10, 'cpb_x': 4, 'cpb_y': 4, 'stride_x': 4, 'stride_y': 8, 'n_neighbors': 1, 'weights': 'distance', 'metric': 'manhattan'}. Best is trial 188 with value: 0.8908516710857413.\n"
     ]
    },
    {
     "name": "stdout",
     "output_type": "stream",
     "text": [
      "Trial 214 - Acc: 0.8875 - Params: {'orientations': 8, 'ppc_x': 8, 'ppc_y': 10, 'cpb_x': 4, 'cpb_y': 4, 'stride_x': 4, 'stride_y': 8, 'n_neighbors': 1, 'weights': 'distance', 'metric': 'manhattan'}\n"
     ]
    },
    {
     "name": "stderr",
     "output_type": "stream",
     "text": [
      "[I 2025-04-22 14:50:35,210] Trial 215 finished with value: 0.8874703190177831 and parameters: {'orientations': 8, 'ppc_x': 8, 'ppc_y': 10, 'cpb_x': 4, 'cpb_y': 4, 'stride_x': 4, 'stride_y': 8, 'n_neighbors': 1, 'weights': 'distance', 'metric': 'manhattan'}. Best is trial 188 with value: 0.8908516710857413.\n"
     ]
    },
    {
     "name": "stdout",
     "output_type": "stream",
     "text": [
      "Trial 215 - Acc: 0.8875 - Params: {'orientations': 8, 'ppc_x': 8, 'ppc_y': 10, 'cpb_x': 4, 'cpb_y': 4, 'stride_x': 4, 'stride_y': 8, 'n_neighbors': 1, 'weights': 'distance', 'metric': 'manhattan'}\n"
     ]
    },
    {
     "name": "stderr",
     "output_type": "stream",
     "text": [
      "[I 2025-04-22 14:51:01,897] Trial 216 finished with value: 0.8874703190177831 and parameters: {'orientations': 8, 'ppc_x': 8, 'ppc_y': 10, 'cpb_x': 4, 'cpb_y': 4, 'stride_x': 4, 'stride_y': 8, 'n_neighbors': 1, 'weights': 'distance', 'metric': 'manhattan'}. Best is trial 188 with value: 0.8908516710857413.\n"
     ]
    },
    {
     "name": "stdout",
     "output_type": "stream",
     "text": [
      "Trial 216 - Acc: 0.8875 - Params: {'orientations': 8, 'ppc_x': 8, 'ppc_y': 10, 'cpb_x': 4, 'cpb_y': 4, 'stride_x': 4, 'stride_y': 8, 'n_neighbors': 1, 'weights': 'distance', 'metric': 'manhattan'}\n"
     ]
    },
    {
     "name": "stderr",
     "output_type": "stream",
     "text": [
      "[I 2025-04-22 14:51:23,695] Trial 217 finished with value: 0.8874703190177831 and parameters: {'orientations': 8, 'ppc_x': 8, 'ppc_y': 10, 'cpb_x': 4, 'cpb_y': 4, 'stride_x': 4, 'stride_y': 8, 'n_neighbors': 1, 'weights': 'distance', 'metric': 'manhattan'}. Best is trial 188 with value: 0.8908516710857413.\n"
     ]
    },
    {
     "name": "stdout",
     "output_type": "stream",
     "text": [
      "Trial 217 - Acc: 0.8875 - Params: {'orientations': 8, 'ppc_x': 8, 'ppc_y': 10, 'cpb_x': 4, 'cpb_y': 4, 'stride_x': 4, 'stride_y': 8, 'n_neighbors': 1, 'weights': 'distance', 'metric': 'manhattan'}\n"
     ]
    },
    {
     "name": "stderr",
     "output_type": "stream",
     "text": [
      "[I 2025-04-22 14:51:44,828] Trial 218 finished with value: 0.8874703190177831 and parameters: {'orientations': 8, 'ppc_x': 8, 'ppc_y': 10, 'cpb_x': 4, 'cpb_y': 4, 'stride_x': 4, 'stride_y': 8, 'n_neighbors': 1, 'weights': 'distance', 'metric': 'manhattan'}. Best is trial 188 with value: 0.8908516710857413.\n"
     ]
    },
    {
     "name": "stdout",
     "output_type": "stream",
     "text": [
      "Trial 218 - Acc: 0.8875 - Params: {'orientations': 8, 'ppc_x': 8, 'ppc_y': 10, 'cpb_x': 4, 'cpb_y': 4, 'stride_x': 4, 'stride_y': 8, 'n_neighbors': 1, 'weights': 'distance', 'metric': 'manhattan'}\n"
     ]
    },
    {
     "name": "stderr",
     "output_type": "stream",
     "text": [
      "[I 2025-04-22 14:52:05,430] Trial 219 finished with value: 0.8874703190177831 and parameters: {'orientations': 8, 'ppc_x': 8, 'ppc_y': 10, 'cpb_x': 4, 'cpb_y': 4, 'stride_x': 4, 'stride_y': 8, 'n_neighbors': 1, 'weights': 'distance', 'metric': 'manhattan'}. Best is trial 188 with value: 0.8908516710857413.\n",
      "[I 2025-04-22 14:52:05,455] Trial 220 pruned. \n"
     ]
    },
    {
     "name": "stdout",
     "output_type": "stream",
     "text": [
      "Trial 219 - Acc: 0.8875 - Params: {'orientations': 8, 'ppc_x': 8, 'ppc_y': 10, 'cpb_x': 4, 'cpb_y': 4, 'stride_x': 4, 'stride_y': 8, 'n_neighbors': 1, 'weights': 'distance', 'metric': 'manhattan'}\n"
     ]
    },
    {
     "name": "stderr",
     "output_type": "stream",
     "text": [
      "[I 2025-04-22 14:52:25,663] Trial 221 finished with value: 0.8874703190177831 and parameters: {'orientations': 8, 'ppc_x': 8, 'ppc_y': 10, 'cpb_x': 4, 'cpb_y': 4, 'stride_x': 4, 'stride_y': 8, 'n_neighbors': 1, 'weights': 'distance', 'metric': 'manhattan'}. Best is trial 188 with value: 0.8908516710857413.\n"
     ]
    },
    {
     "name": "stdout",
     "output_type": "stream",
     "text": [
      "Trial 221 - Acc: 0.8875 - Params: {'orientations': 8, 'ppc_x': 8, 'ppc_y': 10, 'cpb_x': 4, 'cpb_y': 4, 'stride_x': 4, 'stride_y': 8, 'n_neighbors': 1, 'weights': 'distance', 'metric': 'manhattan'}\n"
     ]
    },
    {
     "name": "stderr",
     "output_type": "stream",
     "text": [
      "[I 2025-04-22 14:52:46,187] Trial 222 finished with value: 0.8874703190177831 and parameters: {'orientations': 8, 'ppc_x': 8, 'ppc_y': 10, 'cpb_x': 4, 'cpb_y': 4, 'stride_x': 4, 'stride_y': 8, 'n_neighbors': 1, 'weights': 'distance', 'metric': 'manhattan'}. Best is trial 188 with value: 0.8908516710857413.\n"
     ]
    },
    {
     "name": "stdout",
     "output_type": "stream",
     "text": [
      "Trial 222 - Acc: 0.8875 - Params: {'orientations': 8, 'ppc_x': 8, 'ppc_y': 10, 'cpb_x': 4, 'cpb_y': 4, 'stride_x': 4, 'stride_y': 8, 'n_neighbors': 1, 'weights': 'distance', 'metric': 'manhattan'}\n"
     ]
    },
    {
     "name": "stderr",
     "output_type": "stream",
     "text": [
      "[I 2025-04-22 14:53:08,602] Trial 223 finished with value: 0.8874703190177831 and parameters: {'orientations': 8, 'ppc_x': 8, 'ppc_y': 10, 'cpb_x': 4, 'cpb_y': 4, 'stride_x': 4, 'stride_y': 8, 'n_neighbors': 1, 'weights': 'distance', 'metric': 'manhattan'}. Best is trial 188 with value: 0.8908516710857413.\n"
     ]
    },
    {
     "name": "stdout",
     "output_type": "stream",
     "text": [
      "Trial 223 - Acc: 0.8875 - Params: {'orientations': 8, 'ppc_x': 8, 'ppc_y': 10, 'cpb_x': 4, 'cpb_y': 4, 'stride_x': 4, 'stride_y': 8, 'n_neighbors': 1, 'weights': 'distance', 'metric': 'manhattan'}\n"
     ]
    },
    {
     "name": "stderr",
     "output_type": "stream",
     "text": [
      "[I 2025-04-22 14:53:34,273] Trial 224 finished with value: 0.8874703190177831 and parameters: {'orientations': 8, 'ppc_x': 8, 'ppc_y': 10, 'cpb_x': 4, 'cpb_y': 4, 'stride_x': 4, 'stride_y': 8, 'n_neighbors': 1, 'weights': 'distance', 'metric': 'manhattan'}. Best is trial 188 with value: 0.8908516710857413.\n"
     ]
    },
    {
     "name": "stdout",
     "output_type": "stream",
     "text": [
      "Trial 224 - Acc: 0.8875 - Params: {'orientations': 8, 'ppc_x': 8, 'ppc_y': 10, 'cpb_x': 4, 'cpb_y': 4, 'stride_x': 4, 'stride_y': 8, 'n_neighbors': 1, 'weights': 'distance', 'metric': 'manhattan'}\n"
     ]
    },
    {
     "name": "stderr",
     "output_type": "stream",
     "text": [
      "[I 2025-04-22 14:54:00,114] Trial 225 finished with value: 0.8874703190177831 and parameters: {'orientations': 8, 'ppc_x': 8, 'ppc_y': 10, 'cpb_x': 4, 'cpb_y': 4, 'stride_x': 4, 'stride_y': 8, 'n_neighbors': 1, 'weights': 'distance', 'metric': 'manhattan'}. Best is trial 188 with value: 0.8908516710857413.\n"
     ]
    },
    {
     "name": "stdout",
     "output_type": "stream",
     "text": [
      "Trial 225 - Acc: 0.8875 - Params: {'orientations': 8, 'ppc_x': 8, 'ppc_y': 10, 'cpb_x': 4, 'cpb_y': 4, 'stride_x': 4, 'stride_y': 8, 'n_neighbors': 1, 'weights': 'distance', 'metric': 'manhattan'}\n"
     ]
    },
    {
     "name": "stderr",
     "output_type": "stream",
     "text": [
      "[I 2025-04-22 14:54:20,423] Trial 226 pruned. \n",
      "[I 2025-04-22 14:54:39,655] Trial 227 pruned. \n",
      "[I 2025-04-22 14:55:05,840] Trial 228 finished with value: 0.8874703190177831 and parameters: {'orientations': 8, 'ppc_x': 8, 'ppc_y': 10, 'cpb_x': 4, 'cpb_y': 4, 'stride_x': 4, 'stride_y': 8, 'n_neighbors': 1, 'weights': 'distance', 'metric': 'manhattan'}. Best is trial 188 with value: 0.8908516710857413.\n"
     ]
    },
    {
     "name": "stdout",
     "output_type": "stream",
     "text": [
      "Trial 228 - Acc: 0.8875 - Params: {'orientations': 8, 'ppc_x': 8, 'ppc_y': 10, 'cpb_x': 4, 'cpb_y': 4, 'stride_x': 4, 'stride_y': 8, 'n_neighbors': 1, 'weights': 'distance', 'metric': 'manhattan'}\n"
     ]
    },
    {
     "name": "stderr",
     "output_type": "stream",
     "text": [
      "[I 2025-04-22 14:55:30,004] Trial 229 pruned. \n",
      "[I 2025-04-22 14:55:45,997] Trial 230 pruned. \n",
      "[I 2025-04-22 14:56:10,713] Trial 231 finished with value: 0.8874703190177831 and parameters: {'orientations': 8, 'ppc_x': 8, 'ppc_y': 10, 'cpb_x': 4, 'cpb_y': 4, 'stride_x': 4, 'stride_y': 8, 'n_neighbors': 1, 'weights': 'distance', 'metric': 'manhattan'}. Best is trial 188 with value: 0.8908516710857413.\n"
     ]
    },
    {
     "name": "stdout",
     "output_type": "stream",
     "text": [
      "Trial 231 - Acc: 0.8875 - Params: {'orientations': 8, 'ppc_x': 8, 'ppc_y': 10, 'cpb_x': 4, 'cpb_y': 4, 'stride_x': 4, 'stride_y': 8, 'n_neighbors': 1, 'weights': 'distance', 'metric': 'manhattan'}\n"
     ]
    },
    {
     "name": "stderr",
     "output_type": "stream",
     "text": [
      "[I 2025-04-22 14:56:35,318] Trial 232 finished with value: 0.8874703190177831 and parameters: {'orientations': 8, 'ppc_x': 8, 'ppc_y': 10, 'cpb_x': 4, 'cpb_y': 4, 'stride_x': 4, 'stride_y': 8, 'n_neighbors': 1, 'weights': 'distance', 'metric': 'manhattan'}. Best is trial 188 with value: 0.8908516710857413.\n"
     ]
    },
    {
     "name": "stdout",
     "output_type": "stream",
     "text": [
      "Trial 232 - Acc: 0.8875 - Params: {'orientations': 8, 'ppc_x': 8, 'ppc_y': 10, 'cpb_x': 4, 'cpb_y': 4, 'stride_x': 4, 'stride_y': 8, 'n_neighbors': 1, 'weights': 'distance', 'metric': 'manhattan'}\n"
     ]
    },
    {
     "name": "stderr",
     "output_type": "stream",
     "text": [
      "[I 2025-04-22 14:57:00,712] Trial 233 finished with value: 0.8874703190177831 and parameters: {'orientations': 8, 'ppc_x': 8, 'ppc_y': 10, 'cpb_x': 4, 'cpb_y': 4, 'stride_x': 4, 'stride_y': 8, 'n_neighbors': 1, 'weights': 'distance', 'metric': 'manhattan'}. Best is trial 188 with value: 0.8908516710857413.\n"
     ]
    },
    {
     "name": "stdout",
     "output_type": "stream",
     "text": [
      "Trial 233 - Acc: 0.8875 - Params: {'orientations': 8, 'ppc_x': 8, 'ppc_y': 10, 'cpb_x': 4, 'cpb_y': 4, 'stride_x': 4, 'stride_y': 8, 'n_neighbors': 1, 'weights': 'distance', 'metric': 'manhattan'}\n"
     ]
    },
    {
     "name": "stderr",
     "output_type": "stream",
     "text": [
      "[I 2025-04-22 14:57:29,686] Trial 234 finished with value: 0.8874703190177831 and parameters: {'orientations': 8, 'ppc_x': 8, 'ppc_y': 10, 'cpb_x': 4, 'cpb_y': 4, 'stride_x': 4, 'stride_y': 8, 'n_neighbors': 1, 'weights': 'distance', 'metric': 'manhattan'}. Best is trial 188 with value: 0.8908516710857413.\n"
     ]
    },
    {
     "name": "stdout",
     "output_type": "stream",
     "text": [
      "Trial 234 - Acc: 0.8875 - Params: {'orientations': 8, 'ppc_x': 8, 'ppc_y': 10, 'cpb_x': 4, 'cpb_y': 4, 'stride_x': 4, 'stride_y': 8, 'n_neighbors': 1, 'weights': 'distance', 'metric': 'manhattan'}\n"
     ]
    },
    {
     "name": "stderr",
     "output_type": "stream",
     "text": [
      "[I 2025-04-22 14:57:54,612] Trial 235 finished with value: 0.8874703190177831 and parameters: {'orientations': 8, 'ppc_x': 8, 'ppc_y': 10, 'cpb_x': 4, 'cpb_y': 4, 'stride_x': 4, 'stride_y': 8, 'n_neighbors': 1, 'weights': 'distance', 'metric': 'manhattan'}. Best is trial 188 with value: 0.8908516710857413.\n",
      "[I 2025-04-22 14:57:54,634] Trial 236 pruned. \n"
     ]
    },
    {
     "name": "stdout",
     "output_type": "stream",
     "text": [
      "Trial 235 - Acc: 0.8875 - Params: {'orientations': 8, 'ppc_x': 8, 'ppc_y': 10, 'cpb_x': 4, 'cpb_y': 4, 'stride_x': 4, 'stride_y': 8, 'n_neighbors': 1, 'weights': 'distance', 'metric': 'manhattan'}\n"
     ]
    },
    {
     "name": "stderr",
     "output_type": "stream",
     "text": [
      "[I 2025-04-22 14:58:21,375] Trial 237 finished with value: 0.8874703190177831 and parameters: {'orientations': 8, 'ppc_x': 8, 'ppc_y': 10, 'cpb_x': 4, 'cpb_y': 4, 'stride_x': 4, 'stride_y': 8, 'n_neighbors': 1, 'weights': 'distance', 'metric': 'manhattan'}. Best is trial 188 with value: 0.8908516710857413.\n"
     ]
    },
    {
     "name": "stdout",
     "output_type": "stream",
     "text": [
      "Trial 237 - Acc: 0.8875 - Params: {'orientations': 8, 'ppc_x': 8, 'ppc_y': 10, 'cpb_x': 4, 'cpb_y': 4, 'stride_x': 4, 'stride_y': 8, 'n_neighbors': 1, 'weights': 'distance', 'metric': 'manhattan'}\n"
     ]
    },
    {
     "name": "stderr",
     "output_type": "stream",
     "text": [
      "[I 2025-04-22 14:58:48,536] Trial 238 finished with value: 0.8874703190177831 and parameters: {'orientations': 8, 'ppc_x': 8, 'ppc_y': 10, 'cpb_x': 4, 'cpb_y': 4, 'stride_x': 4, 'stride_y': 8, 'n_neighbors': 1, 'weights': 'distance', 'metric': 'manhattan'}. Best is trial 188 with value: 0.8908516710857413.\n"
     ]
    },
    {
     "name": "stdout",
     "output_type": "stream",
     "text": [
      "Trial 238 - Acc: 0.8875 - Params: {'orientations': 8, 'ppc_x': 8, 'ppc_y': 10, 'cpb_x': 4, 'cpb_y': 4, 'stride_x': 4, 'stride_y': 8, 'n_neighbors': 1, 'weights': 'distance', 'metric': 'manhattan'}\n"
     ]
    },
    {
     "name": "stderr",
     "output_type": "stream",
     "text": [
      "[I 2025-04-22 14:59:12,679] Trial 239 finished with value: 0.8874703190177831 and parameters: {'orientations': 8, 'ppc_x': 8, 'ppc_y': 10, 'cpb_x': 4, 'cpb_y': 4, 'stride_x': 4, 'stride_y': 8, 'n_neighbors': 1, 'weights': 'distance', 'metric': 'manhattan'}. Best is trial 188 with value: 0.8908516710857413.\n",
      "[I 2025-04-22 14:59:12,704] Trial 240 pruned. \n"
     ]
    },
    {
     "name": "stdout",
     "output_type": "stream",
     "text": [
      "Trial 239 - Acc: 0.8875 - Params: {'orientations': 8, 'ppc_x': 8, 'ppc_y': 10, 'cpb_x': 4, 'cpb_y': 4, 'stride_x': 4, 'stride_y': 8, 'n_neighbors': 1, 'weights': 'distance', 'metric': 'manhattan'}\n"
     ]
    },
    {
     "name": "stderr",
     "output_type": "stream",
     "text": [
      "[I 2025-04-22 14:59:35,190] Trial 241 finished with value: 0.8874703190177831 and parameters: {'orientations': 8, 'ppc_x': 8, 'ppc_y': 10, 'cpb_x': 4, 'cpb_y': 4, 'stride_x': 4, 'stride_y': 8, 'n_neighbors': 1, 'weights': 'distance', 'metric': 'manhattan'}. Best is trial 188 with value: 0.8908516710857413.\n"
     ]
    },
    {
     "name": "stdout",
     "output_type": "stream",
     "text": [
      "Trial 241 - Acc: 0.8875 - Params: {'orientations': 8, 'ppc_x': 8, 'ppc_y': 10, 'cpb_x': 4, 'cpb_y': 4, 'stride_x': 4, 'stride_y': 8, 'n_neighbors': 1, 'weights': 'distance', 'metric': 'manhattan'}\n"
     ]
    },
    {
     "name": "stderr",
     "output_type": "stream",
     "text": [
      "[I 2025-04-22 14:59:59,110] Trial 242 finished with value: 0.8874703190177831 and parameters: {'orientations': 8, 'ppc_x': 8, 'ppc_y': 10, 'cpb_x': 4, 'cpb_y': 4, 'stride_x': 4, 'stride_y': 8, 'n_neighbors': 1, 'weights': 'distance', 'metric': 'manhattan'}. Best is trial 188 with value: 0.8908516710857413.\n"
     ]
    },
    {
     "name": "stdout",
     "output_type": "stream",
     "text": [
      "Trial 242 - Acc: 0.8875 - Params: {'orientations': 8, 'ppc_x': 8, 'ppc_y': 10, 'cpb_x': 4, 'cpb_y': 4, 'stride_x': 4, 'stride_y': 8, 'n_neighbors': 1, 'weights': 'distance', 'metric': 'manhattan'}\n"
     ]
    },
    {
     "name": "stderr",
     "output_type": "stream",
     "text": [
      "[I 2025-04-22 15:00:22,766] Trial 243 finished with value: 0.8874703190177831 and parameters: {'orientations': 8, 'ppc_x': 8, 'ppc_y': 10, 'cpb_x': 4, 'cpb_y': 4, 'stride_x': 4, 'stride_y': 8, 'n_neighbors': 1, 'weights': 'distance', 'metric': 'manhattan'}. Best is trial 188 with value: 0.8908516710857413.\n"
     ]
    },
    {
     "name": "stdout",
     "output_type": "stream",
     "text": [
      "Trial 243 - Acc: 0.8875 - Params: {'orientations': 8, 'ppc_x': 8, 'ppc_y': 10, 'cpb_x': 4, 'cpb_y': 4, 'stride_x': 4, 'stride_y': 8, 'n_neighbors': 1, 'weights': 'distance', 'metric': 'manhattan'}\n"
     ]
    },
    {
     "name": "stderr",
     "output_type": "stream",
     "text": [
      "[I 2025-04-22 15:00:47,662] Trial 244 finished with value: 0.8874703190177831 and parameters: {'orientations': 8, 'ppc_x': 8, 'ppc_y': 10, 'cpb_x': 4, 'cpb_y': 4, 'stride_x': 4, 'stride_y': 8, 'n_neighbors': 1, 'weights': 'distance', 'metric': 'manhattan'}. Best is trial 188 with value: 0.8908516710857413.\n"
     ]
    },
    {
     "name": "stdout",
     "output_type": "stream",
     "text": [
      "Trial 244 - Acc: 0.8875 - Params: {'orientations': 8, 'ppc_x': 8, 'ppc_y': 10, 'cpb_x': 4, 'cpb_y': 4, 'stride_x': 4, 'stride_y': 8, 'n_neighbors': 1, 'weights': 'distance', 'metric': 'manhattan'}\n"
     ]
    },
    {
     "name": "stderr",
     "output_type": "stream",
     "text": [
      "[I 2025-04-22 15:01:11,101] Trial 245 finished with value: 0.8874703190177831 and parameters: {'orientations': 8, 'ppc_x': 8, 'ppc_y': 10, 'cpb_x': 4, 'cpb_y': 4, 'stride_x': 4, 'stride_y': 8, 'n_neighbors': 1, 'weights': 'distance', 'metric': 'manhattan'}. Best is trial 188 with value: 0.8908516710857413.\n"
     ]
    },
    {
     "name": "stdout",
     "output_type": "stream",
     "text": [
      "Trial 245 - Acc: 0.8875 - Params: {'orientations': 8, 'ppc_x': 8, 'ppc_y': 10, 'cpb_x': 4, 'cpb_y': 4, 'stride_x': 4, 'stride_y': 8, 'n_neighbors': 1, 'weights': 'distance', 'metric': 'manhattan'}\n"
     ]
    },
    {
     "name": "stderr",
     "output_type": "stream",
     "text": [
      "[I 2025-04-22 15:01:34,754] Trial 246 finished with value: 0.8874703190177831 and parameters: {'orientations': 8, 'ppc_x': 8, 'ppc_y': 10, 'cpb_x': 4, 'cpb_y': 4, 'stride_x': 4, 'stride_y': 8, 'n_neighbors': 1, 'weights': 'distance', 'metric': 'manhattan'}. Best is trial 188 with value: 0.8908516710857413.\n"
     ]
    },
    {
     "name": "stdout",
     "output_type": "stream",
     "text": [
      "Trial 246 - Acc: 0.8875 - Params: {'orientations': 8, 'ppc_x': 8, 'ppc_y': 10, 'cpb_x': 4, 'cpb_y': 4, 'stride_x': 4, 'stride_y': 8, 'n_neighbors': 1, 'weights': 'distance', 'metric': 'manhattan'}\n"
     ]
    },
    {
     "name": "stderr",
     "output_type": "stream",
     "text": [
      "[I 2025-04-22 15:01:54,071] Trial 247 finished with value: 0.8872136186310439 and parameters: {'orientations': 8, 'ppc_x': 8, 'ppc_y': 10, 'cpb_x': 4, 'cpb_y': 4, 'stride_x': 8, 'stride_y': 8, 'n_neighbors': 1, 'weights': 'distance', 'metric': 'manhattan'}. Best is trial 188 with value: 0.8908516710857413.\n",
      "[I 2025-04-22 15:01:54,089] Trial 248 pruned. \n"
     ]
    },
    {
     "name": "stdout",
     "output_type": "stream",
     "text": [
      "Trial 247 - Acc: 0.8872 - Params: {'orientations': 8, 'ppc_x': 8, 'ppc_y': 10, 'cpb_x': 4, 'cpb_y': 4, 'stride_x': 8, 'stride_y': 8, 'n_neighbors': 1, 'weights': 'distance', 'metric': 'manhattan'}\n"
     ]
    },
    {
     "name": "stderr",
     "output_type": "stream",
     "text": [
      "[I 2025-04-22 15:02:09,778] Trial 249 pruned. \n",
      "[I 2025-04-22 15:02:33,362] Trial 250 finished with value: 0.8874703190177831 and parameters: {'orientations': 8, 'ppc_x': 8, 'ppc_y': 10, 'cpb_x': 4, 'cpb_y': 4, 'stride_x': 4, 'stride_y': 8, 'n_neighbors': 1, 'weights': 'distance', 'metric': 'manhattan'}. Best is trial 188 with value: 0.8908516710857413.\n"
     ]
    },
    {
     "name": "stdout",
     "output_type": "stream",
     "text": [
      "Trial 250 - Acc: 0.8875 - Params: {'orientations': 8, 'ppc_x': 8, 'ppc_y': 10, 'cpb_x': 4, 'cpb_y': 4, 'stride_x': 4, 'stride_y': 8, 'n_neighbors': 1, 'weights': 'distance', 'metric': 'manhattan'}\n"
     ]
    },
    {
     "name": "stderr",
     "output_type": "stream",
     "text": [
      "[I 2025-04-22 15:02:58,697] Trial 251 finished with value: 0.8853934102308614 and parameters: {'orientations': 8, 'ppc_x': 6, 'ppc_y': 10, 'cpb_x': 4, 'cpb_y': 4, 'stride_x': 4, 'stride_y': 8, 'n_neighbors': 1, 'weights': 'distance', 'metric': 'manhattan'}. Best is trial 188 with value: 0.8908516710857413.\n",
      "[I 2025-04-22 15:02:58,721] Trial 252 pruned. \n"
     ]
    },
    {
     "name": "stdout",
     "output_type": "stream",
     "text": [
      "Trial 251 - Acc: 0.8854 - Params: {'orientations': 8, 'ppc_x': 6, 'ppc_y': 10, 'cpb_x': 4, 'cpb_y': 4, 'stride_x': 4, 'stride_y': 8, 'n_neighbors': 1, 'weights': 'distance', 'metric': 'manhattan'}\n"
     ]
    },
    {
     "name": "stderr",
     "output_type": "stream",
     "text": [
      "[I 2025-04-22 15:03:23,937] Trial 253 finished with value: 0.8874703190177831 and parameters: {'orientations': 8, 'ppc_x': 8, 'ppc_y': 10, 'cpb_x': 4, 'cpb_y': 4, 'stride_x': 4, 'stride_y': 8, 'n_neighbors': 1, 'weights': 'distance', 'metric': 'manhattan'}. Best is trial 188 with value: 0.8908516710857413.\n"
     ]
    },
    {
     "name": "stdout",
     "output_type": "stream",
     "text": [
      "Trial 253 - Acc: 0.8875 - Params: {'orientations': 8, 'ppc_x': 8, 'ppc_y': 10, 'cpb_x': 4, 'cpb_y': 4, 'stride_x': 4, 'stride_y': 8, 'n_neighbors': 1, 'weights': 'distance', 'metric': 'manhattan'}\n"
     ]
    },
    {
     "name": "stderr",
     "output_type": "stream",
     "text": [
      "[I 2025-04-22 15:03:47,071] Trial 254 finished with value: 0.8874703190177831 and parameters: {'orientations': 8, 'ppc_x': 8, 'ppc_y': 10, 'cpb_x': 4, 'cpb_y': 4, 'stride_x': 4, 'stride_y': 8, 'n_neighbors': 1, 'weights': 'distance', 'metric': 'manhattan'}. Best is trial 188 with value: 0.8908516710857413.\n"
     ]
    },
    {
     "name": "stdout",
     "output_type": "stream",
     "text": [
      "Trial 254 - Acc: 0.8875 - Params: {'orientations': 8, 'ppc_x': 8, 'ppc_y': 10, 'cpb_x': 4, 'cpb_y': 4, 'stride_x': 4, 'stride_y': 8, 'n_neighbors': 1, 'weights': 'distance', 'metric': 'manhattan'}\n"
     ]
    },
    {
     "name": "stderr",
     "output_type": "stream",
     "text": [
      "[I 2025-04-22 15:04:10,121] Trial 255 finished with value: 0.8874703190177831 and parameters: {'orientations': 8, 'ppc_x': 8, 'ppc_y': 10, 'cpb_x': 4, 'cpb_y': 4, 'stride_x': 4, 'stride_y': 8, 'n_neighbors': 1, 'weights': 'distance', 'metric': 'manhattan'}. Best is trial 188 with value: 0.8908516710857413.\n",
      "[I 2025-04-22 15:04:10,144] Trial 256 pruned. \n"
     ]
    },
    {
     "name": "stdout",
     "output_type": "stream",
     "text": [
      "Trial 255 - Acc: 0.8875 - Params: {'orientations': 8, 'ppc_x': 8, 'ppc_y': 10, 'cpb_x': 4, 'cpb_y': 4, 'stride_x': 4, 'stride_y': 8, 'n_neighbors': 1, 'weights': 'distance', 'metric': 'manhattan'}\n"
     ]
    },
    {
     "name": "stderr",
     "output_type": "stream",
     "text": [
      "[I 2025-04-22 15:04:33,752] Trial 257 finished with value: 0.8874703190177831 and parameters: {'orientations': 8, 'ppc_x': 8, 'ppc_y': 10, 'cpb_x': 4, 'cpb_y': 4, 'stride_x': 4, 'stride_y': 8, 'n_neighbors': 1, 'weights': 'distance', 'metric': 'manhattan'}. Best is trial 188 with value: 0.8908516710857413.\n"
     ]
    },
    {
     "name": "stdout",
     "output_type": "stream",
     "text": [
      "Trial 257 - Acc: 0.8875 - Params: {'orientations': 8, 'ppc_x': 8, 'ppc_y': 10, 'cpb_x': 4, 'cpb_y': 4, 'stride_x': 4, 'stride_y': 8, 'n_neighbors': 1, 'weights': 'distance', 'metric': 'manhattan'}\n"
     ]
    },
    {
     "name": "stderr",
     "output_type": "stream",
     "text": [
      "[I 2025-04-22 15:04:53,211] Trial 258 pruned. \n",
      "[I 2025-04-22 15:05:11,173] Trial 259 pruned. \n",
      "[I 2025-04-22 15:05:35,488] Trial 260 finished with value: 0.8874703190177831 and parameters: {'orientations': 8, 'ppc_x': 8, 'ppc_y': 10, 'cpb_x': 4, 'cpb_y': 4, 'stride_x': 4, 'stride_y': 8, 'n_neighbors': 1, 'weights': 'distance', 'metric': 'manhattan'}. Best is trial 188 with value: 0.8908516710857413.\n"
     ]
    },
    {
     "name": "stdout",
     "output_type": "stream",
     "text": [
      "Trial 260 - Acc: 0.8875 - Params: {'orientations': 8, 'ppc_x': 8, 'ppc_y': 10, 'cpb_x': 4, 'cpb_y': 4, 'stride_x': 4, 'stride_y': 8, 'n_neighbors': 1, 'weights': 'distance', 'metric': 'manhattan'}\n"
     ]
    },
    {
     "name": "stderr",
     "output_type": "stream",
     "text": [
      "[I 2025-04-22 15:06:01,816] Trial 261 finished with value: 0.8874703190177831 and parameters: {'orientations': 8, 'ppc_x': 8, 'ppc_y': 10, 'cpb_x': 4, 'cpb_y': 4, 'stride_x': 4, 'stride_y': 8, 'n_neighbors': 1, 'weights': 'distance', 'metric': 'manhattan'}. Best is trial 188 with value: 0.8908516710857413.\n"
     ]
    },
    {
     "name": "stdout",
     "output_type": "stream",
     "text": [
      "Trial 261 - Acc: 0.8875 - Params: {'orientations': 8, 'ppc_x': 8, 'ppc_y': 10, 'cpb_x': 4, 'cpb_y': 4, 'stride_x': 4, 'stride_y': 8, 'n_neighbors': 1, 'weights': 'distance', 'metric': 'manhattan'}\n"
     ]
    },
    {
     "name": "stderr",
     "output_type": "stream",
     "text": [
      "[I 2025-04-22 15:06:22,748] Trial 262 pruned. \n",
      "[I 2025-04-22 15:06:37,488] Trial 263 pruned. \n",
      "[I 2025-04-22 15:07:01,395] Trial 264 finished with value: 0.8874703190177831 and parameters: {'orientations': 8, 'ppc_x': 8, 'ppc_y': 10, 'cpb_x': 4, 'cpb_y': 4, 'stride_x': 4, 'stride_y': 8, 'n_neighbors': 1, 'weights': 'distance', 'metric': 'manhattan'}. Best is trial 188 with value: 0.8908516710857413.\n",
      "[I 2025-04-22 15:07:01,421] Trial 265 pruned. \n"
     ]
    },
    {
     "name": "stdout",
     "output_type": "stream",
     "text": [
      "Trial 264 - Acc: 0.8875 - Params: {'orientations': 8, 'ppc_x': 8, 'ppc_y': 10, 'cpb_x': 4, 'cpb_y': 4, 'stride_x': 4, 'stride_y': 8, 'n_neighbors': 1, 'weights': 'distance', 'metric': 'manhattan'}\n"
     ]
    },
    {
     "name": "stderr",
     "output_type": "stream",
     "text": [
      "[I 2025-04-22 15:07:24,872] Trial 266 finished with value: 0.8874703190177831 and parameters: {'orientations': 8, 'ppc_x': 8, 'ppc_y': 10, 'cpb_x': 4, 'cpb_y': 4, 'stride_x': 4, 'stride_y': 8, 'n_neighbors': 2, 'weights': 'distance', 'metric': 'manhattan'}. Best is trial 188 with value: 0.8908516710857413.\n"
     ]
    },
    {
     "name": "stdout",
     "output_type": "stream",
     "text": [
      "Trial 266 - Acc: 0.8875 - Params: {'orientations': 8, 'ppc_x': 8, 'ppc_y': 10, 'cpb_x': 4, 'cpb_y': 4, 'stride_x': 4, 'stride_y': 8, 'n_neighbors': 2, 'weights': 'distance', 'metric': 'manhattan'}\n"
     ]
    },
    {
     "name": "stderr",
     "output_type": "stream",
     "text": [
      "[I 2025-04-22 15:07:42,285] Trial 267 pruned. \n",
      "[I 2025-04-22 15:08:02,853] Trial 268 finished with value: 0.8872136186310439 and parameters: {'orientations': 8, 'ppc_x': 8, 'ppc_y': 10, 'cpb_x': 4, 'cpb_y': 4, 'stride_x': 8, 'stride_y': 8, 'n_neighbors': 1, 'weights': 'distance', 'metric': 'manhattan'}. Best is trial 188 with value: 0.8908516710857413.\n"
     ]
    },
    {
     "name": "stdout",
     "output_type": "stream",
     "text": [
      "Trial 268 - Acc: 0.8872 - Params: {'orientations': 8, 'ppc_x': 8, 'ppc_y': 10, 'cpb_x': 4, 'cpb_y': 4, 'stride_x': 8, 'stride_y': 8, 'n_neighbors': 1, 'weights': 'distance', 'metric': 'manhattan'}\n"
     ]
    },
    {
     "name": "stderr",
     "output_type": "stream",
     "text": [
      "[I 2025-04-22 15:08:20,879] Trial 269 pruned. \n",
      "[I 2025-04-22 15:08:39,611] Trial 270 pruned. \n",
      "[I 2025-04-22 15:09:06,547] Trial 271 finished with value: 0.8874703190177831 and parameters: {'orientations': 8, 'ppc_x': 8, 'ppc_y': 10, 'cpb_x': 4, 'cpb_y': 4, 'stride_x': 4, 'stride_y': 8, 'n_neighbors': 2, 'weights': 'distance', 'metric': 'manhattan'}. Best is trial 188 with value: 0.8908516710857413.\n"
     ]
    },
    {
     "name": "stdout",
     "output_type": "stream",
     "text": [
      "Trial 271 - Acc: 0.8875 - Params: {'orientations': 8, 'ppc_x': 8, 'ppc_y': 10, 'cpb_x': 4, 'cpb_y': 4, 'stride_x': 4, 'stride_y': 8, 'n_neighbors': 2, 'weights': 'distance', 'metric': 'manhattan'}\n"
     ]
    },
    {
     "name": "stderr",
     "output_type": "stream",
     "text": [
      "[I 2025-04-22 15:09:36,253] Trial 272 finished with value: 0.8874703190177831 and parameters: {'orientations': 8, 'ppc_x': 8, 'ppc_y': 10, 'cpb_x': 4, 'cpb_y': 4, 'stride_x': 4, 'stride_y': 8, 'n_neighbors': 1, 'weights': 'distance', 'metric': 'manhattan'}. Best is trial 188 with value: 0.8908516710857413.\n",
      "[I 2025-04-22 15:09:36,276] Trial 273 pruned. \n"
     ]
    },
    {
     "name": "stdout",
     "output_type": "stream",
     "text": [
      "Trial 272 - Acc: 0.8875 - Params: {'orientations': 8, 'ppc_x': 8, 'ppc_y': 10, 'cpb_x': 4, 'cpb_y': 4, 'stride_x': 4, 'stride_y': 8, 'n_neighbors': 1, 'weights': 'distance', 'metric': 'manhattan'}\n"
     ]
    },
    {
     "name": "stderr",
     "output_type": "stream",
     "text": [
      "[I 2025-04-22 15:09:54,827] Trial 274 pruned. \n",
      "[I 2025-04-22 15:10:23,901] Trial 275 finished with value: 0.8874703190177831 and parameters: {'orientations': 8, 'ppc_x': 8, 'ppc_y': 10, 'cpb_x': 4, 'cpb_y': 4, 'stride_x': 4, 'stride_y': 8, 'n_neighbors': 1, 'weights': 'distance', 'metric': 'manhattan'}. Best is trial 188 with value: 0.8908516710857413.\n"
     ]
    },
    {
     "name": "stdout",
     "output_type": "stream",
     "text": [
      "Trial 275 - Acc: 0.8875 - Params: {'orientations': 8, 'ppc_x': 8, 'ppc_y': 10, 'cpb_x': 4, 'cpb_y': 4, 'stride_x': 4, 'stride_y': 8, 'n_neighbors': 1, 'weights': 'distance', 'metric': 'manhattan'}\n"
     ]
    },
    {
     "name": "stderr",
     "output_type": "stream",
     "text": [
      "[I 2025-04-22 15:10:55,763] Trial 276 finished with value: 0.8874703190177831 and parameters: {'orientations': 8, 'ppc_x': 8, 'ppc_y': 10, 'cpb_x': 4, 'cpb_y': 4, 'stride_x': 4, 'stride_y': 8, 'n_neighbors': 2, 'weights': 'distance', 'metric': 'manhattan'}. Best is trial 188 with value: 0.8908516710857413.\n"
     ]
    },
    {
     "name": "stdout",
     "output_type": "stream",
     "text": [
      "Trial 276 - Acc: 0.8875 - Params: {'orientations': 8, 'ppc_x': 8, 'ppc_y': 10, 'cpb_x': 4, 'cpb_y': 4, 'stride_x': 4, 'stride_y': 8, 'n_neighbors': 2, 'weights': 'distance', 'metric': 'manhattan'}\n"
     ]
    },
    {
     "name": "stderr",
     "output_type": "stream",
     "text": [
      "[I 2025-04-22 15:11:22,527] Trial 277 finished with value: 0.8874703190177831 and parameters: {'orientations': 8, 'ppc_x': 8, 'ppc_y': 10, 'cpb_x': 4, 'cpb_y': 4, 'stride_x': 4, 'stride_y': 8, 'n_neighbors': 1, 'weights': 'distance', 'metric': 'manhattan'}. Best is trial 188 with value: 0.8908516710857413.\n",
      "[I 2025-04-22 15:11:22,552] Trial 278 pruned. \n"
     ]
    },
    {
     "name": "stdout",
     "output_type": "stream",
     "text": [
      "Trial 277 - Acc: 0.8875 - Params: {'orientations': 8, 'ppc_x': 8, 'ppc_y': 10, 'cpb_x': 4, 'cpb_y': 4, 'stride_x': 4, 'stride_y': 8, 'n_neighbors': 1, 'weights': 'distance', 'metric': 'manhattan'}\n"
     ]
    },
    {
     "name": "stderr",
     "output_type": "stream",
     "text": [
      "[I 2025-04-22 15:11:40,297] Trial 279 pruned. \n",
      "[I 2025-04-22 15:11:54,816] Trial 280 pruned. \n",
      "[I 2025-04-22 15:12:15,344] Trial 281 finished with value: 0.8874703190177831 and parameters: {'orientations': 8, 'ppc_x': 8, 'ppc_y': 10, 'cpb_x': 4, 'cpb_y': 4, 'stride_x': 4, 'stride_y': 8, 'n_neighbors': 1, 'weights': 'distance', 'metric': 'manhattan'}. Best is trial 188 with value: 0.8908516710857413.\n"
     ]
    },
    {
     "name": "stdout",
     "output_type": "stream",
     "text": [
      "Trial 281 - Acc: 0.8875 - Params: {'orientations': 8, 'ppc_x': 8, 'ppc_y': 10, 'cpb_x': 4, 'cpb_y': 4, 'stride_x': 4, 'stride_y': 8, 'n_neighbors': 1, 'weights': 'distance', 'metric': 'manhattan'}\n"
     ]
    },
    {
     "name": "stderr",
     "output_type": "stream",
     "text": [
      "[I 2025-04-22 15:12:37,778] Trial 282 finished with value: 0.8874703190177831 and parameters: {'orientations': 8, 'ppc_x': 8, 'ppc_y': 10, 'cpb_x': 4, 'cpb_y': 4, 'stride_x': 4, 'stride_y': 8, 'n_neighbors': 2, 'weights': 'distance', 'metric': 'manhattan'}. Best is trial 188 with value: 0.8908516710857413.\n"
     ]
    },
    {
     "name": "stdout",
     "output_type": "stream",
     "text": [
      "Trial 282 - Acc: 0.8875 - Params: {'orientations': 8, 'ppc_x': 8, 'ppc_y': 10, 'cpb_x': 4, 'cpb_y': 4, 'stride_x': 4, 'stride_y': 8, 'n_neighbors': 2, 'weights': 'distance', 'metric': 'manhattan'}\n"
     ]
    },
    {
     "name": "stderr",
     "output_type": "stream",
     "text": [
      "[I 2025-04-22 15:12:53,192] Trial 283 pruned. \n",
      "[I 2025-04-22 15:13:15,332] Trial 284 finished with value: 0.8874703190177831 and parameters: {'orientations': 8, 'ppc_x': 8, 'ppc_y': 10, 'cpb_x': 4, 'cpb_y': 4, 'stride_x': 4, 'stride_y': 8, 'n_neighbors': 1, 'weights': 'distance', 'metric': 'manhattan'}. Best is trial 188 with value: 0.8908516710857413.\n"
     ]
    },
    {
     "name": "stdout",
     "output_type": "stream",
     "text": [
      "Trial 284 - Acc: 0.8875 - Params: {'orientations': 8, 'ppc_x': 8, 'ppc_y': 10, 'cpb_x': 4, 'cpb_y': 4, 'stride_x': 4, 'stride_y': 8, 'n_neighbors': 1, 'weights': 'distance', 'metric': 'manhattan'}\n"
     ]
    },
    {
     "name": "stderr",
     "output_type": "stream",
     "text": [
      "[I 2025-04-22 15:13:36,265] Trial 285 finished with value: 0.8874703190177831 and parameters: {'orientations': 8, 'ppc_x': 8, 'ppc_y': 10, 'cpb_x': 4, 'cpb_y': 4, 'stride_x': 4, 'stride_y': 8, 'n_neighbors': 1, 'weights': 'distance', 'metric': 'manhattan'}. Best is trial 188 with value: 0.8908516710857413.\n"
     ]
    },
    {
     "name": "stdout",
     "output_type": "stream",
     "text": [
      "Trial 285 - Acc: 0.8875 - Params: {'orientations': 8, 'ppc_x': 8, 'ppc_y': 10, 'cpb_x': 4, 'cpb_y': 4, 'stride_x': 4, 'stride_y': 8, 'n_neighbors': 1, 'weights': 'distance', 'metric': 'manhattan'}\n"
     ]
    },
    {
     "name": "stderr",
     "output_type": "stream",
     "text": [
      "[I 2025-04-22 15:13:57,684] Trial 286 finished with value: 0.8874703190177831 and parameters: {'orientations': 8, 'ppc_x': 8, 'ppc_y': 10, 'cpb_x': 4, 'cpb_y': 4, 'stride_x': 4, 'stride_y': 8, 'n_neighbors': 1, 'weights': 'distance', 'metric': 'manhattan'}. Best is trial 188 with value: 0.8908516710857413.\n"
     ]
    },
    {
     "name": "stdout",
     "output_type": "stream",
     "text": [
      "Trial 286 - Acc: 0.8875 - Params: {'orientations': 8, 'ppc_x': 8, 'ppc_y': 10, 'cpb_x': 4, 'cpb_y': 4, 'stride_x': 4, 'stride_y': 8, 'n_neighbors': 1, 'weights': 'distance', 'metric': 'manhattan'}\n"
     ]
    },
    {
     "name": "stderr",
     "output_type": "stream",
     "text": [
      "[I 2025-04-22 15:14:11,106] Trial 287 pruned. \n",
      "[I 2025-04-22 15:14:31,568] Trial 288 finished with value: 0.8874703190177831 and parameters: {'orientations': 8, 'ppc_x': 8, 'ppc_y': 10, 'cpb_x': 4, 'cpb_y': 4, 'stride_x': 4, 'stride_y': 8, 'n_neighbors': 1, 'weights': 'distance', 'metric': 'manhattan'}. Best is trial 188 with value: 0.8908516710857413.\n"
     ]
    },
    {
     "name": "stdout",
     "output_type": "stream",
     "text": [
      "Trial 288 - Acc: 0.8875 - Params: {'orientations': 8, 'ppc_x': 8, 'ppc_y': 10, 'cpb_x': 4, 'cpb_y': 4, 'stride_x': 4, 'stride_y': 8, 'n_neighbors': 1, 'weights': 'distance', 'metric': 'manhattan'}\n"
     ]
    },
    {
     "name": "stderr",
     "output_type": "stream",
     "text": [
      "[I 2025-04-22 15:14:52,648] Trial 289 finished with value: 0.8874703190177831 and parameters: {'orientations': 8, 'ppc_x': 8, 'ppc_y': 10, 'cpb_x': 4, 'cpb_y': 4, 'stride_x': 4, 'stride_y': 8, 'n_neighbors': 2, 'weights': 'distance', 'metric': 'manhattan'}. Best is trial 188 with value: 0.8908516710857413.\n"
     ]
    },
    {
     "name": "stdout",
     "output_type": "stream",
     "text": [
      "Trial 289 - Acc: 0.8875 - Params: {'orientations': 8, 'ppc_x': 8, 'ppc_y': 10, 'cpb_x': 4, 'cpb_y': 4, 'stride_x': 4, 'stride_y': 8, 'n_neighbors': 2, 'weights': 'distance', 'metric': 'manhattan'}\n"
     ]
    },
    {
     "name": "stderr",
     "output_type": "stream",
     "text": [
      "[I 2025-04-22 15:15:14,698] Trial 290 finished with value: 0.8874703190177831 and parameters: {'orientations': 8, 'ppc_x': 8, 'ppc_y': 10, 'cpb_x': 4, 'cpb_y': 4, 'stride_x': 4, 'stride_y': 8, 'n_neighbors': 1, 'weights': 'distance', 'metric': 'manhattan'}. Best is trial 188 with value: 0.8908516710857413.\n",
      "[I 2025-04-22 15:15:14,717] Trial 291 pruned. \n"
     ]
    },
    {
     "name": "stdout",
     "output_type": "stream",
     "text": [
      "Trial 290 - Acc: 0.8875 - Params: {'orientations': 8, 'ppc_x': 8, 'ppc_y': 10, 'cpb_x': 4, 'cpb_y': 4, 'stride_x': 4, 'stride_y': 8, 'n_neighbors': 1, 'weights': 'distance', 'metric': 'manhattan'}\n"
     ]
    },
    {
     "name": "stderr",
     "output_type": "stream",
     "text": [
      "[I 2025-04-22 15:15:27,964] Trial 292 pruned. \n",
      "[I 2025-04-22 15:15:49,685] Trial 293 finished with value: 0.8874703190177831 and parameters: {'orientations': 8, 'ppc_x': 8, 'ppc_y': 10, 'cpb_x': 4, 'cpb_y': 4, 'stride_x': 4, 'stride_y': 8, 'n_neighbors': 1, 'weights': 'distance', 'metric': 'manhattan'}. Best is trial 188 with value: 0.8908516710857413.\n"
     ]
    },
    {
     "name": "stdout",
     "output_type": "stream",
     "text": [
      "Trial 293 - Acc: 0.8875 - Params: {'orientations': 8, 'ppc_x': 8, 'ppc_y': 10, 'cpb_x': 4, 'cpb_y': 4, 'stride_x': 4, 'stride_y': 8, 'n_neighbors': 1, 'weights': 'distance', 'metric': 'manhattan'}\n"
     ]
    },
    {
     "name": "stderr",
     "output_type": "stream",
     "text": [
      "[I 2025-04-22 15:16:13,746] Trial 294 finished with value: 0.8874703190177831 and parameters: {'orientations': 8, 'ppc_x': 8, 'ppc_y': 10, 'cpb_x': 4, 'cpb_y': 4, 'stride_x': 4, 'stride_y': 8, 'n_neighbors': 1, 'weights': 'uniform', 'metric': 'manhattan'}. Best is trial 188 with value: 0.8908516710857413.\n"
     ]
    },
    {
     "name": "stdout",
     "output_type": "stream",
     "text": [
      "Trial 294 - Acc: 0.8875 - Params: {'orientations': 8, 'ppc_x': 8, 'ppc_y': 10, 'cpb_x': 4, 'cpb_y': 4, 'stride_x': 4, 'stride_y': 8, 'n_neighbors': 1, 'weights': 'uniform', 'metric': 'manhattan'}\n"
     ]
    },
    {
     "name": "stderr",
     "output_type": "stream",
     "text": [
      "[I 2025-04-22 15:16:34,373] Trial 295 finished with value: 0.8874703190177831 and parameters: {'orientations': 8, 'ppc_x': 8, 'ppc_y': 10, 'cpb_x': 4, 'cpb_y': 4, 'stride_x': 4, 'stride_y': 8, 'n_neighbors': 2, 'weights': 'distance', 'metric': 'manhattan'}. Best is trial 188 with value: 0.8908516710857413.\n",
      "[I 2025-04-22 15:16:34,399] Trial 296 pruned. \n",
      "[I 2025-04-22 15:16:34,414] Trial 297 pruned. \n"
     ]
    },
    {
     "name": "stdout",
     "output_type": "stream",
     "text": [
      "Trial 295 - Acc: 0.8875 - Params: {'orientations': 8, 'ppc_x': 8, 'ppc_y': 10, 'cpb_x': 4, 'cpb_y': 4, 'stride_x': 4, 'stride_y': 8, 'n_neighbors': 2, 'weights': 'distance', 'metric': 'manhattan'}\n"
     ]
    },
    {
     "name": "stderr",
     "output_type": "stream",
     "text": [
      "[I 2025-04-22 15:16:53,766] Trial 298 pruned. \n",
      "[I 2025-04-22 15:17:15,011] Trial 299 finished with value: 0.8874703190177831 and parameters: {'orientations': 8, 'ppc_x': 8, 'ppc_y': 10, 'cpb_x': 4, 'cpb_y': 4, 'stride_x': 4, 'stride_y': 8, 'n_neighbors': 1, 'weights': 'distance', 'metric': 'manhattan'}. Best is trial 188 with value: 0.8908516710857413.\n"
     ]
    },
    {
     "name": "stdout",
     "output_type": "stream",
     "text": [
      "Trial 299 - Acc: 0.8875 - Params: {'orientations': 8, 'ppc_x': 8, 'ppc_y': 10, 'cpb_x': 4, 'cpb_y': 4, 'stride_x': 4, 'stride_y': 8, 'n_neighbors': 1, 'weights': 'distance', 'metric': 'manhattan'}\n",
      "\n",
      "Best Parameters: {'orientations': 6, 'ppc_x': 8, 'ppc_y': 10, 'cpb_x': 4, 'cpb_y': 4, 'stride_x': 4, 'stride_y': 8, 'n_neighbors': 2, 'weights': 'distance', 'metric': 'manhattan'}\n",
      "Validation Accuracy: 0.8908523908523909\n",
      "               precision    recall  f1-score   support\n",
      "\n",
      "      No Mask       0.85      0.89      0.87      1128\n",
      "         Mask       0.94      0.88      0.91      1940\n",
      "Improper Mask       0.84      0.92      0.88       780\n",
      "\n",
      "     accuracy                           0.89      3848\n",
      "    macro avg       0.88      0.90      0.89      3848\n",
      " weighted avg       0.89      0.89      0.89      3848\n",
      "\n",
      "Test Accuracy: 0.8362445414847162\n",
      "               precision    recall  f1-score   support\n",
      "\n",
      "      No Mask       0.53      0.69      0.60        51\n",
      "         Mask       0.95      0.87      0.91       388\n",
      "Improper Mask       0.31      0.63      0.41        19\n",
      "\n",
      "     accuracy                           0.84       458\n",
      "    macro avg       0.60      0.73      0.64       458\n",
      " weighted avg       0.88      0.84      0.85       458\n",
      "\n"
     ]
    },
    {
     "data": {
      "image/png": "[encoded data removed]",
      "text/plain": [
       "<Figure size 600x500 with 2 Axes>"
      ]
     },
     "metadata": {},
     "output_type": "display_data"
    }
   ],
   "source": [
    "# KNN + HOG Final Pipeline with Load & Evaluation Capability\n",
    "import os, json, joblib, optuna, cv2, random\n",
    "import numpy as np\n",
    "from pathlib import Path\n",
    "import matplotlib.pyplot as plt\n",
    "import seaborn as sns\n",
    "\n",
    "from sklearn.neighbors import KNeighborsClassifier\n",
    "from sklearn.preprocessing import StandardScaler\n",
    "from sklearn.metrics import accuracy_score, classification_report, confusion_matrix\n",
    "\n",
    "from optuna.samplers import TPESampler\n",
    "from optuna.pruners import MedianPruner\n",
    "\n",
    "np.random.seed(42)\n",
    "random.seed(42)\n",
    "\n",
    "# Setup paths\n",
    "projectRoot = Path().resolve().parent\n",
    "outputRoot = projectRoot / \"ModifiedDataset\"\n",
    "\n",
    "trainImagePath = outputRoot / \"train\" / \"images\"\n",
    "trainLabelPath = outputRoot / \"train\" / \"labels\"\n",
    "augImagePath = outputRoot / \"AugmentedData\" / \"images\"\n",
    "augLabelPath = outputRoot / \"AugmentedData\" / \"labels\"\n",
    "testImagePath = outputRoot / \"test\" / \"images\"\n",
    "testLabelPath = outputRoot / \"test\" / \"labels\"\n",
    "\n",
    "with open(outputRoot / \"kfold_splits.json\", \"r\") as f:\n",
    "    kfold_splits = json.load(f)\n",
    "\n",
    "def load_dataset(image_dir, label_dir):\n",
    "    paths, labels = [], []\n",
    "    for fname in sorted(os.listdir(image_dir)):\n",
    "        if fname.endswith('.jpeg'):\n",
    "            paths.append(str(image_dir / fname))\n",
    "            with open(label_dir / fname.replace('.jpeg', '.txt')) as f:\n",
    "                labels.append(int(f.read().strip()))\n",
    "    return paths, np.array(labels)\n",
    "\n",
    "train_paths, train_labels = load_dataset(trainImagePath, trainLabelPath)\n",
    "aug_paths, aug_labels = load_dataset(augImagePath, augLabelPath)\n",
    "test_paths, test_labels = load_dataset(testImagePath, testLabelPath)\n",
    "\n",
    "all_paths = train_paths + aug_paths\n",
    "all_labels = np.concatenate([train_labels, aug_labels])\n",
    "\n",
    "# HOG Extraction\n",
    "def extract_hog_features(paths, orientations, ppc, cpb, stride):\n",
    "    block_width = ppc[0] * cpb[0]\n",
    "    block_height = ppc[1] * cpb[1]\n",
    "    if block_width > 64 or block_height > 64 or stride[0] > ppc[0] or stride[1] > ppc[1]:\n",
    "        raise optuna.exceptions.TrialPruned()\n",
    "\n",
    "    hog = cv2.HOGDescriptor(\n",
    "        _winSize=(64, 64),\n",
    "        _blockSize=(block_width, block_height),\n",
    "        _blockStride=stride,\n",
    "        _cellSize=ppc,\n",
    "        _nbins=orientations\n",
    "    )\n",
    "    features = []\n",
    "    for path in paths:\n",
    "        img = cv2.imread(path, cv2.IMREAD_GRAYSCALE)\n",
    "        img = cv2.resize(img, (64, 64))\n",
    "        features.append(hog.compute(img).flatten())\n",
    "    return np.array(features)\n",
    "\n",
    "# Optuna Objective\n",
    "def objective(trial):\n",
    "    orientations = trial.suggest_categorical(\"orientations\", [6, 8, 9, 10, 12])\n",
    "    ppc = (trial.suggest_categorical(\"ppc_x\", [4, 6, 8, 10]), trial.suggest_categorical(\"ppc_y\", [4, 6, 8, 10]))\n",
    "    cpb = (trial.suggest_categorical(\"cpb_x\", [2, 3, 4]), trial.suggest_categorical(\"cpb_y\", [2, 3, 4]))\n",
    "    stride = (trial.suggest_categorical(\"stride_x\", [4, 6, 8]), trial.suggest_categorical(\"stride_y\", [4, 6, 8]))\n",
    "    n_neighbors = trial.suggest_int(\"n_neighbors\", 1, 15)\n",
    "    weights = trial.suggest_categorical(\"weights\", [\"uniform\", \"distance\"])\n",
    "    metric = trial.suggest_categorical(\"metric\", [\"euclidean\", \"manhattan\", \"chebyshev\", \"minkowski\"])\n",
    "\n",
    "    try:\n",
    "        features = extract_hog_features(all_paths, orientations, ppc, cpb, stride)\n",
    "    except:\n",
    "        raise optuna.exceptions.TrialPruned()\n",
    "\n",
    "    scaler = StandardScaler()\n",
    "    features = scaler.fit_transform(features)\n",
    "\n",
    "    fold_accs = []\n",
    "    for fold in kfold_splits:\n",
    "        train_idx = kfold_splits[fold]['train']\n",
    "        val_idx = kfold_splits[fold]['val']\n",
    "\n",
    "        X_train, y_train = features[train_idx], all_labels[train_idx]\n",
    "        X_val, y_val = features[val_idx], all_labels[val_idx]\n",
    "\n",
    "        model = KNeighborsClassifier(n_neighbors=n_neighbors, weights=weights, metric=metric)\n",
    "        model.fit(X_train, y_train)\n",
    "        acc = accuracy_score(y_val, model.predict(X_val))\n",
    "        fold_accs.append(acc)\n",
    "\n",
    "        trial.report(acc, step=int(fold))\n",
    "        if trial.should_prune():\n",
    "            raise optuna.exceptions.TrialPruned()\n",
    "\n",
    "    mean_acc = np.mean(fold_accs)\n",
    "    print(f\"Trial {trial.number} - Acc: {mean_acc:.4f} - Params: {trial.params}\")\n",
    "    return mean_acc\n",
    "\n",
    "# Run Optuna\n",
    "study = optuna.create_study(direction=\"maximize\", sampler=TPESampler(seed=42), pruner=MedianPruner())\n",
    "study.optimize(objective, n_trials=300)\n",
    "\n",
    "best_params = study.best_params\n",
    "print(\"\\nBest Parameters:\", best_params)\n",
    "\n",
    "# Final HOG extraction and scaling\n",
    "ppc = (best_params[\"ppc_x\"], best_params[\"ppc_y\"])\n",
    "cpb = (best_params[\"cpb_x\"], best_params[\"cpb_y\"])\n",
    "stride = (best_params[\"stride_x\"], best_params[\"stride_y\"])\n",
    "orientations = best_params[\"orientations\"]\n",
    "\n",
    "hog_train = extract_hog_features(all_paths, orientations, ppc, cpb, stride)\n",
    "hog_test = extract_hog_features(test_paths, orientations, ppc, cpb, stride)\n",
    "\n",
    "scaler = StandardScaler()\n",
    "hog_train = scaler.fit_transform(hog_train)\n",
    "hog_test = scaler.transform(hog_test)\n",
    "\n",
    "# Save artifacts\n",
    "model_dir = projectRoot / \"models\"\n",
    "model_dir.mkdir(exist_ok=True)\n",
    "joblib.dump(best_params, model_dir / \"knn_hog_best_params.joblib\")\n",
    "joblib.dump(scaler, model_dir / \"knn_hog_scaler.joblib\")\n",
    "np.save(model_dir / \"knn_hog_train_features.npy\", hog_train)\n",
    "np.save(model_dir / \"knn_hog_test_features.npy\", hog_test)\n",
    "\n",
    "# Validation Evaluation\n",
    "val_preds, val_targets = [], []\n",
    "\n",
    "for fold in kfold_splits:\n",
    "    train_idx = kfold_splits[fold]['train']\n",
    "    val_idx = kfold_splits[fold]['val']\n",
    "\n",
    "    X_train, y_train = hog_train[train_idx], all_labels[train_idx]\n",
    "    X_val, y_val = hog_train[val_idx], all_labels[val_idx]\n",
    "\n",
    "    model = KNeighborsClassifier(\n",
    "        n_neighbors=best_params['n_neighbors'],\n",
    "        weights=best_params['weights'],\n",
    "        metric=best_params['metric']\n",
    "    )\n",
    "    model.fit(X_train, y_train)\n",
    "    val_preds.extend(model.predict(X_val))\n",
    "    val_targets.extend(y_val)\n",
    "\n",
    "val_acc = accuracy_score(val_targets, val_preds)\n",
    "print(\"Validation Accuracy:\", val_acc)\n",
    "print(classification_report(val_targets, val_preds, target_names=[\"No Mask\", \"Mask\", \"Improper Mask\"]))\n",
    "\n",
    "# Final Test Evaluation\n",
    "final_model = KNeighborsClassifier(\n",
    "    n_neighbors=best_params['n_neighbors'],\n",
    "    weights=best_params['weights'],\n",
    "    metric=best_params['metric']\n",
    ")\n",
    "final_model.fit(hog_train, all_labels)\n",
    "test_preds = final_model.predict(hog_test)\n",
    "\n",
    "test_acc = accuracy_score(test_labels, test_preds)\n",
    "print(\"Test Accuracy:\", test_acc)\n",
    "print(classification_report(test_labels, test_preds, target_names=[\"No Mask\", \"Mask\", \"Improper Mask\"]))\n",
    "\n",
    "cm = confusion_matrix(test_labels, test_preds)\n",
    "plt.figure(figsize=(6, 5))\n",
    "sns.heatmap(cm, annot=True, fmt=\"d\", cmap=\"Blues\",\n",
    "            xticklabels=[\"No Mask\", \"Mask\", \"Improper Mask\"],\n",
    "            yticklabels=[\"No Mask\", \"Mask\", \"Improper Mask\"])\n",
    "plt.title(\"KNN + HOG - Test Confusion Matrix\")\n",
    "plt.xlabel(\"Predicted\")\n",
    "plt.ylabel(\"True\")\n",
    "plt.tight_layout()\n",
    "plt.show()\n",
    "\n",
    "\n"
   ]
  },
  {
   "cell_type": "code",
   "execution_count": null,
   "id": "e6250553-bcbd-4b51-b3a1-cc5247ac6548",
   "metadata": {},
   "outputs": [],
   "source": []
  },
  {
   "cell_type": "code",
   "execution_count": null,
   "id": "64d15ab8-2875-4307-9004-f4de9f9c2217",
   "metadata": {},
   "outputs": [],
   "source": []
  },
  {
   "cell_type": "code",
   "execution_count": null,
   "id": "7f6e6f71-36f6-4b39-83d4-909d40499532",
   "metadata": {},
   "outputs": [],
   "source": []
  },
  {
   "cell_type": "code",
   "execution_count": null,
   "id": "17c1096d-7f46-4815-b5a3-a1f18ccca7ff",
   "metadata": {},
   "outputs": [],
   "source": []
  },
  {
   "cell_type": "code",
   "execution_count": null,
   "id": "ad5cf702-d281-4a34-8256-bb1bbc5b800a",
   "metadata": {},
   "outputs": [],
   "source": []
  },
  {
   "cell_type": "code",
   "execution_count": null,
   "id": "7428718f-b701-45e8-bfa3-5fc02c9db2a6",
   "metadata": {},
   "outputs": [],
   "source": []
  },
  {
   "cell_type": "code",
   "execution_count": null,
   "id": "a9f28bdd-51f0-4dff-a6a8-0cbdd33ae73d",
   "metadata": {},
   "outputs": [],
   "source": [
    "# Cell 1 - Imports and Global Config\n",
    "import os, json, joblib, optuna, cv2, random\n",
    "import numpy as np\n",
    "from pathlib import Path\n",
    "import matplotlib.pyplot as plt\n",
    "import seaborn as sns\n",
    "\n",
    "from sklearn.neighbors import KNeighborsClassifier\n",
    "from sklearn.preprocessing import StandardScaler\n",
    "from sklearn.metrics import accuracy_score, classification_report, confusion_matrix\n",
    "\n",
    "from optuna.samplers import TPESampler\n",
    "from optuna.pruners import MedianPruner\n",
    "\n",
    "np.random.seed(42)\n",
    "random.seed(42)\n"
   ]
  },
  {
   "cell_type": "code",
   "execution_count": null,
   "id": "584d0167-ae55-4b36-8f23-52b3579ccbc5",
   "metadata": {},
   "outputs": [],
   "source": [
    "# Cell 2 - Path Setup and Dataset Loading\n",
    "projectRoot = Path().resolve().parent\n",
    "outputRoot = projectRoot / \"ModifiedDataset\"\n",
    "\n",
    "trainImagePath = outputRoot / \"train\" / \"images\"\n",
    "trainLabelPath = outputRoot / \"train\" / \"labels\"\n",
    "augImagePath = outputRoot / \"AugmentedData\" / \"images\"\n",
    "augLabelPath = outputRoot / \"AugmentedData\" / \"labels\"\n",
    "testImagePath = outputRoot / \"test\" / \"images\"\n",
    "testLabelPath = outputRoot / \"test\" / \"labels\"\n",
    "\n",
    "with open(outputRoot / \"kfold_splits.json\", \"r\") as f:\n",
    "    kfold_splits = json.load(f)\n",
    "\n",
    "def load_dataset(image_dir, label_dir):\n",
    "    paths, labels = [], []\n",
    "    for fname in sorted(os.listdir(image_dir)):\n",
    "        if fname.endswith('.jpeg'):\n",
    "            paths.append(str(image_dir / fname))\n",
    "            with open(label_dir / fname.replace('.jpeg', '.txt')) as f:\n",
    "                labels.append(int(f.read().strip()))\n",
    "    return paths, np.array(labels)\n",
    "\n",
    "train_paths, train_labels = load_dataset(trainImagePath, trainLabelPath)\n",
    "aug_paths, aug_labels = load_dataset(augImagePath, augLabelPath)\n",
    "test_paths, test_labels = load_dataset(testImagePath, testLabelPath)\n",
    "\n",
    "all_paths = train_paths + aug_paths\n",
    "all_labels = np.concatenate([train_labels, aug_labels])\n"
   ]
  },
  {
   "cell_type": "code",
   "execution_count": null,
   "id": "c03f64e6-0218-466b-b1c4-b36c4bff576b",
   "metadata": {},
   "outputs": [],
   "source": [
    "# Cell 3 - HOG Feature Extraction Function\n",
    "def extract_hog_features(paths, orientations, ppc, cpb, stride):\n",
    "    block_width = ppc[0] * cpb[0]\n",
    "    block_height = ppc[1] * cpb[1]\n",
    "    if block_width > 64 or block_height > 64 or stride[0] > ppc[0] or stride[1] > ppc[1]:\n",
    "        raise optuna.exceptions.TrialPruned()\n",
    "\n",
    "    hog = cv2.HOGDescriptor(\n",
    "        _winSize=(64, 64),\n",
    "        _blockSize=(block_width, block_height),\n",
    "        _blockStride=stride,\n",
    "        _cellSize=ppc,\n",
    "        _nbins=orientations\n",
    "    )\n",
    "    features = []\n",
    "    for path in paths:\n",
    "        img = cv2.imread(path, cv2.IMREAD_GRAYSCALE)\n",
    "        img = cv2.resize(img, (64, 64))\n",
    "        features.append(hog.compute(img).flatten())\n",
    "    return np.array(features)\n"
   ]
  },
  {
   "cell_type": "code",
   "execution_count": null,
   "id": "1900db9f-5047-4c77-a776-22a4104f9fc5",
   "metadata": {},
   "outputs": [],
   "source": [
    "# Cell 4 - Optuna Objective Function\n",
    "def objective(trial):\n",
    "    orientations = trial.suggest_categorical(\"orientations\", [6, 8, 9, 10, 12])\n",
    "    ppc = (trial.suggest_categorical(\"ppc_x\", [4, 6, 8, 10]), trial.suggest_categorical(\"ppc_y\", [4, 6, 8, 10]))\n",
    "    cpb = (trial.suggest_categorical(\"cpb_x\", [2, 3, 4]), trial.suggest_categorical(\"cpb_y\", [2, 3, 4]))\n",
    "    stride = (trial.suggest_categorical(\"stride_x\", [4, 6, 8]), trial.suggest_categorical(\"stride_y\", [4, 6, 8]))\n",
    "    n_neighbors = trial.suggest_int(\"n_neighbors\", 1, 15)\n",
    "    weights = trial.suggest_categorical(\"weights\", [\"uniform\", \"distance\"])\n",
    "    metric = trial.suggest_categorical(\"metric\", [\"euclidean\", \"manhattan\", \"chebyshev\", \"minkowski\"])\n",
    "\n",
    "    try:\n",
    "        features = extract_hog_features(all_paths, orientations, ppc, cpb, stride)\n",
    "    except:\n",
    "        raise optuna.exceptions.TrialPruned()\n",
    "\n",
    "    scaler = StandardScaler()\n",
    "    features = scaler.fit_transform(features)\n",
    "\n",
    "    fold_accs = []\n",
    "    for fold in kfold_splits:\n",
    "        train_idx = kfold_splits[fold]['train']\n",
    "        val_idx = kfold_splits[fold]['val']\n",
    "\n",
    "        X_train, y_train = features[train_idx], all_labels[train_idx]\n",
    "        X_val, y_val = features[val_idx], all_labels[val_idx]\n",
    "\n",
    "        model = KNeighborsClassifier(n_neighbors=n_neighbors, weights=weights, metric=metric)\n",
    "        model.fit(X_train, y_train)\n",
    "        acc = accuracy_score(y_val, model.predict(X_val))\n",
    "        fold_accs.append(acc)\n",
    "\n",
    "        trial.report(acc, step=int(fold))\n",
    "        if trial.should_prune():\n",
    "            raise optuna.exceptions.TrialPruned()\n",
    "\n",
    "    mean_acc = np.mean(fold_accs)\n",
    "    print(f\"Trial {trial.number} - Acc: {mean_acc:.4f} - Params: {trial.params}\")\n",
    "    return mean_acc\n"
   ]
  },
  {
   "cell_type": "code",
   "execution_count": null,
   "id": "84494e52-e9df-4c7d-a818-c26b7ff94298",
   "metadata": {},
   "outputs": [],
   "source": [
    "# Cell 5 - Run Optuna Search\n",
    "study = optuna.create_study(direction=\"maximize\", sampler=TPESampler(seed=42), pruner=MedianPruner())\n",
    "study.optimize(objective, n_trials=300)\n",
    "\n",
    "best_params = study.best_params\n",
    "print(\"\\nBest Parameters:\", best_params)\n"
   ]
  },
  {
   "cell_type": "code",
   "execution_count": null,
   "id": "509531f5-0517-4ce3-9682-31bb008b23b0",
   "metadata": {},
   "outputs": [],
   "source": [
    "# Cell 6 - Final Feature Extraction & Scaling\n",
    "ppc = (best_params[\"ppc_x\"], best_params[\"ppc_y\"])\n",
    "cpb = (best_params[\"cpb_x\"], best_params[\"cpb_y\"])\n",
    "stride = (best_params[\"stride_x\"], best_params[\"stride_y\"])\n",
    "orientations = best_params[\"orientations\"]\n",
    "\n",
    "hog_train = extract_hog_features(all_paths, orientations, ppc, cpb, stride)\n",
    "hog_test = extract_hog_features(test_paths, orientations, ppc, cpb, stride)\n",
    "\n",
    "scaler = StandardScaler()\n",
    "hog_train = scaler.fit_transform(hog_train)\n",
    "hog_test = scaler.transform(hog_test)\n"
   ]
  },
  {
   "cell_type": "code",
   "execution_count": null,
   "id": "7b2e5c88-16b1-4e7b-8f36-81961334bce9",
   "metadata": {},
   "outputs": [],
   "source": [
    "# Cell 7 - Save Artifacts\n",
    "model_dir = projectRoot / \"models\"\n",
    "model_dir.mkdir(exist_ok=True)\n",
    "\n",
    "joblib.dump(best_params, model_dir / \"knn_hog_best_params.joblib\")\n",
    "joblib.dump(scaler, model_dir / \"knn_hog_scaler.joblib\")\n",
    "np.save(model_dir / \"knn_hog_train_features.npy\", hog_train)\n",
    "np.save(model_dir / \"knn_hog_test_features.npy\", hog_test)\n"
   ]
  },
  {
   "cell_type": "code",
   "execution_count": null,
   "id": "4a48c95e-2d4d-412e-a39a-1bb25730b715",
   "metadata": {},
   "outputs": [],
   "source": [
    "# Cell 8 - Validation Evaluation\n",
    "val_preds, val_targets = [], []\n",
    "\n",
    "for fold in kfold_splits:\n",
    "    train_idx = kfold_splits[fold]['train']\n",
    "    val_idx = kfold_splits[fold]['val']\n",
    "\n",
    "    X_train, y_train = hog_train[train_idx], all_labels[train_idx]\n",
    "    X_val, y_val = hog_train[val_idx], all_labels[val_idx]\n",
    "\n",
    "    model = KNeighborsClassifier(\n",
    "        n_neighbors=best_params['n_neighbors'],\n",
    "        weights=best_params['weights'],\n",
    "        metric=best_params['metric']\n",
    "    )\n",
    "    model.fit(X_train, y_train)\n",
    "    val_preds.extend(model.predict(X_val))\n",
    "    val_targets.extend(y_val)\n",
    "\n",
    "val_acc = accuracy_score(val_targets, val_preds)\n",
    "print(\"Validation Accuracy:\", val_acc)\n",
    "print(classification_report(val_targets, val_preds, target_names=[\"No Mask\", \"Mask\", \"Improper Mask\"]))\n"
   ]
  },
  {
   "cell_type": "code",
   "execution_count": null,
   "id": "04fcfa57-12b8-4716-a40c-e0c126c00271",
   "metadata": {},
   "outputs": [],
   "source": [
    "# Cell 9 - Test Evaluation\n",
    "final_model = KNeighborsClassifier(\n",
    "    n_neighbors=best_params['n_neighbors'],\n",
    "    weights=best_params['weights'],\n",
    "    metric=best_params['metric']\n",
    ")\n",
    "final_model.fit(hog_train, all_labels)\n",
    "test_preds = final_model.predict(hog_test)\n",
    "\n",
    "test_acc = accuracy_score(test_labels, test_preds)\n",
    "print(\"Test Accuracy:\", test_acc)\n",
    "print(classification_report(test_labels, test_preds, target_names=[\"No Mask\", \"Mask\", \"Improper Mask\"]))\n",
    "\n",
    "cm = confusion_matrix(test_labels, test_preds)\n",
    "plt.figure(figsize=(6, 5))\n",
    "sns.heatmap(cm, annot=True, fmt=\"d\", cmap=\"Blues\",\n",
    "            xticklabels=[\"No Mask\", \"Mask\", \"Improper Mask\"],\n",
    "            yticklabels=[\"No Mask\", \"Mask\", \"Improper Mask\"])\n",
    "plt.title(\"KNN + HOG - Test Confusion Matrix\")\n",
    "plt.xlabel(\"Predicted\")\n",
    "plt.ylabel(\"True\")\n",
    "plt.tight_layout()\n",
    "plt.show()\n"
   ]
  },
  {
   "cell_type": "code",
   "execution_count": null,
   "id": "febe0daa-2b57-4917-8550-5df1d574090f",
   "metadata": {},
   "outputs": [],
   "source": []
  },
  {
   "cell_type": "code",
   "execution_count": null,
   "id": "500404a6-ef09-4e58-b843-e018d47e1198",
   "metadata": {},
   "outputs": [],
   "source": []
  },
  {
   "cell_type": "code",
   "execution_count": null,
   "id": "ede59ee0-7b51-4859-b21d-f27cf5145d4d",
   "metadata": {},
   "outputs": [],
   "source": []
  }
 ],
 "metadata": {
  "kernelspec": {
   "display_name": "Python (ml-env)",
   "language": "python",
   "name": "ml-env"
  },
  "language_info": {
   "codemirror_mode": {
    "name": "ipython",
    "version": 3
   },
   "file_extension": ".py",
   "mimetype": "text/x-python",
   "name": "python",
   "nbconvert_exporter": "python",
   "pygments_lexer": "ipython3",
   "version": "3.10.12"
  }
 },
 "nbformat": 4,
 "nbformat_minor": 5
}
